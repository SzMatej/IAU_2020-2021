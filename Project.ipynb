{
 "cells": [
  {
   "cell_type": "code",
   "execution_count": 2,
   "metadata": {},
   "outputs": [],
   "source": [
    "import pandas as pd\n",
    "import numpy as np\n",
    "import matplotlib.pyplot as plt\n",
    "import scipy.stats as sc\n",
    "import io\n",
    "import requests\n",
    "\n",
    "url1 = \"https://raw.githubusercontent.com/SzMatej/IAU_2020-2021/main/65/other_train.csv\"\n",
    "url2 = \"https://raw.githubusercontent.com/SzMatej/IAU_2020-2021/main/65/personal_train.csv\"\n",
    "\n",
    "db1 = requests.get(url1).content\n",
    "db2 = requests.get(url2).content\n",
    "train = pd.read_csv(io.StringIO(db1.decode('utf-8')))\n",
    "other = pd.read_csv(io.StringIO(db2.decode('utf-8')))"
   ]
  },
  {
   "cell_type": "code",
   "execution_count": 3,
   "metadata": {},
   "outputs": [
    {
     "data": {
      "text/html": [
       "<div>\n",
       "<style scoped>\n",
       "    .dataframe tbody tr th:only-of-type {\n",
       "        vertical-align: middle;\n",
       "    }\n",
       "\n",
       "    .dataframe tbody tr th {\n",
       "        vertical-align: top;\n",
       "    }\n",
       "\n",
       "    .dataframe thead th {\n",
       "        text-align: right;\n",
       "    }\n",
       "</style>\n",
       "<table border=\"1\" class=\"dataframe\">\n",
       "  <thead>\n",
       "    <tr style=\"text-align: right;\">\n",
       "      <th></th>\n",
       "      <th>Unnamed: 0</th>\n",
       "      <th>name</th>\n",
       "      <th>address</th>\n",
       "      <th>race</th>\n",
       "      <th>marital-status</th>\n",
       "      <th>occupation</th>\n",
       "      <th>pregnant</th>\n",
       "      <th>education-num</th>\n",
       "      <th>relationship</th>\n",
       "      <th>capital-gain</th>\n",
       "      <th>education</th>\n",
       "      <th>fnlwgt</th>\n",
       "      <th>class</th>\n",
       "      <th>income</th>\n",
       "      <th>medical_info</th>\n",
       "      <th>native-country</th>\n",
       "      <th>hours-per-week</th>\n",
       "      <th>capital-loss</th>\n",
       "      <th>workclass</th>\n",
       "    </tr>\n",
       "  </thead>\n",
       "  <tbody>\n",
       "    <tr>\n",
       "      <th>0</th>\n",
       "      <td>0</td>\n",
       "      <td>Jason Michaels</td>\n",
       "      <td>498 Kristin Courts Apt. 179\\nWest Teresaport, ...</td>\n",
       "      <td>White</td>\n",
       "      <td>Married-civ-spouse</td>\n",
       "      <td>Prof-specialty</td>\n",
       "      <td>t</td>\n",
       "      <td>14.0</td>\n",
       "      <td>Husband</td>\n",
       "      <td>0.0</td>\n",
       "      <td>Masters</td>\n",
       "      <td>270092.0</td>\n",
       "      <td>0.0</td>\n",
       "      <td>&gt;50K</td>\n",
       "      <td>{'mean_glucose':'111.8125','std_glucose':'44.8...</td>\n",
       "      <td>United-States</td>\n",
       "      <td>40.0</td>\n",
       "      <td>0.0</td>\n",
       "      <td>Private</td>\n",
       "    </tr>\n",
       "    <tr>\n",
       "      <th>1</th>\n",
       "      <td>1</td>\n",
       "      <td>Thomas Flynn</td>\n",
       "      <td>92949 Wall Drives Apt. 679\\nNew Tinaburgh, MT ...</td>\n",
       "      <td>White</td>\n",
       "      <td>Married-civ-spouse</td>\n",
       "      <td>Sales</td>\n",
       "      <td>f</td>\n",
       "      <td>10.0</td>\n",
       "      <td>Husband</td>\n",
       "      <td>0.0</td>\n",
       "      <td>Some-college</td>\n",
       "      <td>34278.0</td>\n",
       "      <td>1.0</td>\n",
       "      <td>&gt;50K</td>\n",
       "      <td>{'mean_glucose':'71.3984375','std_glucose':'47...</td>\n",
       "      <td>United-States</td>\n",
       "      <td>50.0</td>\n",
       "      <td>0.0</td>\n",
       "      <td>Private</td>\n",
       "    </tr>\n",
       "    <tr>\n",
       "      <th>2</th>\n",
       "      <td>2</td>\n",
       "      <td>John Cato</td>\n",
       "      <td>99749 Michael Unions\\nScottstad, IN 48755</td>\n",
       "      <td>White</td>\n",
       "      <td>Married-civ-spouse</td>\n",
       "      <td>Prof-specialty</td>\n",
       "      <td>f</td>\n",
       "      <td>14.0</td>\n",
       "      <td>Husband</td>\n",
       "      <td>0.0</td>\n",
       "      <td>Masters</td>\n",
       "      <td>107302.0</td>\n",
       "      <td>1.0</td>\n",
       "      <td>&gt;50K</td>\n",
       "      <td>{'mean_glucose':'102.796875','std_glucose':'37...</td>\n",
       "      <td>United-States</td>\n",
       "      <td>60.0</td>\n",
       "      <td>0.0</td>\n",
       "      <td>Private</td>\n",
       "    </tr>\n",
       "    <tr>\n",
       "      <th>3</th>\n",
       "      <td>3</td>\n",
       "      <td>John Mcdonald</td>\n",
       "      <td>241 Michael Plains\\nPort Stephanie, OH 65606</td>\n",
       "      <td>White</td>\n",
       "      <td>Married-civ-spouse</td>\n",
       "      <td>Adm-clerical</td>\n",
       "      <td>f</td>\n",
       "      <td>13.0</td>\n",
       "      <td>Husband</td>\n",
       "      <td>0.0</td>\n",
       "      <td>Bachelors</td>\n",
       "      <td>51089.0</td>\n",
       "      <td>1.0</td>\n",
       "      <td>&gt;50K</td>\n",
       "      <td>{'mean_glucose':'54.2578125','std_glucose':'41...</td>\n",
       "      <td>United-States</td>\n",
       "      <td>50.0</td>\n",
       "      <td>0.0</td>\n",
       "      <td>Federal-gov</td>\n",
       "    </tr>\n",
       "    <tr>\n",
       "      <th>4</th>\n",
       "      <td>4</td>\n",
       "      <td>Daniel Arreola</td>\n",
       "      <td>4206 Tiffany Land Apt. 402\\nSouth Michael, SC ...</td>\n",
       "      <td>White</td>\n",
       "      <td>Married-civ-spouse</td>\n",
       "      <td>Sales</td>\n",
       "      <td>FALSE</td>\n",
       "      <td>10.0</td>\n",
       "      <td>Husband</td>\n",
       "      <td>0.0</td>\n",
       "      <td>Some-college</td>\n",
       "      <td>32950.0</td>\n",
       "      <td>0.0</td>\n",
       "      <td>&lt;=50K</td>\n",
       "      <td>{'mean_glucose':'125.4921875','std_glucose':'5...</td>\n",
       "      <td>United-States</td>\n",
       "      <td>37.0</td>\n",
       "      <td>1902.0</td>\n",
       "      <td>Federal-gov</td>\n",
       "    </tr>\n",
       "  </tbody>\n",
       "</table>\n",
       "</div>"
      ],
      "text/plain": [
       "   Unnamed: 0            name  \\\n",
       "0           0  Jason Michaels   \n",
       "1           1    Thomas Flynn   \n",
       "2           2       John Cato   \n",
       "3           3   John Mcdonald   \n",
       "4           4  Daniel Arreola   \n",
       "\n",
       "                                             address    race  \\\n",
       "0  498 Kristin Courts Apt. 179\\nWest Teresaport, ...   White   \n",
       "1  92949 Wall Drives Apt. 679\\nNew Tinaburgh, MT ...   White   \n",
       "2          99749 Michael Unions\\nScottstad, IN 48755   White   \n",
       "3       241 Michael Plains\\nPort Stephanie, OH 65606   White   \n",
       "4  4206 Tiffany Land Apt. 402\\nSouth Michael, SC ...   White   \n",
       "\n",
       "        marital-status       occupation pregnant  education-num relationship  \\\n",
       "0   Married-civ-spouse   Prof-specialty        t           14.0      Husband   \n",
       "1   Married-civ-spouse            Sales        f           10.0      Husband   \n",
       "2   Married-civ-spouse   Prof-specialty        f           14.0      Husband   \n",
       "3   Married-civ-spouse     Adm-clerical        f           13.0      Husband   \n",
       "4   Married-civ-spouse            Sales    FALSE           10.0      Husband   \n",
       "\n",
       "   capital-gain      education    fnlwgt  class  income  \\\n",
       "0           0.0        Masters  270092.0    0.0    >50K   \n",
       "1           0.0   Some-college   34278.0    1.0    >50K   \n",
       "2           0.0        Masters  107302.0    1.0    >50K   \n",
       "3           0.0      Bachelors   51089.0    1.0    >50K   \n",
       "4           0.0   Some-college   32950.0    0.0   <=50K   \n",
       "\n",
       "                                        medical_info  native-country  \\\n",
       "0  {'mean_glucose':'111.8125','std_glucose':'44.8...   United-States   \n",
       "1  {'mean_glucose':'71.3984375','std_glucose':'47...   United-States   \n",
       "2  {'mean_glucose':'102.796875','std_glucose':'37...   United-States   \n",
       "3  {'mean_glucose':'54.2578125','std_glucose':'41...   United-States   \n",
       "4  {'mean_glucose':'125.4921875','std_glucose':'5...   United-States   \n",
       "\n",
       "   hours-per-week  capital-loss     workclass  \n",
       "0            40.0           0.0       Private  \n",
       "1            50.0           0.0       Private  \n",
       "2            60.0           0.0       Private  \n",
       "3            50.0           0.0   Federal-gov  \n",
       "4            37.0        1902.0   Federal-gov  "
      ]
     },
     "execution_count": 3,
     "metadata": {},
     "output_type": "execute_result"
    }
   ],
   "source": [
    "train.head()"
   ]
  },
  {
   "cell_type": "code",
   "execution_count": 4,
   "metadata": {},
   "outputs": [
    {
     "name": "stdout",
     "output_type": "stream",
     "text": [
      "<class 'pandas.core.frame.DataFrame'>\n",
      "RangeIndex: 3983 entries, 0 to 3982\n",
      "Data columns (total 19 columns):\n",
      " #   Column          Non-Null Count  Dtype  \n",
      "---  ------          --------------  -----  \n",
      " 0   Unnamed: 0      3983 non-null   int64  \n",
      " 1   name            3983 non-null   object \n",
      " 2   address         3983 non-null   object \n",
      " 3   race            3960 non-null   object \n",
      " 4   marital-status  3967 non-null   object \n",
      " 5   occupation      3962 non-null   object \n",
      " 6   pregnant        3969 non-null   object \n",
      " 7   education-num   3569 non-null   float64\n",
      " 8   relationship    3967 non-null   object \n",
      " 9   capital-gain    3963 non-null   float64\n",
      " 10  education       3968 non-null   object \n",
      " 11  fnlwgt          3965 non-null   float64\n",
      " 12  class           3964 non-null   float64\n",
      " 13  income          3968 non-null   object \n",
      " 14  medical_info    3965 non-null   object \n",
      " 15  native-country  3969 non-null   object \n",
      " 16  hours-per-week  3961 non-null   float64\n",
      " 17  capital-loss    3968 non-null   float64\n",
      " 18  workclass       3971 non-null   object \n",
      "dtypes: float64(6), int64(1), object(12)\n",
      "memory usage: 591.4+ KB\n"
     ]
    }
   ],
   "source": [
    "train.info()"
   ]
  },
  {
   "cell_type": "code",
   "execution_count": 5,
   "metadata": {},
   "outputs": [
    {
     "name": "stdout",
     "output_type": "stream",
     "text": [
      "name\n",
      "['Jason Michaels' 'Thomas Flynn' 'John Cato' ... 'Alexander Ramon'\n",
      " 'Ismael Petronella' 'Robert Edge']\n",
      "\n",
      "address\n",
      "['498 Kristin Courts Apt. 179\\nWest Teresaport, MS 31418'\n",
      " '92949 Wall Drives Apt. 679\\nNew Tinaburgh, MT 94939'\n",
      " '99749 Michael Unions\\nScottstad, IN 48755' ...\n",
      " '80904 Johnson Forks\\nEast Johnnychester, NE 59766'\n",
      " '944 Carrie Mall Apt. 017\\nWilsonmouth, MO 77627'\n",
      " '29674 Debra Brooks Suite 737\\nWest Melissa, OH 58782']\n",
      "\n",
      "race\n",
      "[' White' ' Black' ' Other' ' Amer-Indian-Eskimo' nan\n",
      " ' Asian-Pac-Islander']\n",
      "\n",
      "marital-status\n",
      "[' Married-civ-spouse' ' Never-married' ' Separated' ' Divorced'\n",
      " ' Married-spouse-absent' ' Widowed' nan ' Married-AF-spouse']\n",
      "\n",
      "occupation\n",
      "[' Prof-specialty' ' Sales' ' Adm-clerical' ' Craft_repair'\n",
      " ' Prof_specialty' ' Priv-house-serv' ' ?' ' Craft-repair'\n",
      " ' Other-service' ' Exec-managerial' ' Farming-fishing'\n",
      " ' Machine_op_inspct' ' Transport_moving' ' Handlers-cleaners'\n",
      " ' Transport-moving' ' Tech-support' ' Other_service' ' Exec_managerial'\n",
      " ' Farming_fishing' ' Machine-op-inspct' ' Protective-serv'\n",
      " ' Tech_support' nan ' Armed-Forces' ' Adm_clerical' ' Priv_house_serv'\n",
      " ' Handlers_cleaners' ' Protective_serv']\n",
      "\n",
      "pregnant\n",
      "['t' 'f' 'FALSE' 'F' nan 'TRUE' 'T']\n",
      "\n",
      "relationship\n",
      "[' Husband' ' Not-in-family' ' Unmarried' ' Wife' ' Own-child' nan\n",
      " ' Other-relative']\n",
      "\n",
      "education\n",
      "[' Masters' ' Some-college' ' Bachelors' ' HS-grad' ' 7th-8th'\n",
      " ' Assoc-voc' ' Prof-school' ' 11th' ' 9th' ' 10th' ' Assoc-acdm' ' 12th'\n",
      " ' 5th-6th' nan ' Doctorate' ' 1st-4th' ' Preschool']\n",
      "\n",
      "income\n",
      "[' >50K' ' <=50K' nan]\n",
      "\n",
      "medical_info\n",
      "[\"{'mean_glucose':'111.8125','std_glucose':'44.88174566','kurtosis_glucose':'0.423867091','skewness_glucose':'0.239944007','mean_oxygen':'2.465719064','std_oxygen':'17.28981747','kurtosis_oxygen':'8.636118173','skewness_oxygen':'85.60462065'}\"\n",
      " \"{'mean_glucose':'71.3984375','std_glucose':'47.29517349','kurtosis_glucose':'1.317459045','skewness_glucose':'2.340411994','mean_oxygen':'17.114548499999998','std_oxygen':'46.86283003','kurtosis_oxygen':'3.070346153','skewness_oxygen':'9.405187883'}\"\n",
      " \"{'mean_glucose':'102.796875','std_glucose':'37.5346422','kurtosis_glucose':'0.382097319','skewness_glucose':'1.3556516','mean_oxygen':'2.706521739','std_oxygen':'19.87410184','kurtosis_oxygen':'7.955209532','skewness_oxygen':'67.64902246'}\"\n",
      " ...\n",
      " \"{'mean_glucose':'129.90625','std_glucose':'48.62217818','kurtosis_glucose':'0.038773097','skewness_glucose':'-0.17251288','mean_oxygen':'3.319397993','std_oxygen':'22.72505413','kurtosis_oxygen':'8.750496392','skewness_oxygen':'81.21538915'}\"\n",
      " \"{'mean_glucose':'92.265625','std_glucose':'35.87466994','kurtosis_glucose':'1.594314915','skewness_glucose':'5.566536879','mean_oxygen':'14.13545151','std_oxygen':'46.20425114','kurtosis_oxygen':'3.414493912','skewness_oxygen':'10.65625321'}\"\n",
      " \"{'mean_glucose':'116.8515625','std_glucose':'52.05902447','kurtosis_glucose':'0.113621517','skewness_glucose':'-0.32555369300000003','mean_oxygen':'3.882943144','std_oxygen':'23.58584995','kurtosis_oxygen':'7.216190157000001','skewness_oxygen':'57.18259826'}\"]\n",
      "\n",
      "native-country\n",
      "[' United-States' ' ?' ' Poland' ' Hungary' ' Dominican-Republic'\n",
      " ' El-Salvador' ' Mexico' ' Philippines' ' Italy' ' China' ' Laos'\n",
      " ' Scotland' ' Canada' ' Germany' ' Taiwan' ' France' ' Vietnam'\n",
      " ' England' ' Columbia' ' Cambodia' ' Iran' ' Puerto-Rico' ' Japan' nan\n",
      " ' Haiti' ' Thailand' ' Nicaragua' ' Hong' ' Cuba' ' Greece' ' Ecuador'\n",
      " ' Jamaica' ' South' ' Guatemala' ' India' ' Portugal' ' Peru'\n",
      " ' Trinadad&Tobago' ' Ireland' ' Honduras' ' Yugoslavia']\n",
      "\n",
      "workclass\n",
      "[' Private' ' Federal-gov' ' Self-emp-not-inc' ' ?' ' Self-emp-inc'\n",
      " 'local-gov' ' Local-gov' ' State-gov' 'private' 'self-emp-not-inc' nan\n",
      " '?' 'self-emp-inc' 'federal-gov' 'state-gov' ' Never-worked']\n",
      "\n"
     ]
    }
   ],
   "source": [
    "for x in train.columns:\n",
    "    if (train[x].dtype == 'O'):\n",
    "        print(x)\n",
    "        print(train[x].unique())\n",
    "        print()"
   ]
  },
  {
   "cell_type": "code",
   "execution_count": 6,
   "metadata": {},
   "outputs": [
    {
     "data": {
      "text/plain": [
       "Unnamed: 0          0\n",
       "name                0\n",
       "address             0\n",
       "race               23\n",
       "marital-status     16\n",
       "occupation         21\n",
       "pregnant           14\n",
       "education-num     414\n",
       "relationship       16\n",
       "capital-gain       20\n",
       "education          15\n",
       "fnlwgt             18\n",
       "class              19\n",
       "income             15\n",
       "medical_info       18\n",
       "native-country     14\n",
       "hours-per-week     22\n",
       "capital-loss       15\n",
       "workclass          12\n",
       "dtype: int64"
      ]
     },
     "execution_count": 6,
     "metadata": {},
     "output_type": "execute_result"
    }
   ],
   "source": [
    "train.isnull().sum()"
   ]
  },
  {
   "cell_type": "code",
   "execution_count": 22,
   "metadata": {},
   "outputs": [
    {
     "data": {
      "text/plain": [
       "<AxesSubplot:>"
      ]
     },
     "execution_count": 22,
     "metadata": {},
     "output_type": "execute_result"
    },
    {
     "data": {
      "image/png": "[encoded data removed]",
      "text/plain": [
       "<Figure size 432x288 with 1 Axes>"
      ]
     },
     "metadata": {
      "needs_background": "light"
     },
     "output_type": "display_data"
    }
   ],
   "source": [
    "train[\"capital-gain\"].hist(bins=3)"
   ]
  },
  {
   "cell_type": "code",
   "execution_count": 14,
   "metadata": {},
   "outputs": [
    {
     "data": {
      "text/plain": [
       "array([[<AxesSubplot:title={'center':'capital-gain'}>]], dtype=object)"
      ]
     },
     "execution_count": 14,
     "metadata": {},
     "output_type": "execute_result"
    },
    {
     "data": {
      "image/png": "[encoded data removed]",
      "text/plain": [
       "<Figure size 432x288 with 1 Axes>"
      ]
     },
     "metadata": {
      "needs_background": "light"
     },
     "output_type": "display_data"
    }
   ],
   "source": [
    "train[train[\"capital-gain\"] != 0.0].hist(\"capital-gain\")"
   ]
  },
  {
   "cell_type": "code",
   "execution_count": null,
   "metadata": {},
   "outputs": [],
   "source": []
  }
 ],
 "metadata": {
  "kernelspec": {
   "display_name": "Python 3",
   "language": "python",
   "name": "python3"
  },
  "language_info": {
   "codemirror_mode": {
    "name": "ipython",
    "version": 3
   },
   "file_extension": ".py",
   "mimetype": "text/x-python",
   "name": "python",
   "nbconvert_exporter": "python",
   "pygments_lexer": "ipython3",
   "version": "3.8.2"
  }
 },
 "nbformat": 4,
 "nbformat_minor": 4
}
