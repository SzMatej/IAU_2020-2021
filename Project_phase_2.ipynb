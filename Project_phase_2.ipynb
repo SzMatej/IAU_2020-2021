{
 "cells": [
  {
   "cell_type": "code",
   "execution_count": 1971,
   "metadata": {},
   "outputs": [],
   "source": [
    "import pandas as pd\n",
    "import numpy as np\n",
    "import seaborn as sns\n",
    "import matplotlib.pyplot as plt\n",
    "import scipy.stats as sc\n",
    "import io\n",
    "import requests\n",
    "import statsmodels.api as sm\n",
    "\n",
    "url1 = \"https://raw.githubusercontent.com/SzMatej/IAU_2020-2021/main/65/other_train.csv\"\n",
    "url2 = \"https://raw.githubusercontent.com/SzMatej/IAU_2020-2021/main/65/personal_train.csv\"\n",
    "\n",
    "db1 = requests.get(url1).content\n",
    "db2 = requests.get(url2).content\n",
    "train = pd.read_csv(io.StringIO(db1.decode('utf-8')))\n",
    "other = pd.read_csv(io.StringIO(db2.decode('utf-8')))"
   ]
  },
  {
   "cell_type": "code",
   "execution_count": 1972,
   "metadata": {},
   "outputs": [
    {
     "name": "stdout",
     "output_type": "stream",
     "text": [
      "3983\n"
     ]
    }
   ],
   "source": [
    "data = pd.merge(train,other,on=['name','address'], how = 'outer')\n",
    "\n",
    "print(len(data))"
   ]
  },
  {
   "cell_type": "code",
   "execution_count": 1973,
   "metadata": {},
   "outputs": [
    {
     "name": "stdout",
     "output_type": "stream",
     "text": [
      "<class 'pandas.core.frame.DataFrame'>\n",
      "Int64Index: 3983 entries, 0 to 3982\n",
      "Data columns (total 23 columns):\n",
      " #   Column          Non-Null Count  Dtype  \n",
      "---  ------          --------------  -----  \n",
      " 0   Unnamed: 0_x    3983 non-null   int64  \n",
      " 1   name            3983 non-null   object \n",
      " 2   address         3983 non-null   object \n",
      " 3   race            3960 non-null   object \n",
      " 4   marital-status  3967 non-null   object \n",
      " 5   occupation      3962 non-null   object \n",
      " 6   pregnant        3969 non-null   object \n",
      " 7   education-num   3569 non-null   float64\n",
      " 8   relationship    3967 non-null   object \n",
      " 9   capital-gain    3963 non-null   float64\n",
      " 10  education       3968 non-null   object \n",
      " 11  fnlwgt          3965 non-null   float64\n",
      " 12  class           3964 non-null   float64\n",
      " 13  income          3968 non-null   object \n",
      " 14  medical_info    3965 non-null   object \n",
      " 15  native-country  3969 non-null   object \n",
      " 16  hours-per-week  3961 non-null   float64\n",
      " 17  capital-loss    3968 non-null   float64\n",
      " 18  workclass       3971 non-null   object \n",
      " 19  Unnamed: 0_y    3983 non-null   int64  \n",
      " 20  age             3715 non-null   object \n",
      " 21  sex             3983 non-null   object \n",
      " 22  date_of_birth   3983 non-null   object \n",
      "dtypes: float64(6), int64(2), object(15)\n",
      "memory usage: 746.8+ KB\n"
     ]
    }
   ],
   "source": [
    "data.info()"
   ]
  },
  {
   "cell_type": "markdown",
   "metadata": {},
   "source": [
    "### atribút pregnant\n",
    "\n",
    "Upravíme boolean hodnoty v datasete tak že ich nahradíme číselnou reprezentáciou.\n",
    "Taktiež nastavíme všetky hodnoty tohto atribútu u mužov na 0."
   ]
  },
  {
   "cell_type": "code",
   "execution_count": 1974,
   "metadata": {},
   "outputs": [],
   "source": [
    "def sanitize_boolean(boolean):\n",
    "    try:\n",
    "        if boolean.strip() in ['f','F','FALSE','false','False']:\n",
    "            return 0\n",
    "        elif boolean.strip() in ['t','T','TRUE','true','True']:\n",
    "            return 1\n",
    "        else:\n",
    "            return np.nan\n",
    "    except AttributeError:\n",
    "        return np.nan"
   ]
  },
  {
   "cell_type": "code",
   "execution_count": 1975,
   "metadata": {},
   "outputs": [],
   "source": [
    "data.pregnant = data.pregnant.map(sanitize_boolean)"
   ]
  },
  {
   "cell_type": "code",
   "execution_count": 1976,
   "metadata": {},
   "outputs": [],
   "source": [
    "def sanitize_pregnancy(data):\n",
    "    data.loc[(data.sex == 1),'pregnant'] = 0\n",
    "    return data\n",
    "\n",
    "data = sanitize_pregnancy(data)"
   ]
  },
  {
   "cell_type": "markdown",
   "metadata": {},
   "source": [
    "### atribút sex\n",
    "\n",
    "Tento atribút neobsahuje žiadne prázdne hodnoty. Pri tomto atribúte treba len dané hodnoty prekonvertovať na numerické hodnoty."
   ]
  },
  {
   "cell_type": "code",
   "execution_count": 1977,
   "metadata": {},
   "outputs": [
    {
     "data": {
      "text/plain": [
       "array([' Male', ' Female'], dtype=object)"
      ]
     },
     "execution_count": 1977,
     "metadata": {},
     "output_type": "execute_result"
    }
   ],
   "source": [
    "data.sex.unique()"
   ]
  },
  {
   "cell_type": "code",
   "execution_count": 1978,
   "metadata": {},
   "outputs": [],
   "source": [
    "def sanitize_sex(sex):\n",
    "    return 1 if sex.strip() == 'Male' else 0"
   ]
  },
  {
   "cell_type": "code",
   "execution_count": 1979,
   "metadata": {},
   "outputs": [],
   "source": [
    "data.sex = data.sex.map(lambda sex: sanitize_sex(sex))"
   ]
  },
  {
   "cell_type": "code",
   "execution_count": 1980,
   "metadata": {},
   "outputs": [
    {
     "data": {
      "text/plain": [
       "array([1, 0], dtype=int64)"
      ]
     },
     "execution_count": 1980,
     "metadata": {},
     "output_type": "execute_result"
    }
   ],
   "source": [
    "data.sex.unique()"
   ]
  },
  {
   "cell_type": "markdown",
   "metadata": {},
   "source": [
    "Hodnoty Male sme nahradili hodnotou 1 a naopak hodnotu female sme nahradili hodnotou 0"
   ]
  },
  {
   "cell_type": "markdown",
   "metadata": {},
   "source": [
    "### atribút age\n",
    "\n",
    "Pri tomto atribúte nahradíme záporné hodnoty na NaN. Takisto sa tu nachádzajú aj neznáme hodnoty ktoré sú reprezentované '??'. Tieto hodnoty taktiež nahradíme hodnotami NaN. Ďalej aby mali hodnoty jednotný dátový typ tak ich prekonvertujeme na numerickú hodnotu."
   ]
  },
  {
   "cell_type": "code",
   "execution_count": 1981,
   "metadata": {},
   "outputs": [
    {
     "data": {
      "text/plain": [
       "array(['53', '55', '65', '66', '37', '??', '42', nan, '57', '43', '56',\n",
       "       '25', '45', '58', '86', '48', '54', '67', '46', '73', '71', '59',\n",
       "       '64', '38', '62', '26', '70', '50', '52', '63', '61', '31', '30',\n",
       "       '29', '74', '83', '41', '69', '75', '49', '27', '44', '51', '34',\n",
       "       '60', '36', '40', '39', '15', '47', '20', '35', '32', '21', '68',\n",
       "       '78', '77', '33', '28', '19', '80', '18', '81', '85', '17', '76',\n",
       "       '9', '72', '7', '87', '24', '90', '3', '23', '79', '16', '22',\n",
       "       '82', '84', '14', '113', '93', '-1', '12', '99'], dtype=object)"
      ]
     },
     "execution_count": 1981,
     "metadata": {},
     "output_type": "execute_result"
    }
   ],
   "source": [
    "data.age.unique()"
   ]
  },
  {
   "cell_type": "code",
   "execution_count": 1982,
   "metadata": {},
   "outputs": [],
   "source": [
    "def sanitize_age(data):\n",
    "    data.loc[(data.age == '-1'),'age'] = np.nan\n",
    "    data.loc[(data.age == '??'),'age'] = np.nan\n",
    "    return data"
   ]
  },
  {
   "cell_type": "code",
   "execution_count": 1983,
   "metadata": {},
   "outputs": [],
   "source": [
    "data = sanitize_age(data)"
   ]
  },
  {
   "cell_type": "code",
   "execution_count": 1984,
   "metadata": {},
   "outputs": [],
   "source": [
    "def sanitize_number(number):\n",
    "    try:\n",
    "        sanitized = int(pd.to_numeric(number, errors=\"coerce\"))\n",
    "        return sanitized if sanitized > 0 else np.nan\n",
    "    except AttributeError:\n",
    "        return np.nan\n",
    "    except ValueError:\n",
    "        return np.nan"
   ]
  },
  {
   "cell_type": "code",
   "execution_count": 1985,
   "metadata": {},
   "outputs": [],
   "source": [
    "data.age = data.age.map(lambda age: sanitize_number(age))"
   ]
  },
  {
   "cell_type": "code",
   "execution_count": 1986,
   "metadata": {},
   "outputs": [
    {
     "data": {
      "text/plain": [
       "array([ 53.,  55.,  65.,  66.,  37.,  nan,  42.,  57.,  43.,  56.,  25.,\n",
       "        45.,  58.,  86.,  48.,  54.,  67.,  46.,  73.,  71.,  59.,  64.,\n",
       "        38.,  62.,  26.,  70.,  50.,  52.,  63.,  61.,  31.,  30.,  29.,\n",
       "        74.,  83.,  41.,  69.,  75.,  49.,  27.,  44.,  51.,  34.,  60.,\n",
       "        36.,  40.,  39.,  15.,  47.,  20.,  35.,  32.,  21.,  68.,  78.,\n",
       "        77.,  33.,  28.,  19.,  80.,  18.,  81.,  85.,  17.,  76.,   9.,\n",
       "        72.,   7.,  87.,  24.,  90.,   3.,  23.,  79.,  16.,  22.,  82.,\n",
       "        84.,  14., 113.,  93.,  12.,  99.])"
      ]
     },
     "execution_count": 1986,
     "metadata": {},
     "output_type": "execute_result"
    }
   ],
   "source": [
    "data.age.unique()"
   ]
  },
  {
   "cell_type": "code",
   "execution_count": 1987,
   "metadata": {},
   "outputs": [
    {
     "data": {
      "text/plain": [
       "400"
      ]
     },
     "execution_count": 1987,
     "metadata": {},
     "output_type": "execute_result"
    }
   ],
   "source": [
    "len(data[pd.isnull(data.age)])"
   ]
  },
  {
   "cell_type": "markdown",
   "metadata": {},
   "source": [
    "Sem vidíme že pri tomto atribúte sa vyskytuje furt veľa chýbajúcich hodnôt (400). Toto sa dá vyriešiť niekoľkými spôsobmi. Buď vieme túto hodnotu nahradiť priemerom podľa jeho vekovej kategórie čo je lahší spôsob alebo vieme túto hodnotu dopočítať podľa jeho dátumu narodenia."
   ]
  },
  {
   "cell_type": "markdown",
   "metadata": {},
   "source": [
    "### atribút medical info\n",
    "\n",
    "Pri tomto atribúte treba vyparsovať hodnoty jedného riadku a následne vytvoriť nové stĺpce do ktorých sa táto vyparsovaná hodnota doplní"
   ]
  },
  {
   "cell_type": "code",
   "execution_count": 1988,
   "metadata": {},
   "outputs": [
    {
     "data": {
      "text/plain": [
       "array([\"{'mean_glucose':'111.8125','std_glucose':'44.88174566','kurtosis_glucose':'0.423867091','skewness_glucose':'0.239944007','mean_oxygen':'2.465719064','std_oxygen':'17.28981747','kurtosis_oxygen':'8.636118173','skewness_oxygen':'85.60462065'}\",\n",
       "       \"{'mean_glucose':'71.3984375','std_glucose':'47.29517349','kurtosis_glucose':'1.317459045','skewness_glucose':'2.340411994','mean_oxygen':'17.114548499999998','std_oxygen':'46.86283003','kurtosis_oxygen':'3.070346153','skewness_oxygen':'9.405187883'}\",\n",
       "       \"{'mean_glucose':'102.796875','std_glucose':'37.5346422','kurtosis_glucose':'0.382097319','skewness_glucose':'1.3556516','mean_oxygen':'2.706521739','std_oxygen':'19.87410184','kurtosis_oxygen':'7.955209532','skewness_oxygen':'67.64902246'}\",\n",
       "       ...,\n",
       "       \"{'mean_glucose':'129.90625','std_glucose':'48.62217818','kurtosis_glucose':'0.038773097','skewness_glucose':'-0.17251288','mean_oxygen':'3.319397993','std_oxygen':'22.72505413','kurtosis_oxygen':'8.750496392','skewness_oxygen':'81.21538915'}\",\n",
       "       \"{'mean_glucose':'92.265625','std_glucose':'35.87466994','kurtosis_glucose':'1.594314915','skewness_glucose':'5.566536879','mean_oxygen':'14.13545151','std_oxygen':'46.20425114','kurtosis_oxygen':'3.414493912','skewness_oxygen':'10.65625321'}\",\n",
       "       \"{'mean_glucose':'116.8515625','std_glucose':'52.05902447','kurtosis_glucose':'0.113621517','skewness_glucose':'-0.32555369300000003','mean_oxygen':'3.882943144','std_oxygen':'23.58584995','kurtosis_oxygen':'7.216190157000001','skewness_oxygen':'57.18259826'}\"],\n",
       "      dtype=object)"
      ]
     },
     "execution_count": 1988,
     "metadata": {},
     "output_type": "execute_result"
    }
   ],
   "source": [
    "data.medical_info.unique()"
   ]
  },
  {
   "cell_type": "code",
   "execution_count": 1989,
   "metadata": {},
   "outputs": [],
   "source": [
    "x = data['medical_info'].str.replace('{','').str.replace('\\'','').str.replace('}', '').str.split(',', expand=True)\n",
    "i = 0\n",
    "while i < len(x.columns):\n",
    "    y = x[i].str.split(':', expand=True)\n",
    "    data[y[0][0]] = y[1].astype(float)\n",
    "    i += 1\n",
    "data.drop('medical_info', axis='columns', inplace=True)"
   ]
  },
  {
   "cell_type": "markdown",
   "metadata": {},
   "source": [
    "### atribút date of birth\n",
    "\n",
    "Tento atribút nemá nejaký jednotný tvar, čiže je nutné to ošetriť"
   ]
  },
  {
   "cell_type": "code",
   "execution_count": 1990,
   "metadata": {},
   "outputs": [
    {
     "data": {
      "text/plain": [
       "array(['1966-05-16', '1964-06-29', '54-01-25', ..., '1988-09-29',\n",
       "       '1958/12/17', '1959-09-29'], dtype=object)"
      ]
     },
     "execution_count": 1990,
     "metadata": {},
     "output_type": "execute_result"
    }
   ],
   "source": [
    "data.date_of_birth.unique()"
   ]
  },
  {
   "cell_type": "code",
   "execution_count": 1991,
   "metadata": {},
   "outputs": [],
   "source": [
    "def sanitize_date(date):\n",
    "    date = str(date).replace('/', '-')\n",
    "    date = date[:10]\n",
    "    date = date.split(\"-\")\n",
    "    \n",
    "    if date[0] != 'nan':\n",
    "        if len(date[0]) != 4:\n",
    "            if len(date[2]) == 2 and int(date[0]) > 31:\n",
    "                new_date = \"19\"+ date[0] +\"-\"+date[1]+\"-\"+date[2] \n",
    "                \n",
    "            elif ((len(date[2]) == 2) and (int(date[0]) < 31) and (int(date[2]) > 31)):\n",
    "                new_date = \"19\"+date[2]+\"-\"+date[1]+\"-\"+date[0] \n",
    "                \n",
    "            elif ((len(date[2]) == 2) and (int(date[0]) < 31) and (int(date[2]) < 31)):\n",
    "                new_date = \"20\"+ date[2] + \"-\" +date[1]+\"-\" + date[0] \n",
    "            else:\n",
    "                new_date = date[2]+\"-\"+date[1]+\"-\"+date[0] \n",
    "            return new_date        \n",
    "    return '-'.join(date)"
   ]
  },
  {
   "cell_type": "code",
   "execution_count": 1992,
   "metadata": {},
   "outputs": [
    {
     "data": {
      "text/plain": [
       "0    1966-05-16\n",
       "1    1964-06-29\n",
       "2    1954-01-25\n",
       "3    1952-10-30\n",
       "4    1982-01-13\n",
       "5    1950-09-17\n",
       "6    1976-11-25\n",
       "7    1954-07-14\n",
       "8    1954-07-14\n",
       "9    1962-09-11\n",
       "Name: date_of_birth, dtype: object"
      ]
     },
     "execution_count": 1992,
     "metadata": {},
     "output_type": "execute_result"
    }
   ],
   "source": [
    "data.date_of_birth = data.date_of_birth.map(sanitize_date)\n",
    "data.date_of_birth.head(10)"
   ]
  },
  {
   "cell_type": "markdown",
   "metadata": {},
   "source": [
    "Teraz má tento atribúť jednotný tvar hodnôt. teraz môžme upraviť atribút age tak, že pomocou dátumu vypočítame chýbajúce hodnoty"
   ]
  },
  {
   "cell_type": "code",
   "execution_count": 1993,
   "metadata": {},
   "outputs": [
    {
     "data": {
      "text/plain": [
       "0"
      ]
     },
     "execution_count": 1993,
     "metadata": {},
     "output_type": "execute_result"
    }
   ],
   "source": [
    "len(data[pd.isnull(data.date_of_birth)])"
   ]
  },
  {
   "cell_type": "markdown",
   "metadata": {},
   "source": [
    "Tu vidíme že pri stĺpci dátumu narodenia nechýbajú žiadne hodnoty tak by nemal byť problém s dopočítaním hodnôt pre stĺpec vek"
   ]
  },
  {
   "cell_type": "code",
   "execution_count": 1994,
   "metadata": {},
   "outputs": [],
   "source": [
    "years = [];\n",
    "\n",
    "def find_measure_year(age, date_of_birth):\n",
    "    if (pd.notnull(age)):\n",
    "        years.append(int(date_of_birth.split('-')[0]) + int(age))\n",
    "        \n",
    "data.apply(lambda x: find_measure_year(x.age,x.date_of_birth), axis = 1)\n",
    "\n",
    "measure_year = pd.Series(years).mode();"
   ]
  },
  {
   "cell_type": "code",
   "execution_count": 1995,
   "metadata": {},
   "outputs": [],
   "source": [
    "def fill_null_age(age,date):\n",
    "    if (date):\n",
    "        return (measure_year - int(date.split('-')[0]))[0]\n",
    "    return np.nan\n",
    "\n",
    "data.loc[data.age.isnull(),'age'] = data[data.age.isnull()].apply(lambda x: fill_null_age(x.age,x.date_of_birth),axis = 1)"
   ]
  },
  {
   "cell_type": "code",
   "execution_count": 1996,
   "metadata": {},
   "outputs": [
    {
     "data": {
      "text/plain": [
       "0"
      ]
     },
     "execution_count": 1996,
     "metadata": {},
     "output_type": "execute_result"
    }
   ],
   "source": [
    "len(data[pd.isnull(data.age)])"
   ]
  },
  {
   "cell_type": "markdown",
   "metadata": {},
   "source": [
    "Ako je vidieť podarilo sa nám doplniť všetky hodnoty pri stĺpci age. Docielili sme to tak, že sme našli najviac vyskytujúci sa rok po sčítani veku a roku narodenia. Takto sme našli rok kedy sa uskutočnilo meranie, podľa ktorého sme ďalej našli roky chýbajúcich ľudí v datasete podľa dátumu narodenia."
   ]
  },
  {
   "cell_type": "code",
   "execution_count": 1997,
   "metadata": {},
   "outputs": [
    {
     "data": {
      "text/plain": [
       "array([ 53.,  55.,  65.,  66.,  37.,  69.,  42.,  57.,  43.,  56.,  25.,\n",
       "        45.,  58.,  86.,  48.,  54.,  67.,  46.,  73.,  71.,  59.,  64.,\n",
       "        38.,  62.,  26.,  70.,  50.,  52.,  63.,  61.,  51.,  31.,  30.,\n",
       "        72.,  29.,  74.,  83.,  41.,  75.,  49.,  27.,  44.,  34.,  60.,\n",
       "        36.,  40.,  39.,  32.,  15.,  47.,  68.,  20.,  35.,  21.,  78.,\n",
       "        77.,  33.,  28.,  19.,  80.,  18.,  81.,  85.,  17.,  76.,   9.,\n",
       "         7.,  87.,  24.,  90.,   3.,  23.,  79.,  16.,  97.,  22.,  82.,\n",
       "        84.,  14., 113.,  93.,  -1.,  12.,  99.])"
      ]
     },
     "execution_count": 1997,
     "metadata": {},
     "output_type": "execute_result"
    }
   ],
   "source": [
    "data.age.unique()"
   ]
  },
  {
   "cell_type": "markdown",
   "metadata": {},
   "source": [
    "Po úprave vidíme že sa pri atrigúte age znova vyskytuje hodnota -1. To znamená len to, že sa v datasete vyskytujú aj niektoré zlé dátumy. Tieto hodnoty teda doplníme priemerom ako bolo spomenuté vyššie."
   ]
  },
  {
   "cell_type": "code",
   "execution_count": 1998,
   "metadata": {},
   "outputs": [
    {
     "data": {
      "text/plain": [
       "3307    2020-04-06\n",
       "Name: date_of_birth, dtype: object"
      ]
     },
     "execution_count": 1998,
     "metadata": {},
     "output_type": "execute_result"
    }
   ],
   "source": [
    "data.loc[(data.age < 0)].date_of_birth"
   ]
  },
  {
   "cell_type": "markdown",
   "metadata": {},
   "source": [
    "Tu vidíme, že pri niektorých hodnotách je naozaj nastavený zlý dátum narodenia a to ten istý"
   ]
  },
  {
   "cell_type": "code",
   "execution_count": 1999,
   "metadata": {},
   "outputs": [],
   "source": [
    "median = data[(data.age > 0)].groupby('sex', as_index=False).age.mean()\n",
    "data.loc[(data.age < 0), 'age'] = data[data.age < 0].age.map(lambda a: round(median.loc[0, 'age'], 0))"
   ]
  },
  {
   "cell_type": "code",
   "execution_count": 2000,
   "metadata": {},
   "outputs": [
    {
     "data": {
      "text/plain": [
       "count    3983.000000\n",
       "mean       51.844590\n",
       "std        11.783656\n",
       "min         3.000000\n",
       "25%        44.000000\n",
       "50%        52.000000\n",
       "75%        60.000000\n",
       "max       113.000000\n",
       "Name: age, dtype: float64"
      ]
     },
     "execution_count": 2000,
     "metadata": {},
     "output_type": "execute_result"
    }
   ],
   "source": [
    "data['age'].describe()"
   ]
  },
  {
   "cell_type": "code",
   "execution_count": 2001,
   "metadata": {},
   "outputs": [
    {
     "data": {
      "text/plain": [
       "array([ 53.,  55.,  65.,  66.,  37.,  69.,  42.,  57.,  43.,  56.,  25.,\n",
       "        45.,  58.,  86.,  48.,  54.,  67.,  46.,  73.,  71.,  59.,  64.,\n",
       "        38.,  62.,  26.,  70.,  50.,  52.,  63.,  61.,  51.,  31.,  30.,\n",
       "        72.,  29.,  74.,  83.,  41.,  75.,  49.,  27.,  44.,  34.,  60.,\n",
       "        36.,  40.,  39.,  32.,  15.,  47.,  68.,  20.,  35.,  21.,  78.,\n",
       "        77.,  33.,  28.,  19.,  80.,  18.,  81.,  85.,  17.,  76.,   9.,\n",
       "         7.,  87.,  24.,  90.,   3.,  23.,  79.,  16.,  97.,  22.,  82.,\n",
       "        84.,  14., 113.,  93.,  12.,  99.])"
      ]
     },
     "execution_count": 2001,
     "metadata": {},
     "output_type": "execute_result"
    }
   ],
   "source": [
    "data.age.unique()"
   ]
  },
  {
   "cell_type": "markdown",
   "metadata": {},
   "source": [
    "Tu boli nastavené všetky tieto neznáme hodnoty mediánom podľa pohlavia."
   ]
  },
  {
   "cell_type": "markdown",
   "metadata": {},
   "source": [
    "### atrbút income\n",
    "\n",
    "Pri tomto atribúte tiež prekonvertujeme hodnoty na číselný tvar"
   ]
  },
  {
   "cell_type": "code",
   "execution_count": 2002,
   "metadata": {},
   "outputs": [
    {
     "data": {
      "text/plain": [
       "array([' >50K', ' <=50K', nan], dtype=object)"
      ]
     },
     "execution_count": 2002,
     "metadata": {},
     "output_type": "execute_result"
    }
   ],
   "source": [
    "data.income.unique()"
   ]
  },
  {
   "cell_type": "code",
   "execution_count": 2003,
   "metadata": {},
   "outputs": [],
   "source": [
    "data.income = data.income.map(lambda income: 0 if str(income).strip() == '<=50K' else 1 if str(income).strip() == '>50K' else np.nan)"
   ]
  },
  {
   "cell_type": "code",
   "execution_count": 2004,
   "metadata": {},
   "outputs": [
    {
     "data": {
      "text/plain": [
       "array([ 1.,  0., nan])"
      ]
     },
     "execution_count": 2004,
     "metadata": {},
     "output_type": "execute_result"
    }
   ],
   "source": [
    "data.income.unique()"
   ]
  },
  {
   "cell_type": "markdown",
   "metadata": {},
   "source": [
    "### atribút Unnamed: 0_x\n",
    "\n",
    "obsahuje poradové čísla, ktoré nepotrebujeme"
   ]
  },
  {
   "cell_type": "code",
   "execution_count": 2005,
   "metadata": {},
   "outputs": [
    {
     "name": "stdout",
     "output_type": "stream",
     "text": [
      "[   0    1    2 ... 3980 3981 3982]\n"
     ]
    }
   ],
   "source": [
    "print(data['Unnamed: 0_x'].unique())\n",
    "data.drop('Unnamed: 0_x', axis='columns', inplace=True)"
   ]
  },
  {
   "cell_type": "markdown",
   "metadata": {},
   "source": [
    "### atribút Unnamed: 0_y\n",
    "\n",
    "nevieme čo reprezentuje, zmažeme ho"
   ]
  },
  {
   "cell_type": "code",
   "execution_count": 2006,
   "metadata": {},
   "outputs": [
    {
     "name": "stdout",
     "output_type": "stream",
     "text": [
      "[3768 1089 3071 ... 3745 3735 2650]\n"
     ]
    }
   ],
   "source": [
    "print(data['Unnamed: 0_y'].unique())\n",
    "data.drop('Unnamed: 0_y', axis='columns', inplace=True)"
   ]
  },
  {
   "cell_type": "markdown",
   "metadata": {},
   "source": [
    "### atribút fnlwgt\n",
    "\n",
    "nevieme čo reprezentuje, zmažeme ho"
   ]
  },
  {
   "cell_type": "code",
   "execution_count": 2007,
   "metadata": {},
   "outputs": [
    {
     "name": "stdout",
     "output_type": "stream",
     "text": [
      "[270092.  34278. 107302. ... 217961.  75167. 202056.]\n"
     ]
    }
   ],
   "source": [
    "print(data['fnlwgt'].unique())\n",
    "data.drop('fnlwgt', axis='columns', inplace=True)"
   ]
  },
  {
   "cell_type": "markdown",
   "metadata": {},
   "source": [
    "### stringove atribúty"
   ]
  },
  {
   "cell_type": "code",
   "execution_count": 2008,
   "metadata": {},
   "outputs": [],
   "source": [
    "def sanitize_string(string):\n",
    "    try:\n",
    "        string = string.strip()\n",
    "        if string in ['None', 'nan', '??', '?']:\n",
    "            return np.nan\n",
    "        return string\n",
    "    except AttributeError:\n",
    "        return np.nan"
   ]
  },
  {
   "cell_type": "markdown",
   "metadata": {},
   "source": [
    "### race"
   ]
  },
  {
   "cell_type": "code",
   "execution_count": 2009,
   "metadata": {},
   "outputs": [
    {
     "data": {
      "text/plain": [
       "White                 3359\n",
       "Black                  398\n",
       "Asian-Pac-Islander     133\n",
       "Amer-Indian-Eskimo      42\n",
       "Other                   28\n",
       "Name: race, dtype: int64"
      ]
     },
     "execution_count": 2009,
     "metadata": {},
     "output_type": "execute_result"
    }
   ],
   "source": [
    "data['race'] = data['race'].map(sanitize_string)\n",
    "data.race.value_counts()"
   ]
  },
  {
   "cell_type": "markdown",
   "metadata": {},
   "source": [
    "Hodnota Asian-Pac-Islander a Amer-Indian-Eskimo reprezentujú rôzne rasy, tak ich dame do Other"
   ]
  },
  {
   "cell_type": "code",
   "execution_count": 2010,
   "metadata": {},
   "outputs": [],
   "source": [
    "data.race = data.race.map(lambda race: 'Other' if race in ('Asian-Pac-Islander', 'Amer-Indian-Eskimo') else race)"
   ]
  },
  {
   "cell_type": "code",
   "execution_count": 2011,
   "metadata": {},
   "outputs": [
    {
     "data": {
      "text/plain": [
       "White    3359\n",
       "Black     398\n",
       "Other     203\n",
       "Name: race, dtype: int64"
      ]
     },
     "execution_count": 2011,
     "metadata": {},
     "output_type": "execute_result"
    }
   ],
   "source": [
    "data.race.value_counts()"
   ]
  },
  {
   "cell_type": "markdown",
   "metadata": {},
   "source": [
    "### marital-status, relationship\n",
    "\n",
    "Tieto atribúty reprezentujú podobné hodnoty, chceme ich počistit a zjednotiť"
   ]
  },
  {
   "cell_type": "code",
   "execution_count": 2012,
   "metadata": {},
   "outputs": [],
   "source": [
    "data['marital-status'] = data['marital-status'].map(sanitize_string)\n",
    "data['relationship'] = data['relationship'].map(sanitize_string)"
   ]
  },
  {
   "cell_type": "code",
   "execution_count": 2013,
   "metadata": {},
   "outputs": [
    {
     "data": {
      "text/plain": [
       "array(['Married-civ-spouse', 'Never-married', 'Separated', 'Divorced',\n",
       "       'Married-spouse-absent', 'Widowed', nan, 'Married-AF-spouse'],\n",
       "      dtype=object)"
      ]
     },
     "execution_count": 2013,
     "metadata": {},
     "output_type": "execute_result"
    }
   ],
   "source": [
    "data['marital-status'].unique()"
   ]
  },
  {
   "cell_type": "code",
   "execution_count": 2014,
   "metadata": {},
   "outputs": [
    {
     "data": {
      "text/plain": [
       "array(['Husband', 'Not-in-family', 'Unmarried', 'Wife', 'Own-child', nan,\n",
       "       'Other-relative'], dtype=object)"
      ]
     },
     "execution_count": 2014,
     "metadata": {},
     "output_type": "execute_result"
    }
   ],
   "source": [
    "data['relationship'].unique()"
   ]
  },
  {
   "cell_type": "markdown",
   "metadata": {},
   "source": [
    "Po analyze sme určili, že vo výslednom atribute relationship budú následujuce hodnoty: Not-Married, Married, Divorced/Widowed. Pri hodnotách, ako unmarried nevieme určit, či sú vo vzťahu, preto pouzivame výraz Not-Married.."
   ]
  },
  {
   "cell_type": "code",
   "execution_count": 2015,
   "metadata": {},
   "outputs": [],
   "source": [
    "def sanitize_relationship(relation):\n",
    "    if relation in ('Married', 'Husband', 'Wife'):\n",
    "        return 'Married'\n",
    "    if relation in ('Not-Married', 'Not-in-family', 'Unmarried', 'Own-child', 'Other-relative'):\n",
    "        return 'Not-Married'\n",
    "    if relation == 'Divorced/Widowed':\n",
    "        return relation\n",
    "    return np.nan\n",
    "def sanitize_marital_status(married):\n",
    "    if married in ('Married', 'Married-civ-spouse', 'Married-spouse-absent', 'Married-AF-spouse'):\n",
    "        return 'Married'\n",
    "    if married in ('Not-Married', 'Never-married'):\n",
    "        return 'Not-Married'\n",
    "    if married in ('Separated', 'Divorced', 'Widowed'):\n",
    "        return 'Divorced/Widowed'\n",
    "    return married"
   ]
  },
  {
   "cell_type": "code",
   "execution_count": 2016,
   "metadata": {},
   "outputs": [],
   "source": [
    "data['relationship'] = data['marital-status'].map(sanitize_marital_status)\n",
    "data['relationship'] = data['relationship'].map(sanitize_relationship)\n",
    "data.drop('marital-status', axis='columns', inplace=True)"
   ]
  },
  {
   "cell_type": "code",
   "execution_count": 2017,
   "metadata": {},
   "outputs": [
    {
     "data": {
      "text/plain": [
       "array(['Married', 'Not-Married', 'Divorced/Widowed', nan], dtype=object)"
      ]
     },
     "execution_count": 2017,
     "metadata": {},
     "output_type": "execute_result"
    }
   ],
   "source": [
    "data['relationship'].unique()"
   ]
  },
  {
   "cell_type": "markdown",
   "metadata": {},
   "source": [
    "### occupation, workclass\n",
    "\n",
    "tu treba zjednotiť rovnaké názvy, rozdiely su iba v '_' a '-', a v začiatocných písmenách"
   ]
  },
  {
   "cell_type": "code",
   "execution_count": 2018,
   "metadata": {},
   "outputs": [],
   "source": [
    "def sanitize_work(string):\n",
    "    try:\n",
    "        return string.replace('-','_').capitalize()\n",
    "    except AttributeError:\n",
    "        return np.nan"
   ]
  },
  {
   "cell_type": "code",
   "execution_count": 2019,
   "metadata": {},
   "outputs": [],
   "source": [
    "data['occupation'] = data['occupation'].map(sanitize_string)\n",
    "data['workclass'] = data['workclass'].map(sanitize_string)\n",
    "data['occupation'] = data['occupation'].map(sanitize_work)\n",
    "data['workclass'] = data['workclass'].map(sanitize_work)"
   ]
  },
  {
   "cell_type": "code",
   "execution_count": 2020,
   "metadata": {},
   "outputs": [
    {
     "data": {
      "text/plain": [
       "array(['Prof_specialty', 'Sales', 'Adm_clerical', 'Craft_repair',\n",
       "       'Priv_house_serv', nan, 'Other_service', 'Exec_managerial',\n",
       "       'Farming_fishing', 'Machine_op_inspct', 'Transport_moving',\n",
       "       'Handlers_cleaners', 'Tech_support', 'Protective_serv',\n",
       "       'Armed_forces'], dtype=object)"
      ]
     },
     "execution_count": 2020,
     "metadata": {},
     "output_type": "execute_result"
    }
   ],
   "source": [
    "data['occupation'].unique()"
   ]
  },
  {
   "cell_type": "code",
   "execution_count": 2021,
   "metadata": {},
   "outputs": [
    {
     "data": {
      "text/plain": [
       "array(['Private', 'Federal_gov', 'Self_emp_not_inc', nan, 'Self_emp_inc',\n",
       "       'Local_gov', 'State_gov', 'Never_worked'], dtype=object)"
      ]
     },
     "execution_count": 2021,
     "metadata": {},
     "output_type": "execute_result"
    }
   ],
   "source": [
    "data['workclass'].unique()"
   ]
  },
  {
   "cell_type": "markdown",
   "metadata": {},
   "source": [
    "### native-country\n",
    "\n",
    "Hodnoty sú v poriadku, iba ich vyčistime a zmeníme neznáme hodnoty ('?') na nan"
   ]
  },
  {
   "cell_type": "code",
   "execution_count": 2022,
   "metadata": {},
   "outputs": [],
   "source": [
    "data['native-country'] = data['native-country'].map(sanitize_string)"
   ]
  },
  {
   "cell_type": "code",
   "execution_count": 2023,
   "metadata": {},
   "outputs": [
    {
     "data": {
      "text/plain": [
       "array(['United-States', nan, 'Poland', 'Hungary', 'Dominican-Republic',\n",
       "       'El-Salvador', 'Mexico', 'Philippines', 'Italy', 'China', 'Laos',\n",
       "       'Scotland', 'Canada', 'Germany', 'Taiwan', 'France', 'Vietnam',\n",
       "       'England', 'Columbia', 'Cambodia', 'Iran', 'Puerto-Rico', 'Japan',\n",
       "       'Haiti', 'Thailand', 'Nicaragua', 'Hong', 'Cuba', 'Greece',\n",
       "       'Ecuador', 'Jamaica', 'South', 'Guatemala', 'India', 'Portugal',\n",
       "       'Peru', 'Trinadad&Tobago', 'Ireland', 'Honduras', 'Yugoslavia'],\n",
       "      dtype=object)"
      ]
     },
     "execution_count": 2023,
     "metadata": {},
     "output_type": "execute_result"
    }
   ],
   "source": [
    "data['native-country'].unique()"
   ]
  },
  {
   "cell_type": "markdown",
   "metadata": {},
   "source": [
    "### odstránenie duplikátov"
   ]
  },
  {
   "cell_type": "code",
   "execution_count": 2024,
   "metadata": {},
   "outputs": [
    {
     "name": "stdout",
     "output_type": "stream",
     "text": [
      "other lenght: 3933\n",
      "personal lenght:  3983\n",
      "data lenght(spojený dataset):  3983\n"
     ]
    }
   ],
   "source": [
    "print('other lenght:',len(other))\n",
    "print('personal lenght: ',len(train))\n",
    "print('data lenght(spojený dataset): ',len(data))"
   ]
  },
  {
   "cell_type": "markdown",
   "metadata": {},
   "source": [
    "Tu môžme vidieť že tieto dva datasety nemajú rovnakú dĺžku a pritom by ju mali mať rovnakú. Tak v prvom rade odstránime možné duplikáty v spojenom datasete, ktorý sme spojili na začiatku. Odstraňovať ich budeme na základe mena, dátumu narodenia a adresy."
   ]
  },
  {
   "cell_type": "code",
   "execution_count": 2025,
   "metadata": {},
   "outputs": [
    {
     "name": "stdout",
     "output_type": "stream",
     "text": [
      "data lenght(spojený dataset):  3933\n"
     ]
    }
   ],
   "source": [
    "data = data.drop_duplicates(['name','address','date_of_birth'], keep=\"last\")\n",
    "print('data lenght(spojený dataset): ',len(data))"
   ]
  },
  {
   "cell_type": "markdown",
   "metadata": {},
   "source": [
    "### pridanie chýbajúcich hodnôt"
   ]
  },
  {
   "cell_type": "code",
   "execution_count": 2026,
   "metadata": {},
   "outputs": [
    {
     "data": {
      "text/plain": [
       "race                 11\n",
       "occupation          254\n",
       "pregnant              7\n",
       "education-num       400\n",
       "relationship          7\n",
       "capital-gain         10\n",
       "education            10\n",
       "class                12\n",
       "income                9\n",
       "native-country       76\n",
       "hours-per-week        9\n",
       "capital-loss          7\n",
       "workclass           249\n",
       "mean_glucose          9\n",
       "std_glucose           9\n",
       "kurtosis_glucose      9\n",
       "skewness_glucose      9\n",
       "mean_oxygen           9\n",
       "std_oxygen            9\n",
       "kurtosis_oxygen       9\n",
       "skewness_oxygen       9\n",
       "dtype: int64"
      ]
     },
     "execution_count": 2026,
     "metadata": {},
     "output_type": "execute_result"
    }
   ],
   "source": [
    "data[data.columns[data.isnull().any()].tolist()].isnull().sum()"
   ]
  },
  {
   "cell_type": "markdown",
   "metadata": {},
   "source": [
    "Sem vidíme, v ktorých stĺpcoch datasetu chýba koľko hodnôt. Na doplnenie týchto hodnot sa dá využit viacero ktoré využujeme (medián, knn, lineárna regresia)."
   ]
  },
  {
   "cell_type": "markdown",
   "metadata": {},
   "source": [
    "### doplnenie hodnôt education-num\n",
    "\n",
    "V prvej analýze sme zistili závislosť atribútov education a atribútov education-num, kde education-num je len čiselná reprezentácia stĺpca education. Čiže pri tomto atribúte nám stačí doplniť túto hodnotu podľa stĺpca education."
   ]
  },
  {
   "cell_type": "code",
   "execution_count": 2027,
   "metadata": {},
   "outputs": [
    {
     "name": "stdout",
     "output_type": "stream",
     "text": [
      "{' Masters': 10.0, ' Some-college': 10.0, ' Bachelors': 10.0, ' HS-grad': 9.0, ' 7th-8th': 4.0, ' Assoc-voc': 10.0, ' Prof-school': 10.0, nan: 10.0, ' 11th': 7.0, ' 9th': 5.0, ' 10th': 6.0, ' Assoc-acdm': 10.0, ' 12th': 8.0, ' 5th-6th': 3.0, ' Doctorate': 10.0, ' 1st-4th': 2.0, ' Preschool': 1.0}\n"
     ]
    }
   ],
   "source": [
    "def get_education_num(education):\n",
    "    temp = 10.0\n",
    "    for i in data['education-num'].loc[data.education == education]:\n",
    "        if (i > 0) & (i < temp):\n",
    "            temp = i\n",
    "    return temp\n",
    "\n",
    "\n",
    "map = {}\n",
    "for i in data.education.unique():\n",
    "    map[i] = (get_education_num(i))\n",
    "print(map)"
   ]
  },
  {
   "cell_type": "code",
   "execution_count": 2028,
   "metadata": {},
   "outputs": [],
   "source": [
    "data.loc[:,'education-num'] = data.education.map(map)"
   ]
  },
  {
   "cell_type": "code",
   "execution_count": 2029,
   "metadata": {},
   "outputs": [
    {
     "name": "stdout",
     "output_type": "stream",
     "text": [
      "Missing education-num:  0\n",
      "Missing education:  10\n"
     ]
    }
   ],
   "source": [
    "print('Missing education-num: ', len(data[data['education-num'].isnull()]))\n",
    "print('Missing education: ', len(data[data['education'].isnull()]))"
   ]
  },
  {
   "cell_type": "markdown",
   "metadata": {},
   "source": [
    "Tieto hodnoty sa nám podarilo doplniť až nazopár hodnôt pri ktorých nie je uvedená ani hodnota education."
   ]
  },
  {
   "cell_type": "markdown",
   "metadata": {},
   "source": [
    "### doplnenie hodnôt mean_oxygen a kurtosis_glucose"
   ]
  },
  {
   "cell_type": "code",
   "execution_count": 2095,
   "metadata": {},
   "outputs": [
    {
     "data": {
      "text/plain": [
       "<AxesSubplot:>"
      ]
     },
     "execution_count": 2095,
     "metadata": {},
     "output_type": "execute_result"
    },
    {
     "data": {
      "image/png": "[encoded data removed]",
      "text/plain": [
       "<Figure size 1080x1080 with 2 Axes>"
      ]
     },
     "metadata": {
      "needs_background": "light"
     },
     "output_type": "display_data"
    }
   ],
   "source": [
    "fig, ax = plt.subplots(figsize=(15,15))\n",
    "sns.heatmap(data.corr(), ax=ax, annot=True)"
   ]
  },
  {
   "cell_type": "markdown",
   "metadata": {},
   "source": [
    "po rozdelení tabuľky vidíme medzi týmito hodnotami koreláciu medzi nimi a zároveň tieto dva atribúty kolerujú s atribútmi age a class. Pre doplnenie týchto dvoch hodnôt použijeme knn metódu.\n",
    "\n",
    "Atribút age už neobsahuje žiadne nulové hodnoty."
   ]
  },
  {
   "cell_type": "code",
   "execution_count": 2031,
   "metadata": {},
   "outputs": [
    {
     "name": "stdout",
     "output_type": "stream",
     "text": [
      "2\n"
     ]
    }
   ],
   "source": [
    "print(len(data[(data['kurtosis_glucose'].isnull()) & (data['mean_oxygen'].isnull()) & (data['class'].isnull())]))"
   ]
  },
  {
   "cell_type": "code",
   "execution_count": 2032,
   "metadata": {},
   "outputs": [
    {
     "name": "stdout",
     "output_type": "stream",
     "text": [
      "9\n"
     ]
    }
   ],
   "source": [
    "print(len(data[(data['kurtosis_glucose'].isnull()) & (data['mean_oxygen'].isnull())]))"
   ]
  },
  {
   "cell_type": "markdown",
   "metadata": {},
   "source": [
    "Tu vidíme že ak v riadku chýba hodnota kurtosis_glucose tak tam chýba aj hodnota mean_oxygen čiže jediné čo nám ostáva je dopočítať tieto hodnoty pomocou atribútu age a class.\n",
    "\n",
    "Avšak v stĺpci class je takisto niekoľko nulových hodnôt (k tomu ešte pri dvoch riadkoch sú z týchto štyroch požadovaných hodnôt  tri neznáme). Tieto hodnoty v stĺpci class nemáme ako zistiť kedže nadobúda iba 3 hodnoty 1 (má cukrovku), 0 (nemá cukrovku) a nan. Preto riadky v ktorých sa nachádza hodnota nan v stĺpci class vymažeme."
   ]
  },
  {
   "cell_type": "code",
   "execution_count": 2033,
   "metadata": {},
   "outputs": [],
   "source": [
    "def clear_nan(data):\n",
    "    if data['class'].isnull().sum() > 0:\n",
    "            data.dropna(subset=['class'], inplace=True)\n",
    "    return data\n",
    "            \n",
    "data = clear_nan(data)"
   ]
  },
  {
   "cell_type": "code",
   "execution_count": 2034,
   "metadata": {},
   "outputs": [
    {
     "name": "stdout",
     "output_type": "stream",
     "text": [
      "0\n"
     ]
    }
   ],
   "source": [
    "print(len(data[(data['class'].isnull())]))"
   ]
  },
  {
   "cell_type": "markdown",
   "metadata": {},
   "source": [
    "Teraz sa v stĺpci class nenachádzajú žiadne nulové hodnoty"
   ]
  },
  {
   "cell_type": "code",
   "execution_count": 2035,
   "metadata": {},
   "outputs": [
    {
     "data": {
      "text/html": [
       "<div>\n",
       "<style scoped>\n",
       "    .dataframe tbody tr th:only-of-type {\n",
       "        vertical-align: middle;\n",
       "    }\n",
       "\n",
       "    .dataframe tbody tr th {\n",
       "        vertical-align: top;\n",
       "    }\n",
       "\n",
       "    .dataframe thead th {\n",
       "        text-align: right;\n",
       "    }\n",
       "</style>\n",
       "<table border=\"1\" class=\"dataframe\">\n",
       "  <thead>\n",
       "    <tr style=\"text-align: right;\">\n",
       "      <th></th>\n",
       "      <th>kurtosis_glucose</th>\n",
       "      <th>mean_oxygen</th>\n",
       "      <th>age</th>\n",
       "      <th>class</th>\n",
       "    </tr>\n",
       "  </thead>\n",
       "  <tbody>\n",
       "    <tr>\n",
       "      <th>0</th>\n",
       "      <td>0.423867</td>\n",
       "      <td>2.465719</td>\n",
       "      <td>53.0</td>\n",
       "      <td>0.0</td>\n",
       "    </tr>\n",
       "    <tr>\n",
       "      <th>1</th>\n",
       "      <td>1.317459</td>\n",
       "      <td>17.114548</td>\n",
       "      <td>55.0</td>\n",
       "      <td>1.0</td>\n",
       "    </tr>\n",
       "    <tr>\n",
       "      <th>2</th>\n",
       "      <td>0.382097</td>\n",
       "      <td>2.706522</td>\n",
       "      <td>65.0</td>\n",
       "      <td>1.0</td>\n",
       "    </tr>\n",
       "    <tr>\n",
       "      <th>3</th>\n",
       "      <td>2.979318</td>\n",
       "      <td>159.611204</td>\n",
       "      <td>66.0</td>\n",
       "      <td>1.0</td>\n",
       "    </tr>\n",
       "    <tr>\n",
       "      <th>4</th>\n",
       "      <td>0.208886</td>\n",
       "      <td>6.483278</td>\n",
       "      <td>37.0</td>\n",
       "      <td>0.0</td>\n",
       "    </tr>\n",
       "    <tr>\n",
       "      <th>...</th>\n",
       "      <td>...</td>\n",
       "      <td>...</td>\n",
       "      <td>...</td>\n",
       "      <td>...</td>\n",
       "    </tr>\n",
       "    <tr>\n",
       "      <th>3978</th>\n",
       "      <td>3.385013</td>\n",
       "      <td>11.530936</td>\n",
       "      <td>67.0</td>\n",
       "      <td>1.0</td>\n",
       "    </tr>\n",
       "    <tr>\n",
       "      <th>3979</th>\n",
       "      <td>0.398672</td>\n",
       "      <td>2.050167</td>\n",
       "      <td>48.0</td>\n",
       "      <td>0.0</td>\n",
       "    </tr>\n",
       "    <tr>\n",
       "      <th>3980</th>\n",
       "      <td>0.038773</td>\n",
       "      <td>3.319398</td>\n",
       "      <td>31.0</td>\n",
       "      <td>0.0</td>\n",
       "    </tr>\n",
       "    <tr>\n",
       "      <th>3981</th>\n",
       "      <td>1.594315</td>\n",
       "      <td>14.135452</td>\n",
       "      <td>60.0</td>\n",
       "      <td>1.0</td>\n",
       "    </tr>\n",
       "    <tr>\n",
       "      <th>3982</th>\n",
       "      <td>0.113622</td>\n",
       "      <td>3.882943</td>\n",
       "      <td>60.0</td>\n",
       "      <td>0.0</td>\n",
       "    </tr>\n",
       "  </tbody>\n",
       "</table>\n",
       "<p>3921 rows × 4 columns</p>\n",
       "</div>"
      ],
      "text/plain": [
       "      kurtosis_glucose  mean_oxygen   age  class\n",
       "0             0.423867     2.465719  53.0    0.0\n",
       "1             1.317459    17.114548  55.0    1.0\n",
       "2             0.382097     2.706522  65.0    1.0\n",
       "3             2.979318   159.611204  66.0    1.0\n",
       "4             0.208886     6.483278  37.0    0.0\n",
       "...                ...          ...   ...    ...\n",
       "3978          3.385013    11.530936  67.0    1.0\n",
       "3979          0.398672     2.050167  48.0    0.0\n",
       "3980          0.038773     3.319398  31.0    0.0\n",
       "3981          1.594315    14.135452  60.0    1.0\n",
       "3982          0.113622     3.882943  60.0    0.0\n",
       "\n",
       "[3921 rows x 4 columns]"
      ]
     },
     "execution_count": 2035,
     "metadata": {},
     "output_type": "execute_result"
    }
   ],
   "source": [
    "df = data[['kurtosis_glucose', 'mean_oxygen', 'age', 'class']]\n",
    "df"
   ]
  },
  {
   "cell_type": "code",
   "execution_count": 2036,
   "metadata": {},
   "outputs": [],
   "source": [
    "from sklearn.impute import KNNImputer"
   ]
  },
  {
   "cell_type": "code",
   "execution_count": 2037,
   "metadata": {},
   "outputs": [],
   "source": [
    "def replace_null_values_with_KNN_imputer(dataframe, no_of_neighbours):\n",
    "    numpy_column = dataframe[['kurtosis_glucose', 'mean_oxygen', 'age']].to_numpy()\n",
    "    numpy_column = np.reshape(numpy_column, (-1,3))\n",
    "\n",
    "    class_column = dataframe['class'].to_numpy()\n",
    "    class_column = np.reshape(numpy_column, (-1,1))\n",
    "\n",
    "    \n",
    "    imputer = KNNImputer(n_neighbors=no_of_neighbours, weights=\"uniform\")\n",
    "    numpy_column = imputer.fit_transform(numpy_column, class_column)\n",
    "    return numpy_column"
   ]
  },
  {
   "cell_type": "code",
   "execution_count": 2038,
   "metadata": {},
   "outputs": [],
   "source": [
    "numpy_array = replace_null_values_with_KNN_imputer(df, 5)"
   ]
  },
  {
   "cell_type": "code",
   "execution_count": 2039,
   "metadata": {},
   "outputs": [],
   "source": [
    "data['kurtosis_glucose'] = numpy_array[:,[0]]\n",
    "data['mean_oxygen'] = numpy_array[:,[1]]\n",
    "data['age'] = numpy_array[:,[2]]"
   ]
  },
  {
   "cell_type": "code",
   "execution_count": 2040,
   "metadata": {},
   "outputs": [
    {
     "name": "stdout",
     "output_type": "stream",
     "text": [
      "0\n"
     ]
    }
   ],
   "source": [
    "print(len(data[(data['kurtosis_glucose'].isnull())]))"
   ]
  },
  {
   "cell_type": "code",
   "execution_count": 2041,
   "metadata": {},
   "outputs": [
    {
     "name": "stdout",
     "output_type": "stream",
     "text": [
      "0\n"
     ]
    }
   ],
   "source": [
    "print(len(data[(data['mean_oxygen'].isnull())]))"
   ]
  },
  {
   "cell_type": "markdown",
   "metadata": {},
   "source": [
    "Chýbajúce hodnoty boli úspešne nahradené pomocou metódy knn"
   ]
  },
  {
   "cell_type": "code",
   "execution_count": 2042,
   "metadata": {},
   "outputs": [
    {
     "data": {
      "text/plain": [
       "race                  8\n",
       "occupation          251\n",
       "pregnant              4\n",
       "relationship          5\n",
       "capital-gain          6\n",
       "education             7\n",
       "income                9\n",
       "native-country       74\n",
       "hours-per-week        8\n",
       "capital-loss          5\n",
       "workclass           246\n",
       "mean_glucose          7\n",
       "std_glucose           7\n",
       "skewness_glucose      7\n",
       "std_oxygen            7\n",
       "kurtosis_oxygen       7\n",
       "skewness_oxygen       7\n",
       "dtype: int64"
      ]
     },
     "execution_count": 2042,
     "metadata": {},
     "output_type": "execute_result"
    }
   ],
   "source": [
    "data[data.columns[data.isnull().any()].tolist()].isnull().sum()"
   ]
  },
  {
   "cell_type": "markdown",
   "metadata": {},
   "source": [
    "### doplnenie atribútu hours per week\n",
    "\n",
    "Túto hodnotu sme sa rozhodli doplniť mediánom. Pri tomto atribúte by nahradenie mediánom mohlo byť asi najrozumnejšie. Táto hodnota ďalej koreluje s inými hodnotami a to využijeme pri dopĺňaní ďalších hodnôt."
   ]
  },
  {
   "cell_type": "code",
   "execution_count": 2043,
   "metadata": {},
   "outputs": [],
   "source": [
    "data['hours-per-week'].fillna(round(data['hours-per-week'].mean(), 0), inplace=True)"
   ]
  },
  {
   "cell_type": "code",
   "execution_count": 2044,
   "metadata": {},
   "outputs": [
    {
     "name": "stdout",
     "output_type": "stream",
     "text": [
      "0\n"
     ]
    }
   ],
   "source": [
    "print(len(data[(data['hours-per-week'].isnull())]))"
   ]
  },
  {
   "cell_type": "markdown",
   "metadata": {},
   "source": [
    "Teraz sú hodnoty nan nahradené mediánom. Pre jednotnosť bola hodnota zaokrúhlená na 0 desatinných miest"
   ]
  },
  {
   "cell_type": "markdown",
   "metadata": {},
   "source": [
    "### doplnenie atribútu income\n",
    "\n",
    "Tento atribút koleruje s atribútom hours-per-week. Pre doplnenie chýbajúcich hodnôt sme sa preto rozhodli použiť lineárnu regresiu. "
   ]
  },
  {
   "cell_type": "code",
   "execution_count": 2045,
   "metadata": {},
   "outputs": [
    {
     "data": {
      "text/plain": [
       "array([ 1.,  0., nan])"
      ]
     },
     "execution_count": 2045,
     "metadata": {},
     "output_type": "execute_result"
    }
   ],
   "source": [
    "data.income.unique()"
   ]
  },
  {
   "cell_type": "code",
   "execution_count": 2046,
   "metadata": {},
   "outputs": [
    {
     "name": "stdout",
     "output_type": "stream",
     "text": [
      "<class 'pandas.core.frame.DataFrame'>\n",
      "Int64Index: 3921 entries, 0 to 3982\n",
      "Data columns (total 26 columns):\n",
      " #   Column            Non-Null Count  Dtype  \n",
      "---  ------            --------------  -----  \n",
      " 0   name              3921 non-null   object \n",
      " 1   address           3921 non-null   object \n",
      " 2   race              3913 non-null   object \n",
      " 3   occupation        3670 non-null   object \n",
      " 4   pregnant          3917 non-null   float64\n",
      " 5   education-num     3921 non-null   float64\n",
      " 6   relationship      3916 non-null   object \n",
      " 7   capital-gain      3915 non-null   float64\n",
      " 8   education         3914 non-null   object \n",
      " 9   class             3921 non-null   float64\n",
      " 10  income            3912 non-null   float64\n",
      " 11  native-country    3847 non-null   object \n",
      " 12  hours-per-week    3921 non-null   float64\n",
      " 13  capital-loss      3916 non-null   float64\n",
      " 14  workclass         3675 non-null   object \n",
      " 15  age               3921 non-null   float64\n",
      " 16  sex               3921 non-null   int64  \n",
      " 17  date_of_birth     3921 non-null   object \n",
      " 18  mean_glucose      3914 non-null   float64\n",
      " 19  std_glucose       3914 non-null   float64\n",
      " 20  kurtosis_glucose  3921 non-null   float64\n",
      " 21  skewness_glucose  3914 non-null   float64\n",
      " 22  mean_oxygen       3921 non-null   float64\n",
      " 23  std_oxygen        3914 non-null   float64\n",
      " 24  kurtosis_oxygen   3914 non-null   float64\n",
      " 25  skewness_oxygen   3914 non-null   float64\n",
      "dtypes: float64(16), int64(1), object(9)\n",
      "memory usage: 827.1+ KB\n"
     ]
    }
   ],
   "source": [
    "data.info()"
   ]
  },
  {
   "cell_type": "code",
   "execution_count": 2048,
   "metadata": {},
   "outputs": [],
   "source": [
    "from sklearn.linear_model import LinearRegression\n",
    "\n",
    "regression = LinearRegression()\n",
    "df = data[['hours-per-week','income']]\n",
    "df2 = data[['hours-per-week','income']]\n",
    "df.dropna(axis=0, how='any', inplace=True)\n",
    "X = df['hours-per-week'].values.reshape(-1,1)\n",
    "\n",
    "regression.fit(X, df['income'])\n",
    "data_null = data['hours-per-week'].loc[(data['income'].isna()) & (~data['hours-per-week'].isna())]\n",
    "\n",
    "temp = regression.predict(np.array(data_null).reshape(-1,1))\n",
    "temp = [np.round(x, 0) for x in temp]\n",
    "\n",
    "data['income'].loc[(data['income'].isna()) & (~data['hours-per-week'].isna())] = temp\n",
    "\n"
   ]
  },
  {
   "cell_type": "code",
   "execution_count": 2050,
   "metadata": {},
   "outputs": [
    {
     "name": "stdout",
     "output_type": "stream",
     "text": [
      "0\n"
     ]
    }
   ],
   "source": [
    "print(len(data[(data['income'].isnull())]))"
   ]
  },
  {
   "cell_type": "markdown",
   "metadata": {},
   "source": [
    "Teraz je tento atribút vyriešený vypočítaním lineárnej regresie medzi týmtito atribútmi"
   ]
  },
  {
   "cell_type": "code",
   "execution_count": 2051,
   "metadata": {},
   "outputs": [
    {
     "data": {
      "text/plain": [
       "array([1., 0.])"
      ]
     },
     "execution_count": 2051,
     "metadata": {},
     "output_type": "execute_result"
    }
   ],
   "source": [
    "data['income'].unique()"
   ]
  },
  {
   "cell_type": "code",
   "execution_count": 2052,
   "metadata": {},
   "outputs": [
    {
     "name": "stdout",
     "output_type": "stream",
     "text": [
      "Presnosť transformácie, (štd. odchýlka): 0.340 (0.172)\n"
     ]
    }
   ],
   "source": [
    "from sklearn.model_selection import RepeatedStratifiedKFold\n",
    "from sklearn.neighbors import KNeighborsClassifier\n",
    "from sklearn import preprocessing\n",
    "from sklearn.model_selection import cross_val_score\n",
    "from sklearn.pipeline import Pipeline\n",
    "import warnings\n",
    "cv = RepeatedStratifiedKFold(n_splits=15, n_repeats=300, random_state=1)\n",
    "\n",
    "trans = KNNImputer(5, weights=\"uniform\")\n",
    "model = KNeighborsClassifier()\n",
    "pipeline = Pipeline(steps=[('t', trans), ('m', model)])\n",
    "\n",
    "\n",
    "#df3.dropna(axis=0, how='any', inplace=True)\n",
    "numpy_column = data[['income']].to_numpy()\n",
    "numpy_column = np.reshape(numpy_column, (-1,1))\n",
    "\n",
    "class_column = data[['hours-per-week']].to_numpy()\n",
    "class_column = np.reshape(class_column, (-1,1))\n",
    "\n",
    "warnings.filterwarnings(\"ignore\")\n",
    "n_scores = cross_val_score(pipeline, numpy_column, class_column, scoring='accuracy', cv=cv, n_jobs=-1)\n",
    "\n",
    "# Výpis výkonu modelu (úspešnosti)\n",
    "print('Presnosť transformácie, (štd. odchýlka): %.3f (%.3f)' % (n_scores.mean(), n_scores.std()))"
   ]
  },
  {
   "cell_type": "markdown",
   "metadata": {},
   "source": [
    "Sem vidíme, že koeficienty že koeficienty šikmosti a špicatosti sa po doplnení moc nezmenili a graf distribúcie sa zachoval čiže dopĺňanie hodnôt vyšlo celkom dobre."
   ]
  },
  {
   "cell_type": "markdown",
   "metadata": {},
   "source": [
    "### Attributy mean_glucose a kurtosis_oxygen\n",
    "Hodnoty kurtosis_glucose a mean_glucose a hodnoty kurtosis_oxygen a mean_oxygen maju silnu negativnu korelaciu, takze mozeme pouzivat linearnu regresiu"
   ]
  },
  {
   "cell_type": "code",
   "execution_count": 2053,
   "metadata": {},
   "outputs": [],
   "source": [
    "regression = LinearRegression()\n",
    "df = data[['kurtosis_glucose','mean_glucose']]\n",
    "df2 = data[['kurtosis_glucose','mean_glucose']]\n",
    "df.dropna(axis=0, how='any', inplace=True)\n",
    "X = df['kurtosis_glucose'].values.reshape(-1,1)\n",
    "\n",
    "regression.fit(X, df['mean_glucose'])\n",
    "data_null = data['kurtosis_glucose'].loc[(data['mean_glucose'].isna()) & (~data['kurtosis_glucose'].isna())]\n",
    "\n",
    "temp = regression.predict(np.array(data_null).reshape(-1,1))\n",
    "\n",
    "data['mean_glucose'].loc[(data['mean_glucose'].isna()) & (~data['kurtosis_glucose'].isna())] = temp"
   ]
  },
  {
   "cell_type": "code",
   "execution_count": 2054,
   "metadata": {},
   "outputs": [
    {
     "name": "stdout",
     "output_type": "stream",
     "text": [
      "0\n"
     ]
    }
   ],
   "source": [
    "print(len(data[(data['mean_glucose'].isnull())]))"
   ]
  },
  {
   "cell_type": "code",
   "execution_count": 2055,
   "metadata": {},
   "outputs": [],
   "source": [
    "regression = LinearRegression()\n",
    "df = data[['mean_oxygen','kurtosis_oxygen']]\n",
    "df2 = data[['mean_oxygen','kurtosis_oxygen']]\n",
    "df.dropna(axis=0, how='any', inplace=True)\n",
    "X = df['mean_oxygen'].values.reshape(-1,1)\n",
    "\n",
    "regression.fit(X, df['kurtosis_oxygen'])\n",
    "data_null = data['mean_oxygen'].loc[(data['kurtosis_oxygen'].isna()) & (~data['mean_oxygen'].isna())]\n",
    "\n",
    "temp = regression.predict(np.array(data_null).reshape(-1,1))\n",
    "\n",
    "data['kurtosis_oxygen'].loc[(data['kurtosis_oxygen'].isna()) & (~data['mean_oxygen'].isna())] = temp"
   ]
  },
  {
   "cell_type": "code",
   "execution_count": 2056,
   "metadata": {},
   "outputs": [
    {
     "name": "stdout",
     "output_type": "stream",
     "text": [
      "0\n"
     ]
    }
   ],
   "source": [
    "print(len(data[(data['kurtosis_oxygen'].isnull())]))"
   ]
  },
  {
   "cell_type": "markdown",
   "metadata": {},
   "source": [
    "### Attributy skewness_glucose, std_glucose, skewness_oxygen, std_oxygen\n",
    "Tieto hodnoty tiez majou korelaciu s attributmi, ktore boli ukladane v medical_info, nasledne ich naplnime"
   ]
  },
  {
   "cell_type": "code",
   "execution_count": 2096,
   "metadata": {},
   "outputs": [
    {
     "ename": "ValueError",
     "evalue": "illegal value in 4-th argument of internal None",
     "output_type": "error",
     "traceback": [
      "\u001b[1;31m---------------------------------------------------------------------------\u001b[0m",
      "\u001b[1;31mValueError\u001b[0m                                Traceback (most recent call last)",
      "\u001b[1;32m<ipython-input-2096-b8717f55e9c8>\u001b[0m in \u001b[0;36m<module>\u001b[1;34m\u001b[0m\n\u001b[0;32m      5\u001b[0m \u001b[0mX\u001b[0m \u001b[1;33m=\u001b[0m \u001b[0mdf\u001b[0m\u001b[1;33m[\u001b[0m\u001b[1;34m'kurtosis_glucose'\u001b[0m\u001b[1;33m]\u001b[0m\u001b[1;33m.\u001b[0m\u001b[0mvalues\u001b[0m\u001b[1;33m.\u001b[0m\u001b[0mreshape\u001b[0m\u001b[1;33m(\u001b[0m\u001b[1;33m-\u001b[0m\u001b[1;36m1\u001b[0m\u001b[1;33m,\u001b[0m\u001b[1;36m1\u001b[0m\u001b[1;33m)\u001b[0m\u001b[1;33m\u001b[0m\u001b[1;33m\u001b[0m\u001b[0m\n\u001b[0;32m      6\u001b[0m \u001b[1;33m\u001b[0m\u001b[0m\n\u001b[1;32m----> 7\u001b[1;33m \u001b[0mregression\u001b[0m\u001b[1;33m.\u001b[0m\u001b[0mfit\u001b[0m\u001b[1;33m(\u001b[0m\u001b[0mX\u001b[0m\u001b[1;33m,\u001b[0m \u001b[0mdf\u001b[0m\u001b[1;33m[\u001b[0m\u001b[1;34m'skewness_glucose'\u001b[0m\u001b[1;33m]\u001b[0m\u001b[1;33m)\u001b[0m\u001b[1;33m\u001b[0m\u001b[1;33m\u001b[0m\u001b[0m\n\u001b[0m\u001b[0;32m      8\u001b[0m \u001b[0mdata_null\u001b[0m \u001b[1;33m=\u001b[0m \u001b[0mdata\u001b[0m\u001b[1;33m[\u001b[0m\u001b[1;34m'kurtosis_glucose'\u001b[0m\u001b[1;33m]\u001b[0m\u001b[1;33m.\u001b[0m\u001b[0mloc\u001b[0m\u001b[1;33m[\u001b[0m\u001b[1;33m(\u001b[0m\u001b[0mdata\u001b[0m\u001b[1;33m[\u001b[0m\u001b[1;34m'skewness_glucose'\u001b[0m\u001b[1;33m]\u001b[0m\u001b[1;33m.\u001b[0m\u001b[0misna\u001b[0m\u001b[1;33m(\u001b[0m\u001b[1;33m)\u001b[0m\u001b[1;33m)\u001b[0m \u001b[1;33m&\u001b[0m \u001b[1;33m(\u001b[0m\u001b[1;33m~\u001b[0m\u001b[0mdata\u001b[0m\u001b[1;33m[\u001b[0m\u001b[1;34m'kurtosis_glucose'\u001b[0m\u001b[1;33m]\u001b[0m\u001b[1;33m.\u001b[0m\u001b[0misna\u001b[0m\u001b[1;33m(\u001b[0m\u001b[1;33m)\u001b[0m\u001b[1;33m)\u001b[0m\u001b[1;33m]\u001b[0m\u001b[1;33m\u001b[0m\u001b[1;33m\u001b[0m\u001b[0m\n\u001b[0;32m      9\u001b[0m \u001b[1;33m\u001b[0m\u001b[0m\n",
      "\u001b[1;32mc:\\users\\matej\\desktop\\sschool\\iau\\vp\\iau_env\\lib\\site-packages\\sklearn\\linear_model\\_base.py\u001b[0m in \u001b[0;36mfit\u001b[1;34m(self, X, y, sample_weight)\u001b[0m\n\u001b[0;32m    545\u001b[0m         \u001b[1;32melse\u001b[0m\u001b[1;33m:\u001b[0m\u001b[1;33m\u001b[0m\u001b[1;33m\u001b[0m\u001b[0m\n\u001b[0;32m    546\u001b[0m             \u001b[0mself\u001b[0m\u001b[1;33m.\u001b[0m\u001b[0mcoef_\u001b[0m\u001b[1;33m,\u001b[0m \u001b[0mself\u001b[0m\u001b[1;33m.\u001b[0m\u001b[0m_residues\u001b[0m\u001b[1;33m,\u001b[0m \u001b[0mself\u001b[0m\u001b[1;33m.\u001b[0m\u001b[0mrank_\u001b[0m\u001b[1;33m,\u001b[0m \u001b[0mself\u001b[0m\u001b[1;33m.\u001b[0m\u001b[0msingular_\u001b[0m \u001b[1;33m=\u001b[0m\u001b[0;31m \u001b[0m\u001b[0;31m\\\u001b[0m\u001b[1;33m\u001b[0m\u001b[1;33m\u001b[0m\u001b[0m\n\u001b[1;32m--> 547\u001b[1;33m                 \u001b[0mlinalg\u001b[0m\u001b[1;33m.\u001b[0m\u001b[0mlstsq\u001b[0m\u001b[1;33m(\u001b[0m\u001b[0mX\u001b[0m\u001b[1;33m,\u001b[0m \u001b[0my\u001b[0m\u001b[1;33m)\u001b[0m\u001b[1;33m\u001b[0m\u001b[1;33m\u001b[0m\u001b[0m\n\u001b[0m\u001b[0;32m    548\u001b[0m             \u001b[0mself\u001b[0m\u001b[1;33m.\u001b[0m\u001b[0mcoef_\u001b[0m \u001b[1;33m=\u001b[0m \u001b[0mself\u001b[0m\u001b[1;33m.\u001b[0m\u001b[0mcoef_\u001b[0m\u001b[1;33m.\u001b[0m\u001b[0mT\u001b[0m\u001b[1;33m\u001b[0m\u001b[1;33m\u001b[0m\u001b[0m\n\u001b[0;32m    549\u001b[0m \u001b[1;33m\u001b[0m\u001b[0m\n",
      "\u001b[1;32mc:\\users\\matej\\desktop\\sschool\\iau\\vp\\iau_env\\lib\\site-packages\\scipy\\linalg\\basic.py\u001b[0m in \u001b[0;36mlstsq\u001b[1;34m(a, b, cond, overwrite_a, overwrite_b, check_finite, lapack_driver)\u001b[0m\n\u001b[0;32m   1221\u001b[0m             \u001b[1;32mraise\u001b[0m \u001b[0mLinAlgError\u001b[0m\u001b[1;33m(\u001b[0m\u001b[1;34m\"SVD did not converge in Linear Least Squares\"\u001b[0m\u001b[1;33m)\u001b[0m\u001b[1;33m\u001b[0m\u001b[1;33m\u001b[0m\u001b[0m\n\u001b[0;32m   1222\u001b[0m         \u001b[1;32mif\u001b[0m \u001b[0minfo\u001b[0m \u001b[1;33m<\u001b[0m \u001b[1;36m0\u001b[0m\u001b[1;33m:\u001b[0m\u001b[1;33m\u001b[0m\u001b[1;33m\u001b[0m\u001b[0m\n\u001b[1;32m-> 1223\u001b[1;33m             raise ValueError('illegal value in %d-th argument of internal %s'\n\u001b[0m\u001b[0;32m   1224\u001b[0m                              % (-info, lapack_driver))\n\u001b[0;32m   1225\u001b[0m         \u001b[0mresids\u001b[0m \u001b[1;33m=\u001b[0m \u001b[0mnp\u001b[0m\u001b[1;33m.\u001b[0m\u001b[0masarray\u001b[0m\u001b[1;33m(\u001b[0m\u001b[1;33m[\u001b[0m\u001b[1;33m]\u001b[0m\u001b[1;33m,\u001b[0m \u001b[0mdtype\u001b[0m\u001b[1;33m=\u001b[0m\u001b[0mx\u001b[0m\u001b[1;33m.\u001b[0m\u001b[0mdtype\u001b[0m\u001b[1;33m)\u001b[0m\u001b[1;33m\u001b[0m\u001b[1;33m\u001b[0m\u001b[0m\n",
      "\u001b[1;31mValueError\u001b[0m: illegal value in 4-th argument of internal None"
     ]
    }
   ],
   "source": [
    "regression = LinearRegression()\n",
    "df = data[['kurtosis_glucose','skewness_glucose']]\n",
    "df2 = data[['kurtosis_glucose','skewness_glucose']]\n",
    "df.dropna(axis=0, how='any', inplace=True)\n",
    "X = df['kurtosis_glucose'].values.reshape(-1,1)\n",
    "\n",
    "regression.fit(X, df['skewness_glucose'])\n",
    "data_null = data['kurtosis_glucose'].loc[(data['skewness_glucose'].isna()) & (~data['kurtosis_glucose'].isna())]\n",
    "\n",
    "temp = regression.predict(np.array(data_null).reshape(-1,1))\n",
    "\n",
    "data['skewness_glucose'].loc[(data['skewness_glucose'].isna()) & (~data['kurtosis_glucose'].isna())] = temp"
   ]
  },
  {
   "cell_type": "code",
   "execution_count": 2101,
   "metadata": {},
   "outputs": [
    {
     "name": "stdout",
     "output_type": "stream",
     "text": [
      "7\n"
     ]
    }
   ],
   "source": [
    "print(len(data[(data['skewness_glucose'].isnull())]))"
   ]
  },
  {
   "cell_type": "code",
   "execution_count": 2102,
   "metadata": {},
   "outputs": [],
   "source": [
    "regression = LinearRegression()\n",
    "df = data[['mean_glucose','std_glucose']]\n",
    "df2 = data[['mean_glucose','std_glucose']]\n",
    "df.dropna(axis=0, how='any', inplace=True)\n",
    "X = df['mean_glucose'].values.reshape(-1,1)\n",
    "\n",
    "regression.fit(X, df['std_glucose'])\n",
    "data_null = data['mean_glucose'].loc[(data['std_glucose'].isna()) & (~data['mean_glucose'].isna())]\n",
    "\n",
    "temp = regression.predict(np.array(data_null).reshape(-1,1))\n",
    "\n",
    "data['std_glucose'].loc[(data['std_glucose'].isna()) & (~data['mean_glucose'].isna())] = temp"
   ]
  },
  {
   "cell_type": "code",
   "execution_count": 2103,
   "metadata": {},
   "outputs": [
    {
     "name": "stdout",
     "output_type": "stream",
     "text": [
      "0\n"
     ]
    }
   ],
   "source": [
    "print(len(data[(data['std_glucose'].isnull())]))"
   ]
  },
  {
   "cell_type": "code",
   "execution_count": 2104,
   "metadata": {},
   "outputs": [],
   "source": [
    "regression = LinearRegression()\n",
    "df = data[['kurtosis_oxygen','skewness_oxygen']]\n",
    "df2 = data[['kurtosis_oxygen','skewness_oxygen']]\n",
    "df.dropna(axis=0, how='any', inplace=True)\n",
    "X = df['kurtosis_oxygen'].values.reshape(-1,1)\n",
    "\n",
    "regression.fit(X, df['skewness_oxygen'])\n",
    "data_null = data['kurtosis_oxygen'].loc[(data['skewness_oxygen'].isna()) & (~data['kurtosis_oxygen'].isna())]\n",
    "\n",
    "temp = regression.predict(np.array(data_null).reshape(-1,1))\n",
    "\n",
    "data['skewness_oxygen'].loc[(data['skewness_oxygen'].isna()) & (~data['kurtosis_oxygen'].isna())] = temp"
   ]
  },
  {
   "cell_type": "code",
   "execution_count": 2105,
   "metadata": {},
   "outputs": [
    {
     "name": "stdout",
     "output_type": "stream",
     "text": [
      "0\n"
     ]
    }
   ],
   "source": [
    "print(len(data[(data['skewness_oxygen'].isnull())]))"
   ]
  },
  {
   "cell_type": "code",
   "execution_count": 2107,
   "metadata": {},
   "outputs": [],
   "source": [
    "regression = LinearRegression()\n",
    "df = data[['mean_oxygen','std_oxygen']]\n",
    "df2 = data[['mean_oxygen','std_oxygen']]\n",
    "df.dropna(axis=0, how='any', inplace=True)\n",
    "X = df['mean_oxygen'].values.reshape(-1,1)\n",
    "\n",
    "regression.fit(X, df['std_oxygen'])\n",
    "data_null = data['mean_oxygen'].loc[(data['std_oxygen'].isna()) & (~data['mean_oxygen'].isna())]\n",
    "\n",
    "temp = regression.predict(np.array(data_null).reshape(-1,1))\n",
    "\n",
    "data['std_oxygen'].loc[(data['std_oxygen'].isna()) & (~data['mean_oxygen'].isna())] = temp"
   ]
  },
  {
   "cell_type": "code",
   "execution_count": 2108,
   "metadata": {},
   "outputs": [
    {
     "name": "stdout",
     "output_type": "stream",
     "text": [
      "0\n"
     ]
    }
   ],
   "source": [
    "print(len(data[(data['std_oxygen'].isnull())]))"
   ]
  },
  {
   "cell_type": "markdown",
   "metadata": {},
   "source": [
    "### atrbúty capital_gain a capital_loss\n",
    "\n",
    "Tieto atribúty taktiež kolerujú s atribútom income, ktorý sme už doplnili. Na doplnenie týchto atribútov použijeme knn metódu"
   ]
  },
  {
   "cell_type": "code",
   "execution_count": 2097,
   "metadata": {},
   "outputs": [
    {
     "name": "stdout",
     "output_type": "stream",
     "text": [
      "<class 'pandas.core.frame.DataFrame'>\n",
      "Int64Index: 3921 entries, 0 to 3982\n",
      "Data columns (total 26 columns):\n",
      " #   Column            Non-Null Count  Dtype  \n",
      "---  ------            --------------  -----  \n",
      " 0   name              3921 non-null   object \n",
      " 1   address           3921 non-null   object \n",
      " 2   race              3921 non-null   object \n",
      " 3   occupation        3921 non-null   object \n",
      " 4   pregnant          3921 non-null   float64\n",
      " 5   education-num     3921 non-null   float64\n",
      " 6   relationship      3921 non-null   object \n",
      " 7   capital-gain      3921 non-null   float64\n",
      " 8   education         3921 non-null   object \n",
      " 9   class             3921 non-null   float64\n",
      " 10  income            3921 non-null   float64\n",
      " 11  native-country    3921 non-null   object \n",
      " 12  hours-per-week    3921 non-null   float64\n",
      " 13  capital-loss      3921 non-null   float64\n",
      " 14  workclass         3921 non-null   object \n",
      " 15  age               3921 non-null   float64\n",
      " 16  sex               3921 non-null   int64  \n",
      " 17  date_of_birth     3921 non-null   object \n",
      " 18  mean_glucose      3921 non-null   float64\n",
      " 19  std_glucose       3914 non-null   float64\n",
      " 20  kurtosis_glucose  3921 non-null   float64\n",
      " 21  skewness_glucose  3914 non-null   float64\n",
      " 22  mean_oxygen       3921 non-null   float64\n",
      " 23  std_oxygen        3914 non-null   float64\n",
      " 24  kurtosis_oxygen   3921 non-null   float64\n",
      " 25  skewness_oxygen   3914 non-null   float64\n",
      "dtypes: float64(16), int64(1), object(9)\n",
      "memory usage: 827.1+ KB\n"
     ]
    }
   ],
   "source": [
    "data.info()"
   ]
  },
  {
   "cell_type": "code",
   "execution_count": 2058,
   "metadata": {},
   "outputs": [],
   "source": [
    "def replace_null_values_with_KNN_imputer(dataframe, column, no_of_neighbours):\n",
    "    numpy_column = dataframe[column].to_numpy()\n",
    "    numpy_column = np.reshape(numpy_column, (-1,1))\n",
    "\n",
    "    class_column = dataframe['income'].to_numpy()\n",
    "    class_column = np.reshape(numpy_column, (-1,1))\n",
    "\n",
    "    \n",
    "    imputer = KNNImputer(n_neighbors=no_of_neighbours, weights=\"uniform\")\n",
    "    numpy_column = imputer.fit_transform(numpy_column, class_column)\n",
    "    return numpy_column"
   ]
  },
  {
   "cell_type": "code",
   "execution_count": 2059,
   "metadata": {},
   "outputs": [],
   "source": [
    "df = data[['capital-loss', 'income']]\n",
    "numpy_array = replace_null_values_with_KNN_imputer(df, 'capital-loss', 5)"
   ]
  },
  {
   "cell_type": "code",
   "execution_count": 2060,
   "metadata": {},
   "outputs": [],
   "source": [
    "data['capital-loss'] = numpy_array[:,[0]]\n",
    "data['capital-loss'] = np.round(data['capital-loss'], 0)"
   ]
  },
  {
   "cell_type": "code",
   "execution_count": 2061,
   "metadata": {},
   "outputs": [
    {
     "data": {
      "text/plain": [
       "array([   0., 1902.,   86., 2415., 1651., 1672., 1977., 1887., 1980.,\n",
       "       2174., 1408., 1485., 1740., 1564., 1876., 1258., 2258., 2559.,\n",
       "       1602.,  213., 2001., 2377., 1848., 2444., 2002., 1668., 2042.,\n",
       "       2163.,  625., 2392.,  419., 1590., 1741., 1721., 1825., 2051.,\n",
       "       1719., 2339., 1974., 1380., 1092., 2057., 1579., 1944., 1617.,\n",
       "       1340., 2472., 2246., 2179., 1726., 1138., 2467., 1628.])"
      ]
     },
     "execution_count": 2061,
     "metadata": {},
     "output_type": "execute_result"
    }
   ],
   "source": [
    "data['capital-loss'].unique()"
   ]
  },
  {
   "cell_type": "code",
   "execution_count": 2062,
   "metadata": {},
   "outputs": [
    {
     "name": "stdout",
     "output_type": "stream",
     "text": [
      "0\n"
     ]
    }
   ],
   "source": [
    "print(len(data[(data['capital-loss'].isnull())]))"
   ]
  },
  {
   "cell_type": "code",
   "execution_count": 2063,
   "metadata": {},
   "outputs": [],
   "source": [
    "df = data[['capital-gain', 'income']]\n",
    "numpy_array = replace_null_values_with_KNN_imputer(df, 'capital-gain', 5)"
   ]
  },
  {
   "cell_type": "code",
   "execution_count": 2064,
   "metadata": {},
   "outputs": [],
   "source": [
    "data['capital-gain'] = numpy_array[:,[0]]\n",
    "data['capital-gain'] = np.round(data['capital-gain'], 0)"
   ]
  },
  {
   "cell_type": "code",
   "execution_count": 2065,
   "metadata": {},
   "outputs": [
    {
     "data": {
      "text/plain": [
       "array([   0., 1902.,   86., 2415., 1651., 1672., 1977., 1887., 1980.,\n",
       "       2174., 1408., 1485., 1740., 1564., 1876., 1258., 2258., 2559.,\n",
       "       1602.,  213., 2001., 2377., 1848., 2444., 2002., 1668., 2042.,\n",
       "       2163.,  625., 2392.,  419., 1590., 1741., 1721., 1825., 2051.,\n",
       "       1719., 2339., 1974., 1380., 1092., 2057., 1579., 1944., 1617.,\n",
       "       1340., 2472., 2246., 2179., 1726., 1138., 2467., 1628.])"
      ]
     },
     "execution_count": 2065,
     "metadata": {},
     "output_type": "execute_result"
    }
   ],
   "source": [
    "data['capital-loss'].unique()"
   ]
  },
  {
   "cell_type": "code",
   "execution_count": 2066,
   "metadata": {},
   "outputs": [
    {
     "name": "stdout",
     "output_type": "stream",
     "text": [
      "0\n"
     ]
    }
   ],
   "source": [
    "print(len(data[(data['capital-gain'].isnull())]))"
   ]
  },
  {
   "cell_type": "markdown",
   "metadata": {},
   "source": [
    "### Zostavajuce attributy\n",
    "Attributy race, pregnant, relationship, education maju malo nulovych hodnot a nemaju korelacie, tak ich nahradime najcastejsou hodnotou"
   ]
  },
  {
   "cell_type": "code",
   "execution_count": 2067,
   "metadata": {},
   "outputs": [],
   "source": [
    "data.race = data.race.fillna(data.race.mode()[0])\n",
    "data.pregnant = data.pregnant.fillna(data.pregnant.mode()[0])\n",
    "data.relationship = data.relationship.fillna(data.relationship.mode()[0])\n",
    "data.education = data.education.fillna(data.education.mode()[0])"
   ]
  },
  {
   "cell_type": "code",
   "execution_count": 2068,
   "metadata": {},
   "outputs": [
    {
     "data": {
      "text/plain": [
       "occupation          251\n",
       "native-country       74\n",
       "workclass           246\n",
       "std_glucose           7\n",
       "skewness_glucose      7\n",
       "std_oxygen            7\n",
       "skewness_oxygen       7\n",
       "dtype: int64"
      ]
     },
     "execution_count": 2068,
     "metadata": {},
     "output_type": "execute_result"
    }
   ],
   "source": [
    "data[data.columns[data.isnull().any()].tolist()].isnull().sum()\n",
    "## tuto education-num sme riesili pred tym nie? potom tam chyba iba zostane  occupation a workclass\n",
    "# tie su kategoricke attributy, takze bud tam dame random hodnoty, alebo zmazeme cele, alebo tam dame tu najcaste"
   ]
  },
  {
   "cell_type": "code",
   "execution_count": 2069,
   "metadata": {},
   "outputs": [],
   "source": [
    "data['occupation'] = data['occupation'].fillna(data.occupation.mode()[0])\n",
    "data['native-country'] = data['native-country'].fillna(data['native-country'].mode()[0])\n",
    "data['workclass'] = data['workclass'].fillna(data.workclass.mode()[0])"
   ]
  },
  {
   "cell_type": "code",
   "execution_count": 2070,
   "metadata": {},
   "outputs": [
    {
     "data": {
      "text/plain": [
       "std_glucose         7\n",
       "skewness_glucose    7\n",
       "std_oxygen          7\n",
       "skewness_oxygen     7\n",
       "dtype: int64"
      ]
     },
     "execution_count": 2070,
     "metadata": {},
     "output_type": "execute_result"
    }
   ],
   "source": [
    "data[data.columns[data.isnull().any()].tolist()].isnull().sum()"
   ]
  },
  {
   "cell_type": "markdown",
   "metadata": {},
   "source": [
    "### Odstranenie vychylenych hodnot\n",
    "Vytvorili sme funkciu, ktora najde a prepise vychylenych hodnot 5/95 precentilom"
   ]
  },
  {
   "cell_type": "code",
   "execution_count": 2071,
   "metadata": {},
   "outputs": [],
   "source": [
    "def replace_with_quantiles(df, column):\n",
    "    new_df = df.copy(deep = True)\n",
    "    skew_val = stats.skew(new_df[column]) \n",
    "    \n",
    "    if ((skew_val < -2) or (skew_val > 2)):  \n",
    "        minimum = new_df[column].min()\n",
    "        minimum = minimum + (-minimum - minimum)\n",
    "        new_df[column] = np.log(new_df[column]+minimum)\n",
    "    \n",
    "    perc_95 = new_df[column].quantile(.95)   \n",
    "    perc_05 =  new_df[column].quantile(.05)\n",
    "    new_df.loc[new_df[column] < perc_05, column] = perc_05\n",
    "    new_df.loc[new_df[column] > perc_95, column] = perc_95\n",
    "    return new_df"
   ]
  },
  {
   "cell_type": "code",
   "execution_count": 2072,
   "metadata": {},
   "outputs": [
    {
     "data": {
      "text/plain": [
       "<AxesSubplot:>"
      ]
     },
     "execution_count": 2072,
     "metadata": {},
     "output_type": "execute_result"
    },
    {
     "data": {
      "image/png": "[encoded data removed]",
      "text/plain": [
       "<Figure size 432x288 with 1 Axes>"
      ]
     },
     "metadata": {
      "needs_background": "light"
     },
     "output_type": "display_data"
    }
   ],
   "source": [
    "data['mean_glucose'].hist()"
   ]
  },
  {
   "cell_type": "code",
   "execution_count": 2073,
   "metadata": {},
   "outputs": [],
   "source": [
    "data = replace_with_quantiles(data, 'mean_glucose')"
   ]
  },
  {
   "cell_type": "code",
   "execution_count": 2074,
   "metadata": {},
   "outputs": [
    {
     "data": {
      "text/plain": [
       "<AxesSubplot:>"
      ]
     },
     "execution_count": 2074,
     "metadata": {},
     "output_type": "execute_result"
    },
    {
     "data": {
      "image/png": "[encoded data removed]",
      "text/plain": [
       "<Figure size 432x288 with 1 Axes>"
      ]
     },
     "metadata": {
      "needs_background": "light"
     },
     "output_type": "display_data"
    }
   ],
   "source": [
    "data['mean_glucose'].hist()"
   ]
  },
  {
   "cell_type": "code",
   "execution_count": 2075,
   "metadata": {},
   "outputs": [
    {
     "data": {
      "text/plain": [
       "<AxesSubplot:>"
      ]
     },
     "execution_count": 2075,
     "metadata": {},
     "output_type": "execute_result"
    },
    {
     "data": {
      "image/png": "[encoded data removed]",
      "text/plain": [
       "<Figure size 432x288 with 1 Axes>"
      ]
     },
     "metadata": {
      "needs_background": "light"
     },
     "output_type": "display_data"
    }
   ],
   "source": [
    "data['kurtosis_glucose'].hist()"
   ]
  },
  {
   "cell_type": "code",
   "execution_count": 2076,
   "metadata": {},
   "outputs": [],
   "source": [
    "data = replace_with_quantiles(data, 'kurtosis_glucose')"
   ]
  },
  {
   "cell_type": "code",
   "execution_count": 2077,
   "metadata": {},
   "outputs": [
    {
     "data": {
      "text/plain": [
       "<AxesSubplot:>"
      ]
     },
     "execution_count": 2077,
     "metadata": {},
     "output_type": "execute_result"
    },
    {
     "data": {
      "image/png": "[encoded data removed]",
      "text/plain": [
       "<Figure size 432x288 with 1 Axes>"
      ]
     },
     "metadata": {
      "needs_background": "light"
     },
     "output_type": "display_data"
    }
   ],
   "source": [
    "data['kurtosis_glucose'].hist()"
   ]
  },
  {
   "cell_type": "code",
   "execution_count": 2078,
   "metadata": {},
   "outputs": [
    {
     "data": {
      "text/plain": [
       "<AxesSubplot:>"
      ]
     },
     "execution_count": 2078,
     "metadata": {},
     "output_type": "execute_result"
    },
    {
     "data": {
      "image/png": "[encoded data removed]",
      "text/plain": [
       "<Figure size 432x288 with 1 Axes>"
      ]
     },
     "metadata": {
      "needs_background": "light"
     },
     "output_type": "display_data"
    }
   ],
   "source": [
    "data['mean_oxygen'].hist()"
   ]
  },
  {
   "cell_type": "code",
   "execution_count": 2079,
   "metadata": {},
   "outputs": [],
   "source": [
    "data = replace_with_quantiles(data, 'mean_oxygen')"
   ]
  },
  {
   "cell_type": "code",
   "execution_count": 2080,
   "metadata": {},
   "outputs": [
    {
     "data": {
      "text/plain": [
       "<AxesSubplot:>"
      ]
     },
     "execution_count": 2080,
     "metadata": {},
     "output_type": "execute_result"
    },
    {
     "data": {
      "image/png": "[encoded data removed]",
      "text/plain": [
       "<Figure size 432x288 with 1 Axes>"
      ]
     },
     "metadata": {
      "needs_background": "light"
     },
     "output_type": "display_data"
    }
   ],
   "source": [
    "data['mean_oxygen'].hist()"
   ]
  },
  {
   "cell_type": "code",
   "execution_count": 2081,
   "metadata": {},
   "outputs": [
    {
     "data": {
      "text/plain": [
       "<AxesSubplot:>"
      ]
     },
     "execution_count": 2081,
     "metadata": {},
     "output_type": "execute_result"
    },
    {
     "data": {
      "image/png": "[encoded data removed]",
      "text/plain": [
       "<Figure size 432x288 with 1 Axes>"
      ]
     },
     "metadata": {
      "needs_background": "light"
     },
     "output_type": "display_data"
    }
   ],
   "source": [
    "data['kurtosis_oxygen'].hist()"
   ]
  },
  {
   "cell_type": "code",
   "execution_count": 2082,
   "metadata": {},
   "outputs": [],
   "source": [
    "data = replace_with_quantiles(data, 'kurtosis_oxygen')"
   ]
  },
  {
   "cell_type": "code",
   "execution_count": 2083,
   "metadata": {},
   "outputs": [
    {
     "data": {
      "text/plain": [
       "<AxesSubplot:>"
      ]
     },
     "execution_count": 2083,
     "metadata": {},
     "output_type": "execute_result"
    },
    {
     "data": {
      "image/png": "[encoded data removed]",
      "text/plain": [
       "<Figure size 432x288 with 1 Axes>"
      ]
     },
     "metadata": {
      "needs_background": "light"
     },
     "output_type": "display_data"
    }
   ],
   "source": [
    "data['kurtosis_oxygen'].hist()"
   ]
  },
  {
   "cell_type": "code",
   "execution_count": null,
   "metadata": {},
   "outputs": [],
   "source": [
    "data['skewness_oxygen'].hist()"
   ]
  },
  {
   "cell_type": "code",
   "execution_count": null,
   "metadata": {},
   "outputs": [],
   "source": [
    "data = replace_with_quantiles(data, 'skewness_oxygen')"
   ]
  },
  {
   "cell_type": "code",
   "execution_count": null,
   "metadata": {},
   "outputs": [],
   "source": [
    "data['skewness_oxygen'].hist()"
   ]
  },
  {
   "cell_type": "code",
   "execution_count": null,
   "metadata": {},
   "outputs": [],
   "source": [
    "data['std_oxygen'].hist()"
   ]
  },
  {
   "cell_type": "code",
   "execution_count": null,
   "metadata": {},
   "outputs": [],
   "source": [
    "data = replace_with_quantiles(data, 'std_oxygen')"
   ]
  },
  {
   "cell_type": "code",
   "execution_count": null,
   "metadata": {},
   "outputs": [],
   "source": [
    "data['std_oxygen'].hist()"
   ]
  },
  {
   "cell_type": "code",
   "execution_count": null,
   "metadata": {},
   "outputs": [],
   "source": [
    "data['skewness_glucose'].hist()"
   ]
  },
  {
   "cell_type": "code",
   "execution_count": null,
   "metadata": {},
   "outputs": [],
   "source": [
    "data = replace_with_quantiles(data, 'skewness_glucose')"
   ]
  },
  {
   "cell_type": "code",
   "execution_count": null,
   "metadata": {},
   "outputs": [],
   "source": [
    "data['skewness_glucose'].hist()"
   ]
  },
  {
   "cell_type": "code",
   "execution_count": null,
   "metadata": {},
   "outputs": [],
   "source": [
    "data['std_glucose'].hist()"
   ]
  },
  {
   "cell_type": "code",
   "execution_count": null,
   "metadata": {},
   "outputs": [],
   "source": [
    "data = replace_with_quantiles(data, 'std_glucose')"
   ]
  },
  {
   "cell_type": "code",
   "execution_count": null,
   "metadata": {},
   "outputs": [],
   "source": [
    "data['std_glucose'].hist()"
   ]
  },
  {
   "cell_type": "markdown",
   "metadata": {},
   "source": [
    "### Prieskumna analyza\n",
    "Data sme spojili a odstranili sme duplikaty. Celkovy pocet zaznamov je 3921."
   ]
  },
  {
   "cell_type": "code",
   "execution_count": 2084,
   "metadata": {},
   "outputs": [
    {
     "name": "stdout",
     "output_type": "stream",
     "text": [
      "<class 'pandas.core.frame.DataFrame'>\n",
      "Int64Index: 3921 entries, 0 to 3982\n",
      "Data columns (total 26 columns):\n",
      " #   Column            Non-Null Count  Dtype  \n",
      "---  ------            --------------  -----  \n",
      " 0   name              3921 non-null   object \n",
      " 1   address           3921 non-null   object \n",
      " 2   race              3921 non-null   object \n",
      " 3   occupation        3921 non-null   object \n",
      " 4   pregnant          3921 non-null   float64\n",
      " 5   education-num     3921 non-null   float64\n",
      " 6   relationship      3921 non-null   object \n",
      " 7   capital-gain      3921 non-null   float64\n",
      " 8   education         3921 non-null   object \n",
      " 9   class             3921 non-null   float64\n",
      " 10  income            3921 non-null   float64\n",
      " 11  native-country    3921 non-null   object \n",
      " 12  hours-per-week    3921 non-null   float64\n",
      " 13  capital-loss      3921 non-null   float64\n",
      " 14  workclass         3921 non-null   object \n",
      " 15  age               3921 non-null   float64\n",
      " 16  sex               3921 non-null   int64  \n",
      " 17  date_of_birth     3921 non-null   object \n",
      " 18  mean_glucose      3921 non-null   float64\n",
      " 19  std_glucose       3914 non-null   float64\n",
      " 20  kurtosis_glucose  3921 non-null   float64\n",
      " 21  skewness_glucose  3914 non-null   float64\n",
      " 22  mean_oxygen       3921 non-null   float64\n",
      " 23  std_oxygen        3914 non-null   float64\n",
      " 24  kurtosis_oxygen   3921 non-null   float64\n",
      " 25  skewness_oxygen   3914 non-null   float64\n",
      "dtypes: float64(16), int64(1), object(9)\n",
      "memory usage: 827.1+ KB\n"
     ]
    }
   ],
   "source": [
    "data.info()"
   ]
  },
  {
   "cell_type": "code",
   "execution_count": 2085,
   "metadata": {},
   "outputs": [
    {
     "name": "stdout",
     "output_type": "stream",
     "text": [
      "<class 'pandas.core.frame.DataFrame'>\n",
      "Int64Index: 3983 entries, 0 to 3982\n",
      "Data columns (total 23 columns):\n",
      " #   Column          Non-Null Count  Dtype  \n",
      "---  ------          --------------  -----  \n",
      " 0   Unnamed: 0_x    3983 non-null   int64  \n",
      " 1   name            3983 non-null   object \n",
      " 2   address         3983 non-null   object \n",
      " 3   race            3960 non-null   object \n",
      " 4   marital-status  3967 non-null   object \n",
      " 5   occupation      3962 non-null   object \n",
      " 6   pregnant        3969 non-null   object \n",
      " 7   education-num   3569 non-null   float64\n",
      " 8   relationship    3967 non-null   object \n",
      " 9   capital-gain    3963 non-null   float64\n",
      " 10  education       3968 non-null   object \n",
      " 11  fnlwgt          3965 non-null   float64\n",
      " 12  class           3964 non-null   float64\n",
      " 13  income          3968 non-null   object \n",
      " 14  medical_info    3965 non-null   object \n",
      " 15  native-country  3969 non-null   object \n",
      " 16  hours-per-week  3961 non-null   float64\n",
      " 17  capital-loss    3968 non-null   float64\n",
      " 18  workclass       3971 non-null   object \n",
      " 19  Unnamed: 0_y    3983 non-null   int64  \n",
      " 20  age             3715 non-null   object \n",
      " 21  sex             3983 non-null   object \n",
      " 22  date_of_birth   3983 non-null   object \n",
      "dtypes: float64(6), int64(2), object(15)\n",
      "memory usage: 746.8+ KB\n"
     ]
    }
   ],
   "source": [
    "testdata = pd.merge(train,other,on=['name','address'], how = 'outer')\n",
    "testdata.info()"
   ]
  },
  {
   "cell_type": "markdown",
   "metadata": {},
   "source": [
    "Vsetky zmeny, ktore sme robili su vyssie aj opisane, tak budeme venovat attributom, kde sa nastali velke zmeny.\n",
    "\n",
    "race; education-num; relationship; hodnoty zo stlpca: medical_info"
   ]
  },
  {
   "cell_type": "markdown",
   "metadata": {},
   "source": [
    "### race"
   ]
  },
  {
   "cell_type": "code",
   "execution_count": 2086,
   "metadata": {},
   "outputs": [
    {
     "data": {
      "text/plain": [
       "White    3328\n",
       "Black     394\n",
       "Other     199\n",
       "Name: race, dtype: int64"
      ]
     },
     "execution_count": 2086,
     "metadata": {},
     "output_type": "execute_result"
    }
   ],
   "source": [
    "data.race.value_counts()"
   ]
  },
  {
   "cell_type": "code",
   "execution_count": 2087,
   "metadata": {},
   "outputs": [
    {
     "data": {
      "text/plain": [
       " White                 3359\n",
       " Black                  398\n",
       " Asian-Pac-Islander     133\n",
       " Amer-Indian-Eskimo      42\n",
       " Other                   28\n",
       "Name: race, dtype: int64"
      ]
     },
     "execution_count": 2087,
     "metadata": {},
     "output_type": "execute_result"
    }
   ],
   "source": [
    "testdata.race.value_counts()"
   ]
  },
  {
   "cell_type": "code",
   "execution_count": 2088,
   "metadata": {},
   "outputs": [
    {
     "data": {
      "text/plain": [
       "<AxesSubplot:>"
      ]
     },
     "execution_count": 2088,
     "metadata": {},
     "output_type": "execute_result"
    },
    {
     "data": {
      "image/png": "[encoded data removed]",
      "text/plain": [
       "<Figure size 432x288 with 1 Axes>"
      ]
     },
     "metadata": {
      "needs_background": "light"
     },
     "output_type": "display_data"
    }
   ],
   "source": [
    "testdata['race'].hist()"
   ]
  },
  {
   "cell_type": "code",
   "execution_count": 2089,
   "metadata": {},
   "outputs": [
    {
     "data": {
      "text/plain": [
       "<AxesSubplot:>"
      ]
     },
     "execution_count": 2089,
     "metadata": {},
     "output_type": "execute_result"
    },
    {
     "data": {
      "image/png": "[encoded data removed]",
      "text/plain": [
       "<Figure size 432x288 with 1 Axes>"
      ]
     },
     "metadata": {
      "needs_background": "light"
     },
     "output_type": "display_data"
    }
   ],
   "source": [
    "data['race'].hist()"
   ]
  },
  {
   "cell_type": "markdown",
   "metadata": {},
   "source": [
    "Hodnoty american-indian-eskimo a asian-pac-islander sme dali do other, lebo reprezentovali viac narodnosti. Tym padom sa nam znizila pocet hodnot. Attribut mal iba 8 nulovych hodnot, tak sme to dali do white - najcastejsia hodnota."
   ]
  },
  {
   "cell_type": "markdown",
   "metadata": {},
   "source": [
    "### education-num\n",
    "education-num mal vela ulovych hodnot, ale mohli sme to doplnit z education, ako je to hore napisane."
   ]
  },
  {
   "cell_type": "markdown",
   "metadata": {},
   "source": [
    "### relationship\n",
    "Relationhip teraz obahuje hodnoty: Not-Married, Married a Divorced/Widowed, ktore sme ziskali zo stlpcov relationship a marital-status"
   ]
  },
  {
   "cell_type": "code",
   "execution_count": 2090,
   "metadata": {},
   "outputs": [
    {
     "data": {
      "text/plain": [
       "<AxesSubplot:>"
      ]
     },
     "execution_count": 2090,
     "metadata": {},
     "output_type": "execute_result"
    },
    {
     "data": {
      "image/png": "[encoded data removed]",
      "text/plain": [
       "<Figure size 432x288 with 1 Axes>"
      ]
     },
     "metadata": {
      "needs_background": "light"
     },
     "output_type": "display_data"
    }
   ],
   "source": [
    "testdata['relationship'].hist()"
   ]
  },
  {
   "cell_type": "code",
   "execution_count": 2091,
   "metadata": {},
   "outputs": [
    {
     "data": {
      "text/plain": [
       "<AxesSubplot:>"
      ]
     },
     "execution_count": 2091,
     "metadata": {},
     "output_type": "execute_result"
    },
    {
     "data": {
      "image/png": "[encoded data removed]",
      "text/plain": [
       "<Figure size 432x288 with 1 Axes>"
      ]
     },
     "metadata": {
      "needs_background": "light"
     },
     "output_type": "display_data"
    }
   ],
   "source": [
    "data['relationship'].hist()"
   ]
  },
  {
   "cell_type": "markdown",
   "metadata": {},
   "source": [
    "### hodnoty zo stlpca: medical_info\n",
    "Stlpec medical_info sme rozdelili na 4 stlpce: mean_glucose, kurtosis_glucose, mean_oxygen a kurtosis_oxygen\n",
    "Tieto stlpce obsahovali vychylenych hodnot, ktore sme odstranovali, grafove reprezentacie pred/po su tam znazornene."
   ]
  },
  {
   "cell_type": "code",
   "execution_count": 2092,
   "metadata": {},
   "outputs": [
    {
     "data": {
      "text/html": [
       "<div>\n",
       "<style scoped>\n",
       "    .dataframe tbody tr th:only-of-type {\n",
       "        vertical-align: middle;\n",
       "    }\n",
       "\n",
       "    .dataframe tbody tr th {\n",
       "        vertical-align: top;\n",
       "    }\n",
       "\n",
       "    .dataframe thead th {\n",
       "        text-align: right;\n",
       "    }\n",
       "</style>\n",
       "<table border=\"1\" class=\"dataframe\">\n",
       "  <thead>\n",
       "    <tr style=\"text-align: right;\">\n",
       "      <th></th>\n",
       "      <th>mean_glucose</th>\n",
       "      <th>kurtosis_glucose</th>\n",
       "      <th>mean_oxygen</th>\n",
       "      <th>kurtosis_oxygen</th>\n",
       "    </tr>\n",
       "  </thead>\n",
       "  <tbody>\n",
       "    <tr>\n",
       "      <th>0</th>\n",
       "      <td>111.812500</td>\n",
       "      <td>0.725315</td>\n",
       "      <td>0.812044</td>\n",
       "      <td>8.636118</td>\n",
       "    </tr>\n",
       "    <tr>\n",
       "      <th>1</th>\n",
       "      <td>71.398438</td>\n",
       "      <td>1.084843</td>\n",
       "      <td>2.827393</td>\n",
       "      <td>3.070346</td>\n",
       "    </tr>\n",
       "    <tr>\n",
       "      <th>2</th>\n",
       "      <td>102.796875</td>\n",
       "      <td>0.704884</td>\n",
       "      <td>0.913612</td>\n",
       "      <td>7.955210</td>\n",
       "    </tr>\n",
       "    <tr>\n",
       "      <th>3</th>\n",
       "      <td>54.257812</td>\n",
       "      <td>1.530575</td>\n",
       "      <td>4.680372</td>\n",
       "      <td>0.200442</td>\n",
       "    </tr>\n",
       "    <tr>\n",
       "      <th>4</th>\n",
       "      <td>125.492188</td>\n",
       "      <td>0.615402</td>\n",
       "      <td>1.835787</td>\n",
       "      <td>5.595848</td>\n",
       "    </tr>\n",
       "    <tr>\n",
       "      <th>...</th>\n",
       "      <td>...</td>\n",
       "      <td>...</td>\n",
       "      <td>...</td>\n",
       "      <td>...</td>\n",
       "    </tr>\n",
       "    <tr>\n",
       "      <th>3978</th>\n",
       "      <td>48.265625</td>\n",
       "      <td>1.614730</td>\n",
       "      <td>2.426370</td>\n",
       "      <td>3.977771</td>\n",
       "    </tr>\n",
       "    <tr>\n",
       "      <th>3979</th>\n",
       "      <td>103.351562</td>\n",
       "      <td>0.713042</td>\n",
       "      <td>0.608110</td>\n",
       "      <td>10.671070</td>\n",
       "    </tr>\n",
       "    <tr>\n",
       "      <th>3980</th>\n",
       "      <td>129.906250</td>\n",
       "      <td>0.518966</td>\n",
       "      <td>1.133396</td>\n",
       "      <td>8.750496</td>\n",
       "    </tr>\n",
       "    <tr>\n",
       "      <th>3981</th>\n",
       "      <td>92.265625</td>\n",
       "      <td>1.174286</td>\n",
       "      <td>2.633488</td>\n",
       "      <td>3.414494</td>\n",
       "    </tr>\n",
       "    <tr>\n",
       "      <th>3982</th>\n",
       "      <td>116.851562</td>\n",
       "      <td>0.562547</td>\n",
       "      <td>1.300119</td>\n",
       "      <td>7.216190</td>\n",
       "    </tr>\n",
       "  </tbody>\n",
       "</table>\n",
       "<p>3921 rows × 4 columns</p>\n",
       "</div>"
      ],
      "text/plain": [
       "      mean_glucose  kurtosis_glucose  mean_oxygen  kurtosis_oxygen\n",
       "0       111.812500          0.725315     0.812044         8.636118\n",
       "1        71.398438          1.084843     2.827393         3.070346\n",
       "2       102.796875          0.704884     0.913612         7.955210\n",
       "3        54.257812          1.530575     4.680372         0.200442\n",
       "4       125.492188          0.615402     1.835787         5.595848\n",
       "...            ...               ...          ...              ...\n",
       "3978     48.265625          1.614730     2.426370         3.977771\n",
       "3979    103.351562          0.713042     0.608110        10.671070\n",
       "3980    129.906250          0.518966     1.133396         8.750496\n",
       "3981     92.265625          1.174286     2.633488         3.414494\n",
       "3982    116.851562          0.562547     1.300119         7.216190\n",
       "\n",
       "[3921 rows x 4 columns]"
      ]
     },
     "execution_count": 2092,
     "metadata": {},
     "output_type": "execute_result"
    }
   ],
   "source": [
    "data[['mean_glucose', 'kurtosis_glucose', 'mean_oxygen', 'kurtosis_oxygen']]"
   ]
  },
  {
   "cell_type": "code",
   "execution_count": 2093,
   "metadata": {},
   "outputs": [
    {
     "data": {
      "text/plain": [
       "\"{'mean_glucose':'111.8125','std_glucose':'44.88174566','kurtosis_glucose':'0.423867091','skewness_glucose':'0.239944007','mean_oxygen':'2.465719064','std_oxygen':'17.28981747','kurtosis_oxygen':'8.636118173','skewness_oxygen':'85.60462065'}\""
      ]
     },
     "execution_count": 2093,
     "metadata": {},
     "output_type": "execute_result"
    }
   ],
   "source": [
    "testdata['medical_info'][0]"
   ]
  },
  {
   "cell_type": "code",
   "execution_count": null,
   "metadata": {},
   "outputs": [],
   "source": []
  }
 ],
 "metadata": {
  "kernelspec": {
   "display_name": "Python 3",
   "language": "python",
   "name": "python3"
  },
  "language_info": {
   "codemirror_mode": {
    "name": "ipython",
    "version": 3
   },
   "file_extension": ".py",
   "mimetype": "text/x-python",
   "name": "python",
   "nbconvert_exporter": "python",
   "pygments_lexer": "ipython3",
   "version": "3.8.2"
  }
 },
 "nbformat": 4,
 "nbformat_minor": 4
}
