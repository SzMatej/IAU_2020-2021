{
 "cells": [
  {
   "cell_type": "code",
   "execution_count": 97,
   "metadata": {},
   "outputs": [],
   "source": [
    "import pandas as pd\n",
    "import numpy as np\n",
    "import seaborn as sns\n",
    "import matplotlib.pyplot as plt\n",
    "import scipy.stats as sc\n",
    "import io\n",
    "import requests\n",
    "import statsmodels.api as sm\n",
    "\n",
    "url1 = \"https://raw.githubusercontent.com/SzMatej/IAU_2020-2021/main/65/other_train.csv\"\n",
    "url2 = \"https://raw.githubusercontent.com/SzMatej/IAU_2020-2021/main/65/personal_train.csv\"\n",
    "\n",
    "db1 = requests.get(url1).content\n",
    "db2 = requests.get(url2).content\n",
    "train = pd.read_csv(io.StringIO(db1.decode('utf-8')))\n",
    "other = pd.read_csv(io.StringIO(db2.decode('utf-8')))"
   ]
  },
  {
   "cell_type": "code",
   "execution_count": 98,
   "metadata": {},
   "outputs": [
    {
     "name": "stdout",
     "output_type": "stream",
     "text": [
      "3983\n"
     ]
    }
   ],
   "source": [
    "data = pd.merge(train,other,on=['name','address'], how = 'outer')\n",
    "\n",
    "print(len(data))"
   ]
  },
  {
   "cell_type": "code",
   "execution_count": 99,
   "metadata": {},
   "outputs": [
    {
     "name": "stdout",
     "output_type": "stream",
     "text": [
      "<class 'pandas.core.frame.DataFrame'>\n",
      "Int64Index: 3983 entries, 0 to 3982\n",
      "Data columns (total 23 columns):\n",
      " #   Column          Non-Null Count  Dtype  \n",
      "---  ------          --------------  -----  \n",
      " 0   Unnamed: 0_x    3983 non-null   int64  \n",
      " 1   name            3983 non-null   object \n",
      " 2   address         3983 non-null   object \n",
      " 3   race            3960 non-null   object \n",
      " 4   marital-status  3967 non-null   object \n",
      " 5   occupation      3962 non-null   object \n",
      " 6   pregnant        3969 non-null   object \n",
      " 7   education-num   3569 non-null   float64\n",
      " 8   relationship    3967 non-null   object \n",
      " 9   capital-gain    3963 non-null   float64\n",
      " 10  education       3968 non-null   object \n",
      " 11  fnlwgt          3965 non-null   float64\n",
      " 12  class           3964 non-null   float64\n",
      " 13  income          3968 non-null   object \n",
      " 14  medical_info    3965 non-null   object \n",
      " 15  native-country  3969 non-null   object \n",
      " 16  hours-per-week  3961 non-null   float64\n",
      " 17  capital-loss    3968 non-null   float64\n",
      " 18  workclass       3971 non-null   object \n",
      " 19  Unnamed: 0_y    3983 non-null   int64  \n",
      " 20  age             3715 non-null   object \n",
      " 21  sex             3983 non-null   object \n",
      " 22  date_of_birth   3983 non-null   object \n",
      "dtypes: float64(6), int64(2), object(15)\n",
      "memory usage: 513.4+ KB\n"
     ]
    }
   ],
   "source": [
    "data.info()"
   ]
  },
  {
   "cell_type": "markdown",
   "metadata": {},
   "source": [
    "### atribút pregnant\n",
    "\n",
    "Upravíme boolean hodnoty v datasete tak že ich nahradíme číselnou reprezentáciou.\n",
    "Taktiež nastavíme všetky hodnoty tohto atribútu u mužov na 0."
   ]
  },
  {
   "cell_type": "code",
   "execution_count": 100,
   "metadata": {},
   "outputs": [],
   "source": [
    "def sanitize_boolean(boolean):\n",
    "    try:\n",
    "        if boolean.strip() in ['f','F','FALSE','false','False']:\n",
    "            return 0\n",
    "        elif boolean.strip() in ['t','T','TRUE','true','True']:\n",
    "            return 1\n",
    "        else:\n",
    "            return np.nan\n",
    "    except AttributeError:\n",
    "        return np.nan"
   ]
  },
  {
   "cell_type": "code",
   "execution_count": 101,
   "metadata": {},
   "outputs": [],
   "source": [
    "data.pregnant = data.pregnant.map(sanitize_boolean)"
   ]
  },
  {
   "cell_type": "code",
   "execution_count": 102,
   "metadata": {},
   "outputs": [],
   "source": [
    "def sanitize_pregnancy(data):\n",
    "    data.loc[(data.sex == 1),'pregnant'] = 0\n",
    "    return data\n",
    "\n",
    "data = sanitize_pregnancy(data)"
   ]
  },
  {
   "cell_type": "markdown",
   "metadata": {},
   "source": [
    "### atribút sex\n",
    "\n",
    "Tento atribút neobsahuje žiadne prázdne hodnoty. Pri tomto atribúte treba len dané hodnoty prekonvertovať na numerické hodnoty."
   ]
  },
  {
   "cell_type": "code",
   "execution_count": 103,
   "metadata": {},
   "outputs": [
    {
     "data": {
      "text/plain": [
       "array([' Male', ' Female'], dtype=object)"
      ]
     },
     "execution_count": 103,
     "metadata": {},
     "output_type": "execute_result"
    }
   ],
   "source": [
    "data.sex.unique()"
   ]
  },
  {
   "cell_type": "code",
   "execution_count": 104,
   "metadata": {},
   "outputs": [],
   "source": [
    "def sanitize_sex(sex):\n",
    "    return 1 if sex.strip() == 'Male' else 0"
   ]
  },
  {
   "cell_type": "code",
   "execution_count": 105,
   "metadata": {},
   "outputs": [],
   "source": [
    "data.sex = data.sex.map(lambda sex: sanitize_sex(sex))"
   ]
  },
  {
   "cell_type": "code",
   "execution_count": 106,
   "metadata": {},
   "outputs": [
    {
     "data": {
      "text/plain": [
       "array([1, 0], dtype=int64)"
      ]
     },
     "execution_count": 106,
     "metadata": {},
     "output_type": "execute_result"
    }
   ],
   "source": [
    "data.sex.unique()"
   ]
  },
  {
   "cell_type": "markdown",
   "metadata": {},
   "source": [
    "Hodnoty Male sme nahradili hodnotou 1 a naopak hodnotu female sme nahradili hodnotou 0"
   ]
  },
  {
   "cell_type": "markdown",
   "metadata": {},
   "source": [
    "### atribút age\n",
    "\n",
    "Pri tomto atribúte nahradíme záporné hodnoty na NaN. Takisto sa tu nachádzajú aj neznáme hodnoty ktoré sú reprezentované '??'. Tieto hodnoty taktiež nahradíme hodnotami NaN. Ďalej aby mali hodnoty jednotný dátový typ tak ich prekonvertujeme na numerickú hodnotu."
   ]
  },
  {
   "cell_type": "code",
   "execution_count": 107,
   "metadata": {},
   "outputs": [
    {
     "data": {
      "text/plain": [
       "array(['53', '55', '65', '66', '37', '??', '42', nan, '57', '43', '56',\n",
       "       '25', '45', '58', '86', '48', '54', '67', '46', '73', '71', '59',\n",
       "       '64', '38', '62', '26', '70', '50', '52', '63', '61', '31', '30',\n",
       "       '29', '74', '83', '41', '69', '75', '49', '27', '44', '51', '34',\n",
       "       '60', '36', '40', '39', '15', '47', '20', '35', '32', '21', '68',\n",
       "       '78', '77', '33', '28', '19', '80', '18', '81', '85', '17', '76',\n",
       "       '9', '72', '7', '87', '24', '90', '3', '23', '79', '16', '22',\n",
       "       '82', '84', '14', '113', '93', '-1', '12', '99'], dtype=object)"
      ]
     },
     "execution_count": 107,
     "metadata": {},
     "output_type": "execute_result"
    }
   ],
   "source": [
    "data.age.unique()"
   ]
  },
  {
   "cell_type": "code",
   "execution_count": 108,
   "metadata": {},
   "outputs": [],
   "source": [
    "def sanitize_age(data):\n",
    "    data.loc[(data.age == '-1'),'age'] = np.nan\n",
    "    data.loc[(data.age == '??'),'age'] = np.nan\n",
    "    return data"
   ]
  },
  {
   "cell_type": "code",
   "execution_count": 109,
   "metadata": {},
   "outputs": [],
   "source": [
    "data = sanitize_age(data)"
   ]
  },
  {
   "cell_type": "code",
   "execution_count": 110,
   "metadata": {},
   "outputs": [],
   "source": [
    "def sanitize_number(number):\n",
    "    try:\n",
    "        sanitized = int(pd.to_numeric(number, errors=\"coerce\"))\n",
    "        return sanitized if sanitized > 0 else np.nan\n",
    "    except AttributeError:\n",
    "        return np.nan\n",
    "    except ValueError:\n",
    "        return np.nan"
   ]
  },
  {
   "cell_type": "code",
   "execution_count": 111,
   "metadata": {},
   "outputs": [],
   "source": [
    "data.age = data.age.map(lambda age: sanitize_number(age))"
   ]
  },
  {
   "cell_type": "code",
   "execution_count": 112,
   "metadata": {},
   "outputs": [
    {
     "data": {
      "text/plain": [
       "array([ 53.,  55.,  65.,  66.,  37.,  nan,  42.,  57.,  43.,  56.,  25.,\n",
       "        45.,  58.,  86.,  48.,  54.,  67.,  46.,  73.,  71.,  59.,  64.,\n",
       "        38.,  62.,  26.,  70.,  50.,  52.,  63.,  61.,  31.,  30.,  29.,\n",
       "        74.,  83.,  41.,  69.,  75.,  49.,  27.,  44.,  51.,  34.,  60.,\n",
       "        36.,  40.,  39.,  15.,  47.,  20.,  35.,  32.,  21.,  68.,  78.,\n",
       "        77.,  33.,  28.,  19.,  80.,  18.,  81.,  85.,  17.,  76.,   9.,\n",
       "        72.,   7.,  87.,  24.,  90.,   3.,  23.,  79.,  16.,  22.,  82.,\n",
       "        84.,  14., 113.,  93.,  12.,  99.])"
      ]
     },
     "execution_count": 112,
     "metadata": {},
     "output_type": "execute_result"
    }
   ],
   "source": [
    "data.age.unique()"
   ]
  },
  {
   "cell_type": "code",
   "execution_count": 113,
   "metadata": {},
   "outputs": [
    {
     "data": {
      "text/plain": [
       "400"
      ]
     },
     "execution_count": 113,
     "metadata": {},
     "output_type": "execute_result"
    }
   ],
   "source": [
    "len(data[pd.isnull(data.age)])"
   ]
  },
  {
   "cell_type": "markdown",
   "metadata": {},
   "source": [
    "Sem vidíme že pri tomto atribúte sa vyskytuje furt veľa chýbajúcich hodnôt (400). Toto sa dá vyriešiť niekoľkými spôsobmi. Buď vieme túto hodnotu nahradiť priemerom podľa jeho vekovej kategórie čo je lahší spôsob alebo vieme túto hodnotu dopočítať podľa jeho dátumu narodenia."
   ]
  },
  {
   "cell_type": "markdown",
   "metadata": {},
   "source": [
    "### atribút medical info\n",
    "\n",
    "Pri tomto atribúte treba vyparsovať hodnoty jedného riadku a následne vytvoriť nové stĺpce do ktorých sa táto vyparsovaná hodnota doplní"
   ]
  },
  {
   "cell_type": "code",
   "execution_count": 114,
   "metadata": {},
   "outputs": [
    {
     "data": {
      "text/plain": [
       "array([\"{'mean_glucose':'111.8125','std_glucose':'44.88174566','kurtosis_glucose':'0.423867091','skewness_glucose':'0.239944007','mean_oxygen':'2.465719064','std_oxygen':'17.28981747','kurtosis_oxygen':'8.636118173','skewness_oxygen':'85.60462065'}\",\n",
       "       \"{'mean_glucose':'71.3984375','std_glucose':'47.29517349','kurtosis_glucose':'1.317459045','skewness_glucose':'2.340411994','mean_oxygen':'17.114548499999998','std_oxygen':'46.86283003','kurtosis_oxygen':'3.070346153','skewness_oxygen':'9.405187883'}\",\n",
       "       \"{'mean_glucose':'102.796875','std_glucose':'37.5346422','kurtosis_glucose':'0.382097319','skewness_glucose':'1.3556516','mean_oxygen':'2.706521739','std_oxygen':'19.87410184','kurtosis_oxygen':'7.955209532','skewness_oxygen':'67.64902246'}\",\n",
       "       ...,\n",
       "       \"{'mean_glucose':'129.90625','std_glucose':'48.62217818','kurtosis_glucose':'0.038773097','skewness_glucose':'-0.17251288','mean_oxygen':'3.319397993','std_oxygen':'22.72505413','kurtosis_oxygen':'8.750496392','skewness_oxygen':'81.21538915'}\",\n",
       "       \"{'mean_glucose':'92.265625','std_glucose':'35.87466994','kurtosis_glucose':'1.594314915','skewness_glucose':'5.566536879','mean_oxygen':'14.13545151','std_oxygen':'46.20425114','kurtosis_oxygen':'3.414493912','skewness_oxygen':'10.65625321'}\",\n",
       "       \"{'mean_glucose':'116.8515625','std_glucose':'52.05902447','kurtosis_glucose':'0.113621517','skewness_glucose':'-0.32555369300000003','mean_oxygen':'3.882943144','std_oxygen':'23.58584995','kurtosis_oxygen':'7.216190157000001','skewness_oxygen':'57.18259826'}\"],\n",
       "      dtype=object)"
      ]
     },
     "execution_count": 114,
     "metadata": {},
     "output_type": "execute_result"
    }
   ],
   "source": [
    "data.medical_info.unique()"
   ]
  },
  {
   "cell_type": "code",
   "execution_count": 115,
   "metadata": {},
   "outputs": [],
   "source": [
    "x = data['medical_info'].str.replace('{','').str.replace('\\'','').str.split(',', expand=True)\n",
    "i = 0\n",
    "while i < len(x.columns):\n",
    "    y = x[i].str.split(':', expand=True)\n",
    "    data[y[0][0]] = y[1].astype(float)\n",
    "    i += 2\n",
    "data.drop('medical_info', axis='columns', inplace=True)"
   ]
  },
  {
   "cell_type": "code",
   "execution_count": 116,
   "metadata": {},
   "outputs": [
    {
     "data": {
      "text/html": [
       "<div>\n",
       "<style scoped>\n",
       "    .dataframe tbody tr th:only-of-type {\n",
       "        vertical-align: middle;\n",
       "    }\n",
       "\n",
       "    .dataframe tbody tr th {\n",
       "        vertical-align: top;\n",
       "    }\n",
       "\n",
       "    .dataframe thead th {\n",
       "        text-align: right;\n",
       "    }\n",
       "</style>\n",
       "<table border=\"1\" class=\"dataframe\">\n",
       "  <thead>\n",
       "    <tr style=\"text-align: right;\">\n",
       "      <th></th>\n",
       "      <th>Unnamed: 0_x</th>\n",
       "      <th>name</th>\n",
       "      <th>address</th>\n",
       "      <th>race</th>\n",
       "      <th>marital-status</th>\n",
       "      <th>occupation</th>\n",
       "      <th>pregnant</th>\n",
       "      <th>education-num</th>\n",
       "      <th>relationship</th>\n",
       "      <th>capital-gain</th>\n",
       "      <th>...</th>\n",
       "      <th>capital-loss</th>\n",
       "      <th>workclass</th>\n",
       "      <th>Unnamed: 0_y</th>\n",
       "      <th>age</th>\n",
       "      <th>sex</th>\n",
       "      <th>date_of_birth</th>\n",
       "      <th>mean_glucose</th>\n",
       "      <th>kurtosis_glucose</th>\n",
       "      <th>mean_oxygen</th>\n",
       "      <th>kurtosis_oxygen</th>\n",
       "    </tr>\n",
       "  </thead>\n",
       "  <tbody>\n",
       "    <tr>\n",
       "      <th>0</th>\n",
       "      <td>0</td>\n",
       "      <td>Jason Michaels</td>\n",
       "      <td>498 Kristin Courts Apt. 179\\nWest Teresaport, ...</td>\n",
       "      <td>White</td>\n",
       "      <td>Married-civ-spouse</td>\n",
       "      <td>Prof-specialty</td>\n",
       "      <td>1.0</td>\n",
       "      <td>14.0</td>\n",
       "      <td>Husband</td>\n",
       "      <td>0.0</td>\n",
       "      <td>...</td>\n",
       "      <td>0.0</td>\n",
       "      <td>Private</td>\n",
       "      <td>3768</td>\n",
       "      <td>53.0</td>\n",
       "      <td>1</td>\n",
       "      <td>1966-05-16</td>\n",
       "      <td>111.812500</td>\n",
       "      <td>0.423867</td>\n",
       "      <td>2.465719</td>\n",
       "      <td>8.636118</td>\n",
       "    </tr>\n",
       "    <tr>\n",
       "      <th>1</th>\n",
       "      <td>1</td>\n",
       "      <td>Thomas Flynn</td>\n",
       "      <td>92949 Wall Drives Apt. 679\\nNew Tinaburgh, MT ...</td>\n",
       "      <td>White</td>\n",
       "      <td>Married-civ-spouse</td>\n",
       "      <td>Sales</td>\n",
       "      <td>0.0</td>\n",
       "      <td>10.0</td>\n",
       "      <td>Husband</td>\n",
       "      <td>0.0</td>\n",
       "      <td>...</td>\n",
       "      <td>0.0</td>\n",
       "      <td>Private</td>\n",
       "      <td>1089</td>\n",
       "      <td>55.0</td>\n",
       "      <td>1</td>\n",
       "      <td>1964-06-29</td>\n",
       "      <td>71.398438</td>\n",
       "      <td>1.317459</td>\n",
       "      <td>17.114548</td>\n",
       "      <td>3.070346</td>\n",
       "    </tr>\n",
       "    <tr>\n",
       "      <th>2</th>\n",
       "      <td>2</td>\n",
       "      <td>John Cato</td>\n",
       "      <td>99749 Michael Unions\\nScottstad, IN 48755</td>\n",
       "      <td>White</td>\n",
       "      <td>Married-civ-spouse</td>\n",
       "      <td>Prof-specialty</td>\n",
       "      <td>0.0</td>\n",
       "      <td>14.0</td>\n",
       "      <td>Husband</td>\n",
       "      <td>0.0</td>\n",
       "      <td>...</td>\n",
       "      <td>0.0</td>\n",
       "      <td>Private</td>\n",
       "      <td>3071</td>\n",
       "      <td>65.0</td>\n",
       "      <td>1</td>\n",
       "      <td>54-01-25</td>\n",
       "      <td>102.796875</td>\n",
       "      <td>0.382097</td>\n",
       "      <td>2.706522</td>\n",
       "      <td>7.955210</td>\n",
       "    </tr>\n",
       "    <tr>\n",
       "      <th>3</th>\n",
       "      <td>3</td>\n",
       "      <td>John Mcdonald</td>\n",
       "      <td>241 Michael Plains\\nPort Stephanie, OH 65606</td>\n",
       "      <td>White</td>\n",
       "      <td>Married-civ-spouse</td>\n",
       "      <td>Adm-clerical</td>\n",
       "      <td>0.0</td>\n",
       "      <td>13.0</td>\n",
       "      <td>Husband</td>\n",
       "      <td>0.0</td>\n",
       "      <td>...</td>\n",
       "      <td>0.0</td>\n",
       "      <td>Federal-gov</td>\n",
       "      <td>2469</td>\n",
       "      <td>66.0</td>\n",
       "      <td>1</td>\n",
       "      <td>30/10/1952</td>\n",
       "      <td>54.257812</td>\n",
       "      <td>2.979318</td>\n",
       "      <td>159.611204</td>\n",
       "      <td>-0.936519</td>\n",
       "    </tr>\n",
       "    <tr>\n",
       "      <th>4</th>\n",
       "      <td>4</td>\n",
       "      <td>Daniel Arreola</td>\n",
       "      <td>4206 Tiffany Land Apt. 402\\nSouth Michael, SC ...</td>\n",
       "      <td>White</td>\n",
       "      <td>Married-civ-spouse</td>\n",
       "      <td>Sales</td>\n",
       "      <td>0.0</td>\n",
       "      <td>10.0</td>\n",
       "      <td>Husband</td>\n",
       "      <td>0.0</td>\n",
       "      <td>...</td>\n",
       "      <td>1902.0</td>\n",
       "      <td>Federal-gov</td>\n",
       "      <td>3815</td>\n",
       "      <td>37.0</td>\n",
       "      <td>1</td>\n",
       "      <td>1982-01-13</td>\n",
       "      <td>125.492188</td>\n",
       "      <td>0.208886</td>\n",
       "      <td>6.483278</td>\n",
       "      <td>5.595848</td>\n",
       "    </tr>\n",
       "    <tr>\n",
       "      <th>...</th>\n",
       "      <td>...</td>\n",
       "      <td>...</td>\n",
       "      <td>...</td>\n",
       "      <td>...</td>\n",
       "      <td>...</td>\n",
       "      <td>...</td>\n",
       "      <td>...</td>\n",
       "      <td>...</td>\n",
       "      <td>...</td>\n",
       "      <td>...</td>\n",
       "      <td>...</td>\n",
       "      <td>...</td>\n",
       "      <td>...</td>\n",
       "      <td>...</td>\n",
       "      <td>...</td>\n",
       "      <td>...</td>\n",
       "      <td>...</td>\n",
       "      <td>...</td>\n",
       "      <td>...</td>\n",
       "      <td>...</td>\n",
       "      <td>...</td>\n",
       "    </tr>\n",
       "    <tr>\n",
       "      <th>3978</th>\n",
       "      <td>3978</td>\n",
       "      <td>Brandon Lash</td>\n",
       "      <td>Unit 1757 Box 4440\\nDPO AP 53533</td>\n",
       "      <td>White</td>\n",
       "      <td>Married-civ-spouse</td>\n",
       "      <td>Machine_op_inspct</td>\n",
       "      <td>0.0</td>\n",
       "      <td>9.0</td>\n",
       "      <td>Husband</td>\n",
       "      <td>0.0</td>\n",
       "      <td>...</td>\n",
       "      <td>0.0</td>\n",
       "      <td>Private</td>\n",
       "      <td>2848</td>\n",
       "      <td>NaN</td>\n",
       "      <td>1</td>\n",
       "      <td>52-04-15</td>\n",
       "      <td>48.265625</td>\n",
       "      <td>3.385013</td>\n",
       "      <td>11.530936</td>\n",
       "      <td>3.977771</td>\n",
       "    </tr>\n",
       "    <tr>\n",
       "      <th>3979</th>\n",
       "      <td>3979</td>\n",
       "      <td>William Lamay</td>\n",
       "      <td>330 Mary Locks Apt. 162\\nNew Kylietown, ME 55604</td>\n",
       "      <td>White</td>\n",
       "      <td>Married-civ-spouse</td>\n",
       "      <td>Other-service</td>\n",
       "      <td>0.0</td>\n",
       "      <td>10.0</td>\n",
       "      <td>Husband</td>\n",
       "      <td>0.0</td>\n",
       "      <td>...</td>\n",
       "      <td>0.0</td>\n",
       "      <td>Private</td>\n",
       "      <td>2026</td>\n",
       "      <td>48.0</td>\n",
       "      <td>1</td>\n",
       "      <td>1971-08-26 00:00:00</td>\n",
       "      <td>103.351562</td>\n",
       "      <td>0.398672</td>\n",
       "      <td>2.050167</td>\n",
       "      <td>10.671070</td>\n",
       "    </tr>\n",
       "    <tr>\n",
       "      <th>3980</th>\n",
       "      <td>3980</td>\n",
       "      <td>Alexander Ramon</td>\n",
       "      <td>80904 Johnson Forks\\nEast Johnnychester, NE 59766</td>\n",
       "      <td>White</td>\n",
       "      <td>Married-civ-spouse</td>\n",
       "      <td>Machine-op-inspct</td>\n",
       "      <td>0.0</td>\n",
       "      <td>10.0</td>\n",
       "      <td>Husband</td>\n",
       "      <td>0.0</td>\n",
       "      <td>...</td>\n",
       "      <td>0.0</td>\n",
       "      <td>Private</td>\n",
       "      <td>3745</td>\n",
       "      <td>31.0</td>\n",
       "      <td>1</td>\n",
       "      <td>1988-09-29</td>\n",
       "      <td>129.906250</td>\n",
       "      <td>0.038773</td>\n",
       "      <td>3.319398</td>\n",
       "      <td>8.750496</td>\n",
       "    </tr>\n",
       "    <tr>\n",
       "      <th>3981</th>\n",
       "      <td>3981</td>\n",
       "      <td>Ismael Petronella</td>\n",
       "      <td>944 Carrie Mall Apt. 017\\nWilsonmouth, MO 77627</td>\n",
       "      <td>White</td>\n",
       "      <td>Never-married</td>\n",
       "      <td>Machine-op-inspct</td>\n",
       "      <td>0.0</td>\n",
       "      <td>9.0</td>\n",
       "      <td>Own-child</td>\n",
       "      <td>0.0</td>\n",
       "      <td>...</td>\n",
       "      <td>0.0</td>\n",
       "      <td>Federal-gov</td>\n",
       "      <td>3735</td>\n",
       "      <td>60.0</td>\n",
       "      <td>1</td>\n",
       "      <td>1958/12/17</td>\n",
       "      <td>92.265625</td>\n",
       "      <td>1.594315</td>\n",
       "      <td>14.135452</td>\n",
       "      <td>3.414494</td>\n",
       "    </tr>\n",
       "    <tr>\n",
       "      <th>3982</th>\n",
       "      <td>3982</td>\n",
       "      <td>Robert Edge</td>\n",
       "      <td>29674 Debra Brooks Suite 737\\nWest Melissa, OH...</td>\n",
       "      <td>White</td>\n",
       "      <td>Divorced</td>\n",
       "      <td>Prof-specialty</td>\n",
       "      <td>0.0</td>\n",
       "      <td>13.0</td>\n",
       "      <td>Not-in-family</td>\n",
       "      <td>14084.0</td>\n",
       "      <td>...</td>\n",
       "      <td>0.0</td>\n",
       "      <td>State-gov</td>\n",
       "      <td>2650</td>\n",
       "      <td>60.0</td>\n",
       "      <td>1</td>\n",
       "      <td>1959-09-29</td>\n",
       "      <td>116.851562</td>\n",
       "      <td>0.113622</td>\n",
       "      <td>3.882943</td>\n",
       "      <td>7.216190</td>\n",
       "    </tr>\n",
       "  </tbody>\n",
       "</table>\n",
       "<p>3983 rows × 26 columns</p>\n",
       "</div>"
      ],
      "text/plain": [
       "      Unnamed: 0_x               name  \\\n",
       "0                0     Jason Michaels   \n",
       "1                1       Thomas Flynn   \n",
       "2                2          John Cato   \n",
       "3                3      John Mcdonald   \n",
       "4                4     Daniel Arreola   \n",
       "...            ...                ...   \n",
       "3978          3978       Brandon Lash   \n",
       "3979          3979      William Lamay   \n",
       "3980          3980    Alexander Ramon   \n",
       "3981          3981  Ismael Petronella   \n",
       "3982          3982        Robert Edge   \n",
       "\n",
       "                                                address    race  \\\n",
       "0     498 Kristin Courts Apt. 179\\nWest Teresaport, ...   White   \n",
       "1     92949 Wall Drives Apt. 679\\nNew Tinaburgh, MT ...   White   \n",
       "2             99749 Michael Unions\\nScottstad, IN 48755   White   \n",
       "3          241 Michael Plains\\nPort Stephanie, OH 65606   White   \n",
       "4     4206 Tiffany Land Apt. 402\\nSouth Michael, SC ...   White   \n",
       "...                                                 ...     ...   \n",
       "3978                   Unit 1757 Box 4440\\nDPO AP 53533   White   \n",
       "3979   330 Mary Locks Apt. 162\\nNew Kylietown, ME 55604   White   \n",
       "3980  80904 Johnson Forks\\nEast Johnnychester, NE 59766   White   \n",
       "3981    944 Carrie Mall Apt. 017\\nWilsonmouth, MO 77627   White   \n",
       "3982  29674 Debra Brooks Suite 737\\nWest Melissa, OH...   White   \n",
       "\n",
       "           marital-status          occupation  pregnant  education-num  \\\n",
       "0      Married-civ-spouse      Prof-specialty       1.0           14.0   \n",
       "1      Married-civ-spouse               Sales       0.0           10.0   \n",
       "2      Married-civ-spouse      Prof-specialty       0.0           14.0   \n",
       "3      Married-civ-spouse        Adm-clerical       0.0           13.0   \n",
       "4      Married-civ-spouse               Sales       0.0           10.0   \n",
       "...                   ...                 ...       ...            ...   \n",
       "3978   Married-civ-spouse   Machine_op_inspct       0.0            9.0   \n",
       "3979   Married-civ-spouse       Other-service       0.0           10.0   \n",
       "3980   Married-civ-spouse   Machine-op-inspct       0.0           10.0   \n",
       "3981        Never-married   Machine-op-inspct       0.0            9.0   \n",
       "3982             Divorced      Prof-specialty       0.0           13.0   \n",
       "\n",
       "        relationship  capital-gain  ... capital-loss     workclass  \\\n",
       "0            Husband           0.0  ...          0.0       Private   \n",
       "1            Husband           0.0  ...          0.0       Private   \n",
       "2            Husband           0.0  ...          0.0       Private   \n",
       "3            Husband           0.0  ...          0.0   Federal-gov   \n",
       "4            Husband           0.0  ...       1902.0   Federal-gov   \n",
       "...              ...           ...  ...          ...           ...   \n",
       "3978         Husband           0.0  ...          0.0       Private   \n",
       "3979         Husband           0.0  ...          0.0       Private   \n",
       "3980         Husband           0.0  ...          0.0       Private   \n",
       "3981       Own-child           0.0  ...          0.0   Federal-gov   \n",
       "3982   Not-in-family       14084.0  ...          0.0     State-gov   \n",
       "\n",
       "      Unnamed: 0_y   age sex        date_of_birth  mean_glucose  \\\n",
       "0             3768  53.0   1           1966-05-16    111.812500   \n",
       "1             1089  55.0   1           1964-06-29     71.398438   \n",
       "2             3071  65.0   1             54-01-25    102.796875   \n",
       "3             2469  66.0   1           30/10/1952     54.257812   \n",
       "4             3815  37.0   1           1982-01-13    125.492188   \n",
       "...            ...   ...  ..                  ...           ...   \n",
       "3978          2848   NaN   1             52-04-15     48.265625   \n",
       "3979          2026  48.0   1  1971-08-26 00:00:00    103.351562   \n",
       "3980          3745  31.0   1           1988-09-29    129.906250   \n",
       "3981          3735  60.0   1           1958/12/17     92.265625   \n",
       "3982          2650  60.0   1           1959-09-29    116.851562   \n",
       "\n",
       "     kurtosis_glucose  mean_oxygen  kurtosis_oxygen  \n",
       "0            0.423867     2.465719         8.636118  \n",
       "1            1.317459    17.114548         3.070346  \n",
       "2            0.382097     2.706522         7.955210  \n",
       "3            2.979318   159.611204        -0.936519  \n",
       "4            0.208886     6.483278         5.595848  \n",
       "...               ...          ...              ...  \n",
       "3978         3.385013    11.530936         3.977771  \n",
       "3979         0.398672     2.050167        10.671070  \n",
       "3980         0.038773     3.319398         8.750496  \n",
       "3981         1.594315    14.135452         3.414494  \n",
       "3982         0.113622     3.882943         7.216190  \n",
       "\n",
       "[3983 rows x 26 columns]"
      ]
     },
     "execution_count": 116,
     "metadata": {},
     "output_type": "execute_result"
    }
   ],
   "source": [
    "data"
   ]
  },
  {
   "cell_type": "markdown",
   "metadata": {},
   "source": [
    "### atribút date of birth\n",
    "\n",
    "Tento atribút nemá nejaký jednotný tvar, čiže je nutné to ošetriť"
   ]
  },
  {
   "cell_type": "code",
   "execution_count": 117,
   "metadata": {},
   "outputs": [
    {
     "data": {
      "text/plain": [
       "array(['1966-05-16', '1964-06-29', '54-01-25', ..., '1988-09-29',\n",
       "       '1958/12/17', '1959-09-29'], dtype=object)"
      ]
     },
     "execution_count": 117,
     "metadata": {},
     "output_type": "execute_result"
    }
   ],
   "source": [
    "data.date_of_birth.unique()"
   ]
  },
  {
   "cell_type": "code",
   "execution_count": 118,
   "metadata": {},
   "outputs": [],
   "source": [
    "def sanitize_date(date):\n",
    "    date = str(date).replace('/', '-')\n",
    "    date = date[:10]\n",
    "    date = date.split(\"-\")\n",
    "    \n",
    "    if date[0] != 'nan':\n",
    "        if len(date[0]) != 4:\n",
    "            if len(date[2]) == 2 and int(date[0]) > 31:\n",
    "                new_date = \"19\"+ date[0] +\"-\"+date[1]+\"-\"+date[2] \n",
    "                \n",
    "            elif ((len(date[2]) == 2) and (int(date[0]) < 31) and (int(date[2]) > 31)):\n",
    "                new_date = \"19\"+date[2]+\"-\"+date[1]+\"-\"+date[0] \n",
    "                \n",
    "            elif ((len(date[2]) == 2) and (int(date[0]) < 31) and (int(date[2]) < 31)):\n",
    "                new_date = \"20\"+ date[2] + \"-\" +date[1]+\"-\" + date[0] \n",
    "            else:\n",
    "                new_date = date[2]+\"-\"+date[1]+\"-\"+date[0] \n",
    "            return new_date        \n",
    "    return '-'.join(date)"
   ]
  },
  {
   "cell_type": "code",
   "execution_count": 119,
   "metadata": {},
   "outputs": [
    {
     "data": {
      "text/plain": [
       "0    1966-05-16\n",
       "1    1964-06-29\n",
       "2    1954-01-25\n",
       "3    1952-10-30\n",
       "4    1982-01-13\n",
       "5    1950-09-17\n",
       "6    1976-11-25\n",
       "7    1954-07-14\n",
       "8    1954-07-14\n",
       "9    1962-09-11\n",
       "Name: date_of_birth, dtype: object"
      ]
     },
     "execution_count": 119,
     "metadata": {},
     "output_type": "execute_result"
    }
   ],
   "source": [
    "data.date_of_birth = data.date_of_birth.map(sanitize_date)\n",
    "data.date_of_birth.head(10)"
   ]
  },
  {
   "cell_type": "markdown",
   "metadata": {},
   "source": [
    "Teraz má tento atribúť jednotný tvar hodnôt. teraz môžme upraviť atribút age tak, že pomocou dátumu vypočítame chýbajúce hodnoty"
   ]
  },
  {
   "cell_type": "code",
   "execution_count": 120,
   "metadata": {},
   "outputs": [
    {
     "data": {
      "text/plain": [
       "0"
      ]
     },
     "execution_count": 120,
     "metadata": {},
     "output_type": "execute_result"
    }
   ],
   "source": [
    "len(data[pd.isnull(data.date_of_birth)])"
   ]
  },
  {
   "cell_type": "markdown",
   "metadata": {},
   "source": [
    "Tu vidíme že pri stĺpci dátumu narodenia nechýbajú žiadne hodnoty tak by nemal byť problém s dopočítaním hodnôt pre stĺpec vek"
   ]
  },
  {
   "cell_type": "code",
   "execution_count": 121,
   "metadata": {},
   "outputs": [],
   "source": [
    "years = [];\n",
    "\n",
    "def find_measure_year(age, date_of_birth):\n",
    "    if (pd.notnull(age)):\n",
    "        years.append(int(date_of_birth.split('-')[0]) + int(age))\n",
    "        \n",
    "data.apply(lambda x: find_measure_year(x.age,x.date_of_birth), axis = 1)\n",
    "\n",
    "measure_year = pd.Series(years).mode();"
   ]
  },
  {
   "cell_type": "code",
   "execution_count": 122,
   "metadata": {},
   "outputs": [],
   "source": [
    "def fill_null_age(age,date):\n",
    "    if (date):\n",
    "        return (measure_year - int(date.split('-')[0]))[0]\n",
    "    return np.nan\n",
    "\n",
    "data.loc[data.age.isnull(),'age'] = data[data.age.isnull()].apply(lambda x: fill_null_age(x.age,x.date_of_birth),axis = 1)"
   ]
  },
  {
   "cell_type": "code",
   "execution_count": 123,
   "metadata": {},
   "outputs": [
    {
     "data": {
      "text/plain": [
       "0"
      ]
     },
     "execution_count": 123,
     "metadata": {},
     "output_type": "execute_result"
    }
   ],
   "source": [
    "len(data[pd.isnull(data.age)])"
   ]
  },
  {
   "cell_type": "markdown",
   "metadata": {},
   "source": [
    "Ako je vidieť podarilo sa nám doplniť všetky hodnoty pri stĺpci age. Docielili sme to tak, že sme našli najviac vyskytujúci sa rok po sčítani veku a roku narodenia. Takto sme našli rok kedy sa uskutočnilo meranie, podľa ktorého sme ďalej našli roky chýbajúcich ľudí v datasete podľa dátumu narodenia."
   ]
  },
  {
   "cell_type": "code",
   "execution_count": 124,
   "metadata": {},
   "outputs": [
    {
     "data": {
      "text/plain": [
       "array([ 53.,  55.,  65.,  66.,  37.,  69.,  42.,  57.,  43.,  56.,  25.,\n",
       "        45.,  58.,  86.,  48.,  54.,  67.,  46.,  73.,  71.,  59.,  64.,\n",
       "        38.,  62.,  26.,  70.,  50.,  52.,  63.,  61.,  51.,  31.,  30.,\n",
       "        72.,  29.,  74.,  83.,  41.,  75.,  49.,  27.,  44.,  34.,  60.,\n",
       "        36.,  40.,  39.,  32.,  15.,  47.,  68.,  20.,  35.,  21.,  78.,\n",
       "        77.,  33.,  28.,  19.,  80.,  18.,  81.,  85.,  17.,  76.,   9.,\n",
       "         7.,  87.,  24.,  90.,   3.,  23.,  79.,  16.,  97.,  22.,  82.,\n",
       "        84.,  14., 113.,  93.,  -1.,  12.,  99.])"
      ]
     },
     "execution_count": 124,
     "metadata": {},
     "output_type": "execute_result"
    }
   ],
   "source": [
    "data.age.unique()"
   ]
  },
  {
   "cell_type": "markdown",
   "metadata": {},
   "source": [
    "Po úprave vidíme že sa pri atrigúte age znova vyskytuje hodnota -1. To znamená len to, že sa v datasete vyskytujú aj niektoré zlé dátumy. Tieto hodnoty teda doplníme priemerom ako bolo spomenuté vyššie."
   ]
  },
  {
   "cell_type": "code",
   "execution_count": 125,
   "metadata": {},
   "outputs": [
    {
     "data": {
      "text/plain": [
       "3307    2020-04-06\n",
       "Name: date_of_birth, dtype: object"
      ]
     },
     "execution_count": 125,
     "metadata": {},
     "output_type": "execute_result"
    }
   ],
   "source": [
    "data.loc[(data.age < 0)].date_of_birth"
   ]
  },
  {
   "cell_type": "markdown",
   "metadata": {},
   "source": [
    "Tu vidíme, že pri niektorých hodnotách je naozaj nastavený zlý dátum narodenia a to ten istý"
   ]
  },
  {
   "cell_type": "code",
   "execution_count": 126,
   "metadata": {},
   "outputs": [],
   "source": [
    "median = data[(data.age > 0)].groupby('sex', as_index=False).age.mean()\n",
    "data.loc[(data.age < 0), 'age'] = data[data.age < 0].age.map(lambda a: round(median.loc[1, 'age'], 0))"
   ]
  },
  {
   "cell_type": "code",
   "execution_count": 127,
   "metadata": {},
   "outputs": [
    {
     "data": {
      "text/plain": [
       "count    3983.000000\n",
       "mean       51.844590\n",
       "std        11.783656\n",
       "min         3.000000\n",
       "25%        44.000000\n",
       "50%        52.000000\n",
       "75%        60.000000\n",
       "max       113.000000\n",
       "Name: age, dtype: float64"
      ]
     },
     "execution_count": 127,
     "metadata": {},
     "output_type": "execute_result"
    }
   ],
   "source": [
    "data['age'].describe()"
   ]
  },
  {
   "cell_type": "code",
   "execution_count": 128,
   "metadata": {},
   "outputs": [
    {
     "data": {
      "text/plain": [
       "array([ 53.,  55.,  65.,  66.,  37.,  69.,  42.,  57.,  43.,  56.,  25.,\n",
       "        45.,  58.,  86.,  48.,  54.,  67.,  46.,  73.,  71.,  59.,  64.,\n",
       "        38.,  62.,  26.,  70.,  50.,  52.,  63.,  61.,  51.,  31.,  30.,\n",
       "        72.,  29.,  74.,  83.,  41.,  75.,  49.,  27.,  44.,  34.,  60.,\n",
       "        36.,  40.,  39.,  32.,  15.,  47.,  68.,  20.,  35.,  21.,  78.,\n",
       "        77.,  33.,  28.,  19.,  80.,  18.,  81.,  85.,  17.,  76.,   9.,\n",
       "         7.,  87.,  24.,  90.,   3.,  23.,  79.,  16.,  97.,  22.,  82.,\n",
       "        84.,  14., 113.,  93.,  12.,  99.])"
      ]
     },
     "execution_count": 128,
     "metadata": {},
     "output_type": "execute_result"
    }
   ],
   "source": [
    "data.age.unique()"
   ]
  },
  {
   "cell_type": "markdown",
   "metadata": {},
   "source": [
    "Tu boli nastavené všetky tieto neznáme hodnoty mediánom podľa pohlavia."
   ]
  },
  {
   "cell_type": "markdown",
   "metadata": {},
   "source": [
    "### atrbút income\n",
    "\n",
    "Pri tomto atribúte tiež prekonvertujeme hodnoty na číselný tvar"
   ]
  },
  {
   "cell_type": "code",
   "execution_count": 129,
   "metadata": {},
   "outputs": [
    {
     "data": {
      "text/plain": [
       "array([' >50K', ' <=50K', nan], dtype=object)"
      ]
     },
     "execution_count": 129,
     "metadata": {},
     "output_type": "execute_result"
    }
   ],
   "source": [
    "data.income.unique()"
   ]
  },
  {
   "cell_type": "code",
   "execution_count": 130,
   "metadata": {},
   "outputs": [],
   "source": [
    "data.income = data.income.map(lambda income: 0 if str(income).strip() == '<=50K' else 1 if str(income).strip() == '>50K' else np.nan)"
   ]
  },
  {
   "cell_type": "code",
   "execution_count": 131,
   "metadata": {},
   "outputs": [
    {
     "data": {
      "text/plain": [
       "array([ 1.,  0., nan])"
      ]
     },
     "execution_count": 131,
     "metadata": {},
     "output_type": "execute_result"
    }
   ],
   "source": [
    "data.income.unique()"
   ]
  },
  {
   "cell_type": "markdown",
   "metadata": {},
   "source": [
    "### odstránenie duplikátov"
   ]
  },
  {
   "cell_type": "code",
   "execution_count": 132,
   "metadata": {},
   "outputs": [
    {
     "name": "stdout",
     "output_type": "stream",
     "text": [
      "other lenght: 3933\n",
      "personal lenght:  3983\n",
      "data lenght(spojený dataset):  3983\n"
     ]
    }
   ],
   "source": [
    "print('other lenght:',len(other))\n",
    "print('personal lenght: ',len(train))\n",
    "print('data lenght(spojený dataset): ',len(data))"
   ]
  },
  {
   "cell_type": "markdown",
   "metadata": {},
   "source": [
    "Tu môžme vidieť že tieto dva datasety nemajú rovnakú dĺžku a pritom by ju mali mať rovnakú. Tak v prvom rade odstránime možné duplikáty v spojenom datasete, ktorý sme spojili na začiatku. Odstraňovať ich budeme na základe mena, dátumu narodenia a adresy."
   ]
  },
  {
   "cell_type": "code",
   "execution_count": 133,
   "metadata": {},
   "outputs": [
    {
     "name": "stdout",
     "output_type": "stream",
     "text": [
      "data lenght(spojený dataset):  3933\n"
     ]
    }
   ],
   "source": [
    "data = data.drop_duplicates(['name','address','date_of_birth'], keep=\"last\")\n",
    "print('data lenght(spojený dataset): ',len(data))"
   ]
  },
  {
   "cell_type": "markdown",
   "metadata": {},
   "source": [
    "### pridanie chýbajúcich hodnôt"
   ]
  },
  {
   "cell_type": "code",
   "execution_count": 134,
   "metadata": {},
   "outputs": [
    {
     "data": {
      "text/plain": [
       "race                 11\n",
       "marital-status        7\n",
       "occupation           13\n",
       "pregnant              7\n",
       "education-num       400\n",
       "relationship          9\n",
       "capital-gain         10\n",
       "education            10\n",
       "fnlwgt               11\n",
       "class                12\n",
       "income                9\n",
       "native-country        8\n",
       "hours-per-week        9\n",
       "capital-loss          7\n",
       "workclass             8\n",
       "mean_glucose          9\n",
       "kurtosis_glucose      9\n",
       "mean_oxygen           9\n",
       "kurtosis_oxygen       9\n",
       "dtype: int64"
      ]
     },
     "execution_count": 134,
     "metadata": {},
     "output_type": "execute_result"
    }
   ],
   "source": [
    "data[data.columns[data.isnull().any()].tolist()].isnull().sum()"
   ]
  },
  {
   "cell_type": "markdown",
   "metadata": {},
   "source": [
    "Sem vidíme, v ktorých stĺpcoch datasetu chýba koľko hodnôt. Na doplnenie týchto hodnot sa dá využit viacero ktoré využujeme (medián, knn, lineárna regresia)."
   ]
  },
  {
   "cell_type": "markdown",
   "metadata": {},
   "source": [
    "### doplnenie hodnôt education-num"
   ]
  },
  {
   "cell_type": "markdown",
   "metadata": {},
   "source": [
    "V prvej analýze sme zistili závislosť atribútov education a atribútov education-num, kde education-num je len čiselná reprezentácia stĺpca education. Čiže pri tomto atribúte nám stačí doplniť túto hodnotu podľa stĺpca education."
   ]
  },
  {
   "cell_type": "code",
   "execution_count": 142,
   "metadata": {},
   "outputs": [
    {
     "name": "stdout",
     "output_type": "stream",
     "text": [
      "{' Masters': 10.0, ' Some-college': 10.0, ' Bachelors': 10.0, ' HS-grad': 9.0, ' 7th-8th': 4.0, ' Assoc-voc': 10.0, ' Prof-school': 10.0, nan: 10.0, ' 11th': 7.0, ' 9th': 5.0, ' 10th': 6.0, ' Assoc-acdm': 10.0, ' 12th': 8.0, ' 5th-6th': 3.0, ' Doctorate': 10.0, ' 1st-4th': 2.0, ' Preschool': 1.0}\n"
     ]
    }
   ],
   "source": [
    "def get_education_num(education):\n",
    "    temp = 10.0\n",
    "    for i in data['education-num'].loc[data.education == education]:\n",
    "        if (i > 0) & (i < temp):\n",
    "            temp = i\n",
    "    return temp\n",
    "\n",
    "\n",
    "map = {}\n",
    "for i in data.education.unique():\n",
    "    map[i] = (get_education_num(i))\n",
    "print(map)"
   ]
  },
  {
   "cell_type": "code",
   "execution_count": 143,
   "metadata": {},
   "outputs": [],
   "source": [
    "data.loc[:,'education-num'] = data.education.map(map)"
   ]
  },
  {
   "cell_type": "code",
   "execution_count": 145,
   "metadata": {},
   "outputs": [
    {
     "name": "stdout",
     "output_type": "stream",
     "text": [
      "Missing education-num:  0\n",
      "Missing education:  10\n"
     ]
    }
   ],
   "source": [
    "print('Missing education-num: ', len(data[data['education-num'].isnull()]))\n",
    "print('Missing education: ', len(data[data['education'].isnull()]))"
   ]
  },
  {
   "cell_type": "markdown",
   "metadata": {},
   "source": [
    "Tieto hodnoty sa nám podarilo doplniť až nazopár hodnôt pri ktorých nie je uvedená ani hodnota education."
   ]
  },
  {
   "cell_type": "code",
   "execution_count": null,
   "metadata": {},
   "outputs": [],
   "source": []
  }
 ],
 "metadata": {
  "kernelspec": {
   "display_name": "Python 3",
   "language": "python",
   "name": "python3"
  },
  "language_info": {
   "codemirror_mode": {
    "name": "ipython",
    "version": 3
   },
   "file_extension": ".py",
   "mimetype": "text/x-python",
   "name": "python",
   "nbconvert_exporter": "python",
   "pygments_lexer": "ipython3",
   "version": "3.8.5"
  }
 },
 "nbformat": 4,
 "nbformat_minor": 4
}
