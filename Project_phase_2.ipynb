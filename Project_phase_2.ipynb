{
 "cells": [
  {
   "cell_type": "code",
   "execution_count": 40,
   "metadata": {},
   "outputs": [],
   "source": [
    "import pandas as pd\n",
    "import numpy as np\n",
    "import seaborn as sns\n",
    "import matplotlib.pyplot as plt\n",
    "import scipy.stats as sc\n",
    "import io\n",
    "import requests\n",
    "import statsmodels.api as sm\n",
    "\n",
    "url1 = \"https://raw.githubusercontent.com/SzMatej/IAU_2020-2021/main/65/other_train.csv\"\n",
    "url2 = \"https://raw.githubusercontent.com/SzMatej/IAU_2020-2021/main/65/personal_train.csv\"\n",
    "\n",
    "db1 = requests.get(url1).content\n",
    "db2 = requests.get(url2).content\n",
    "train = pd.read_csv(io.StringIO(db1.decode('utf-8')))\n",
    "other = pd.read_csv(io.StringIO(db2.decode('utf-8')))"
   ]
  },
  {
   "cell_type": "code",
   "execution_count": 68,
   "metadata": {},
   "outputs": [
    {
     "name": "stdout",
     "output_type": "stream",
     "text": [
      "3983\n"
     ]
    }
   ],
   "source": [
    "data = pd.merge(train,other,on=['name','address'], how = 'outer')\n",
    "data_bf = data\n",
    "\n",
    "print(len(data))"
   ]
  },
  {
   "cell_type": "code",
   "execution_count": 69,
   "metadata": {},
   "outputs": [
    {
     "name": "stdout",
     "output_type": "stream",
     "text": [
      "<class 'pandas.core.frame.DataFrame'>\n",
      "Int64Index: 3983 entries, 0 to 3982\n",
      "Data columns (total 23 columns):\n",
      " #   Column          Non-Null Count  Dtype  \n",
      "---  ------          --------------  -----  \n",
      " 0   Unnamed: 0_x    3983 non-null   int64  \n",
      " 1   name            3983 non-null   object \n",
      " 2   address         3983 non-null   object \n",
      " 3   race            3960 non-null   object \n",
      " 4   marital-status  3967 non-null   object \n",
      " 5   occupation      3962 non-null   object \n",
      " 6   pregnant        3969 non-null   object \n",
      " 7   education-num   3569 non-null   float64\n",
      " 8   relationship    3967 non-null   object \n",
      " 9   capital-gain    3963 non-null   float64\n",
      " 10  education       3968 non-null   object \n",
      " 11  fnlwgt          3965 non-null   float64\n",
      " 12  class           3964 non-null   float64\n",
      " 13  income          3968 non-null   object \n",
      " 14  medical_info    3965 non-null   object \n",
      " 15  native-country  3969 non-null   object \n",
      " 16  hours-per-week  3961 non-null   float64\n",
      " 17  capital-loss    3968 non-null   float64\n",
      " 18  workclass       3971 non-null   object \n",
      " 19  Unnamed: 0_y    3983 non-null   int64  \n",
      " 20  age             3715 non-null   object \n",
      " 21  sex             3983 non-null   int64  \n",
      " 22  date_of_birth   3983 non-null   object \n",
      "dtypes: float64(6), int64(3), object(14)\n",
      "memory usage: 529.0+ KB\n"
     ]
    }
   ],
   "source": [
    "data.info()"
   ]
  },
  {
   "cell_type": "markdown",
   "metadata": {},
   "source": [
    "### atribút pregnant\n",
    "\n",
    "Upravíme boolean hodnoty v datasete tak že ich nahradíme číselnou reprezentáciou.\n",
    "Taktiež nastavíme všetky chodnoty u mužov na 0."
   ]
  },
  {
   "cell_type": "code",
   "execution_count": 49,
   "metadata": {},
   "outputs": [],
   "source": [
    "def sanitize_boolean(boolean):\n",
    "    try:\n",
    "        if boolean.strip() in ['f','F','FALSE','false','False']:\n",
    "            return 0\n",
    "        elif boolean.strip() in ['t','T','TRUE','true','True']:\n",
    "            return 1\n",
    "        else:\n",
    "            return np.nan\n",
    "    except AttributeError:\n",
    "        return np.nan"
   ]
  },
  {
   "cell_type": "code",
   "execution_count": 50,
   "metadata": {},
   "outputs": [],
   "source": [
    "data.pregnant = data.pregnant.map(sanitize_boolean)"
   ]
  },
  {
   "cell_type": "code",
   "execution_count": 51,
   "metadata": {},
   "outputs": [],
   "source": [
    "def sanitize_pregnancy(data):\n",
    "    data.loc[(data.sex == 1),'pregnant'] = 0\n",
    "    return other\n",
    "\n",
    "data = sanitize_pregnancy(data)"
   ]
  },
  {
   "cell_type": "markdown",
   "metadata": {},
   "source": [
    "### atribút sex\n",
    "\n",
    "Tento atribút neobsahuje žiadne prázdne hodnoty. Pri tomto atribúte treba len dané hodnoty prekonvertovať na numerické hodnoty."
   ]
  },
  {
   "cell_type": "code",
   "execution_count": 53,
   "metadata": {},
   "outputs": [
    {
     "data": {
      "text/plain": [
       "array([' Female', ' Male'], dtype=object)"
      ]
     },
     "execution_count": 53,
     "metadata": {},
     "output_type": "execute_result"
    }
   ],
   "source": [
    "data.sex.unique()"
   ]
  },
  {
   "cell_type": "code",
   "execution_count": 55,
   "metadata": {},
   "outputs": [],
   "source": [
    "def sanitize_sex(sex):\n",
    "    return 1 if sex.strip() == 'Male' else 0"
   ]
  },
  {
   "cell_type": "code",
   "execution_count": 56,
   "metadata": {},
   "outputs": [],
   "source": [
    "data.sex = data.sex.map(lambda sex: sanitize_sex(sex))"
   ]
  },
  {
   "cell_type": "code",
   "execution_count": 57,
   "metadata": {},
   "outputs": [
    {
     "data": {
      "text/plain": [
       "array([0, 1], dtype=int64)"
      ]
     },
     "execution_count": 57,
     "metadata": {},
     "output_type": "execute_result"
    }
   ],
   "source": [
    "data.sex.unique()"
   ]
  },
  {
   "cell_type": "markdown",
   "metadata": {},
   "source": [
    "### atribút age\n",
    "\n",
    "Pri tomto atribúte nahradíme záporné hodnoty na NaN. Takisto sa tu nachádzajú aj neznáme hodnoty ktoré sú reprezentované '??'. Tieto hodnoty taktiež nahradíme hodnotami NaN."
   ]
  },
  {
   "cell_type": "code",
   "execution_count": 58,
   "metadata": {},
   "outputs": [
    {
     "data": {
      "text/plain": [
       "array(['52', '46', '41', '57', '63', '54', '53', '??', '49', nan, '30',\n",
       "       '55', '87', '42', '50', '33', '59', '65', '58', '51', '93', '40',\n",
       "       '68', '43', '34', '78', '71', '23', '67', '39', '81', '38', '64',\n",
       "       '44', '31', '48', '60', '35', '45', '12', '61', '62', '36', '70',\n",
       "       '37', '56', '69', '86', '47', '26', '73', '21', '27', '19', '82',\n",
       "       '66', '16', '99', '113', '25', '76', '29', '17', '32', '74', '80',\n",
       "       '77', '28', '14', '22', '75', '79', '72', '18', '20', '24', '83',\n",
       "       '85', '84', '3', '9', '15', '90', '7', '-1'], dtype=object)"
      ]
     },
     "execution_count": 58,
     "metadata": {},
     "output_type": "execute_result"
    }
   ],
   "source": [
    "data.age.unique()"
   ]
  },
  {
   "cell_type": "markdown",
   "metadata": {},
   "source": [
    "### atribút medical info\n",
    "\n",
    "Pri tomto atribúte treba vyparsovať hodnoty jedného riadku a následne vytvoriť nové stĺpce do ktorých sa táto vyparsovaná hodnota doplní"
   ]
  },
  {
   "cell_type": "code",
   "execution_count": 71,
   "metadata": {},
   "outputs": [
    {
     "data": {
      "text/plain": [
       "array([\"{'mean_glucose':'111.8125','std_glucose':'44.88174566','kurtosis_glucose':'0.423867091','skewness_glucose':'0.239944007','mean_oxygen':'2.465719064','std_oxygen':'17.28981747','kurtosis_oxygen':'8.636118173','skewness_oxygen':'85.60462065'}\",\n",
       "       \"{'mean_glucose':'71.3984375','std_glucose':'47.29517349','kurtosis_glucose':'1.317459045','skewness_glucose':'2.340411994','mean_oxygen':'17.114548499999998','std_oxygen':'46.86283003','kurtosis_oxygen':'3.070346153','skewness_oxygen':'9.405187883'}\",\n",
       "       \"{'mean_glucose':'102.796875','std_glucose':'37.5346422','kurtosis_glucose':'0.382097319','skewness_glucose':'1.3556516','mean_oxygen':'2.706521739','std_oxygen':'19.87410184','kurtosis_oxygen':'7.955209532','skewness_oxygen':'67.64902246'}\",\n",
       "       ...,\n",
       "       \"{'mean_glucose':'129.90625','std_glucose':'48.62217818','kurtosis_glucose':'0.038773097','skewness_glucose':'-0.17251288','mean_oxygen':'3.319397993','std_oxygen':'22.72505413','kurtosis_oxygen':'8.750496392','skewness_oxygen':'81.21538915'}\",\n",
       "       \"{'mean_glucose':'92.265625','std_glucose':'35.87466994','kurtosis_glucose':'1.594314915','skewness_glucose':'5.566536879','mean_oxygen':'14.13545151','std_oxygen':'46.20425114','kurtosis_oxygen':'3.414493912','skewness_oxygen':'10.65625321'}\",\n",
       "       \"{'mean_glucose':'116.8515625','std_glucose':'52.05902447','kurtosis_glucose':'0.113621517','skewness_glucose':'-0.32555369300000003','mean_oxygen':'3.882943144','std_oxygen':'23.58584995','kurtosis_oxygen':'7.216190157000001','skewness_oxygen':'57.18259826'}\"],\n",
       "      dtype=object)"
      ]
     },
     "execution_count": 71,
     "metadata": {},
     "output_type": "execute_result"
    }
   ],
   "source": [
    "data.medical_info.unique()"
   ]
  },
  {
   "cell_type": "markdown",
   "metadata": {},
   "source": [
    "### atribút date of birth\n",
    "\n",
    "Tento atribút nemá nejaký jednotný tvar, čiže je nutné to ošetriť"
   ]
  },
  {
   "cell_type": "code",
   "execution_count": 74,
   "metadata": {},
   "outputs": [
    {
     "data": {
      "text/plain": [
       "array(['1966-05-16', '1964-06-29', '54-01-25', ..., '1988-09-29',\n",
       "       '1958/12/17', '1959-09-29'], dtype=object)"
      ]
     },
     "execution_count": 74,
     "metadata": {},
     "output_type": "execute_result"
    }
   ],
   "source": [
    "data.date_of_birth.unique()"
   ]
  },
  {
   "cell_type": "code",
   "execution_count": 75,
   "metadata": {},
   "outputs": [],
   "source": [
    "def sanitize_date(date):\n",
    "    date = str(date).replace('/', '-')\n",
    "    date = date[:10]\n",
    "    date = date.split(\"-\")\n",
    "    \n",
    "    if date[0] != 'nan':\n",
    "        if len(date[0]) != 4:\n",
    "            if len(date[2]) == 2 and int(date[0]) > 31:\n",
    "                new_date = \"19\"+ date[0] +\"-\"+date[1]+\"-\"+date[2] \n",
    "                \n",
    "            elif ((len(date[2]) == 2) and (int(date[0]) < 31) and (int(date[2]) > 31)):\n",
    "                new_date = \"19\"+date[2]+\"-\"+date[1]+\"-\"+date[0] \n",
    "                \n",
    "            elif ((len(date[2]) == 2) and (int(date[0]) < 31) and (int(date[2]) < 31)):\n",
    "                new_date = \"20\"+ date[2] + \"-\" +date[1]+\"-\" + date[0] \n",
    "            else:\n",
    "                new_date = date[2]+\"-\"+date[1]+\"-\"+date[0] \n",
    "            return new_date        \n",
    "    return '-'.join(date)"
   ]
  },
  {
   "cell_type": "code",
   "execution_count": 76,
   "metadata": {},
   "outputs": [
    {
     "data": {
      "text/plain": [
       "0    1966-05-16\n",
       "1    1964-06-29\n",
       "2    1954-01-25\n",
       "3    1952-10-30\n",
       "4    1982-01-13\n",
       "Name: date_of_birth, dtype: object"
      ]
     },
     "execution_count": 76,
     "metadata": {},
     "output_type": "execute_result"
    }
   ],
   "source": [
    "data.date_of_birth = data.date_of_birth.map(sanitize_date)\n",
    "data.date_of_birth.head(5)"
   ]
  },
  {
   "cell_type": "code",
   "execution_count": 77,
   "metadata": {},
   "outputs": [
    {
     "data": {
      "text/plain": [
       "array(['1966-05-16', '1964-06-29', '1954-01-25', ..., '1988-09-29',\n",
       "       '1958-12-17', '1959-09-29'], dtype=object)"
      ]
     },
     "execution_count": 77,
     "metadata": {},
     "output_type": "execute_result"
    }
   ],
   "source": [
    "data.date_of_birth.unique()"
   ]
  },
  {
   "cell_type": "markdown",
   "metadata": {},
   "source": [
    "Teraz má tento atribúť jednotný tvar hodnôt. teraz môžme upraviť atribút age tak, že pomocou dátumu vypočítame chýbajúce hodnoty"
   ]
  },
  {
   "cell_type": "code",
   "execution_count": null,
   "metadata": {},
   "outputs": [],
   "source": []
  }
 ],
 "metadata": {
  "kernelspec": {
   "display_name": "Python 3",
   "language": "python",
   "name": "python3"
  },
  "language_info": {
   "codemirror_mode": {
    "name": "ipython",
    "version": 3
   },
   "file_extension": ".py",
   "mimetype": "text/x-python",
   "name": "python",
   "nbconvert_exporter": "python",
   "pygments_lexer": "ipython3",
   "version": "3.8.5"
  }
 },
 "nbformat": 4,
 "nbformat_minor": 4
}
