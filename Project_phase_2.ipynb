{
 "cells": [
  {
   "cell_type": "code",
   "execution_count": 709,
   "metadata": {},
   "outputs": [],
   "source": [
    "import pandas as pd\n",
    "import numpy as np\n",
    "import seaborn as sns\n",
    "import matplotlib.pyplot as plt\n",
    "import scipy.stats as sc\n",
    "import io\n",
    "import requests\n",
    "import statsmodels.api as sm\n",
    "\n",
    "url1 = \"https://raw.githubusercontent.com/SzMatej/IAU_2020-2021/main/65/other_train.csv\"\n",
    "url2 = \"https://raw.githubusercontent.com/SzMatej/IAU_2020-2021/main/65/personal_train.csv\"\n",
    "\n",
    "db1 = requests.get(url1).content\n",
    "db2 = requests.get(url2).content\n",
    "train = pd.read_csv(io.StringIO(db1.decode('utf-8')))\n",
    "other = pd.read_csv(io.StringIO(db2.decode('utf-8')))"
   ]
  },
  {
   "cell_type": "code",
   "execution_count": 710,
   "metadata": {},
   "outputs": [
    {
     "name": "stdout",
     "output_type": "stream",
     "text": [
      "3983\n"
     ]
    }
   ],
   "source": [
    "data = pd.merge(train,other,on=['name','address'], how = 'outer')\n",
    "\n",
    "print(len(data))"
   ]
  },
  {
   "cell_type": "code",
   "execution_count": 711,
   "metadata": {},
   "outputs": [
    {
     "name": "stdout",
     "output_type": "stream",
     "text": [
      "<class 'pandas.core.frame.DataFrame'>\n",
      "Int64Index: 3983 entries, 0 to 3982\n",
      "Data columns (total 23 columns):\n",
      " #   Column          Non-Null Count  Dtype  \n",
      "---  ------          --------------  -----  \n",
      " 0   Unnamed: 0_x    3983 non-null   int64  \n",
      " 1   name            3983 non-null   object \n",
      " 2   address         3983 non-null   object \n",
      " 3   race            3960 non-null   object \n",
      " 4   marital-status  3967 non-null   object \n",
      " 5   occupation      3962 non-null   object \n",
      " 6   pregnant        3969 non-null   object \n",
      " 7   education-num   3569 non-null   float64\n",
      " 8   relationship    3967 non-null   object \n",
      " 9   capital-gain    3963 non-null   float64\n",
      " 10  education       3968 non-null   object \n",
      " 11  fnlwgt          3965 non-null   float64\n",
      " 12  class           3964 non-null   float64\n",
      " 13  income          3968 non-null   object \n",
      " 14  medical_info    3965 non-null   object \n",
      " 15  native-country  3969 non-null   object \n",
      " 16  hours-per-week  3961 non-null   float64\n",
      " 17  capital-loss    3968 non-null   float64\n",
      " 18  workclass       3971 non-null   object \n",
      " 19  Unnamed: 0_y    3983 non-null   int64  \n",
      " 20  age             3715 non-null   object \n",
      " 21  sex             3983 non-null   object \n",
      " 22  date_of_birth   3983 non-null   object \n",
      "dtypes: float64(6), int64(2), object(15)\n",
      "memory usage: 746.8+ KB\n"
     ]
    }
   ],
   "source": [
    "data.info()"
   ]
  },
  {
   "cell_type": "markdown",
   "metadata": {},
   "source": [
    "### atribút pregnant\n",
    "\n",
    "Upravíme boolean hodnoty v datasete tak že ich nahradíme číselnou reprezentáciou.\n",
    "Taktiež nastavíme všetky hodnoty tohto atribútu u mužov na 0."
   ]
  },
  {
   "cell_type": "code",
   "execution_count": 712,
   "metadata": {},
   "outputs": [],
   "source": [
    "def sanitize_boolean(boolean):\n",
    "    try:\n",
    "        if boolean.strip() in ['f','F','FALSE','false','False']:\n",
    "            return 0\n",
    "        elif boolean.strip() in ['t','T','TRUE','true','True']:\n",
    "            return 1\n",
    "        else:\n",
    "            return np.nan\n",
    "    except AttributeError:\n",
    "        return np.nan"
   ]
  },
  {
   "cell_type": "code",
   "execution_count": 713,
   "metadata": {},
   "outputs": [],
   "source": [
    "data.pregnant = data.pregnant.map(sanitize_boolean)"
   ]
  },
  {
   "cell_type": "code",
   "execution_count": 714,
   "metadata": {},
   "outputs": [],
   "source": [
    "def sanitize_pregnancy(data):\n",
    "    data.loc[(data.sex == 1),'pregnant'] = 0\n",
    "    return data\n",
    "\n",
    "data = sanitize_pregnancy(data)"
   ]
  },
  {
   "cell_type": "markdown",
   "metadata": {},
   "source": [
    "### atribút sex\n",
    "\n",
    "Tento atribút neobsahuje žiadne prázdne hodnoty. Pri tomto atribúte treba len dané hodnoty prekonvertovať na numerické hodnoty."
   ]
  },
  {
   "cell_type": "code",
   "execution_count": 715,
   "metadata": {},
   "outputs": [
    {
     "data": {
      "text/plain": [
       "array([' Male', ' Female'], dtype=object)"
      ]
     },
     "execution_count": 715,
     "metadata": {},
     "output_type": "execute_result"
    }
   ],
   "source": [
    "data.sex.unique()"
   ]
  },
  {
   "cell_type": "code",
   "execution_count": 716,
   "metadata": {},
   "outputs": [],
   "source": [
    "def sanitize_sex(sex):\n",
    "    return 1 if sex.strip() == 'Male' else 0"
   ]
  },
  {
   "cell_type": "code",
   "execution_count": 717,
   "metadata": {},
   "outputs": [],
   "source": [
    "data.sex = data.sex.map(lambda sex: sanitize_sex(sex))"
   ]
  },
  {
   "cell_type": "code",
   "execution_count": 718,
   "metadata": {},
   "outputs": [
    {
     "data": {
      "text/plain": [
       "array([1, 0], dtype=int64)"
      ]
     },
     "execution_count": 718,
     "metadata": {},
     "output_type": "execute_result"
    }
   ],
   "source": [
    "data.sex.unique()"
   ]
  },
  {
   "cell_type": "markdown",
   "metadata": {},
   "source": [
    "Hodnoty Male sme nahradili hodnotou 1 a naopak hodnotu female sme nahradili hodnotou 0"
   ]
  },
  {
   "cell_type": "markdown",
   "metadata": {},
   "source": [
    "### atribút age\n",
    "\n",
    "Pri tomto atribúte nahradíme záporné hodnoty na NaN. Takisto sa tu nachádzajú aj neznáme hodnoty ktoré sú reprezentované '??'. Tieto hodnoty taktiež nahradíme hodnotami NaN. Ďalej aby mali hodnoty jednotný dátový typ tak ich prekonvertujeme na numerickú hodnotu."
   ]
  },
  {
   "cell_type": "code",
   "execution_count": 719,
   "metadata": {},
   "outputs": [
    {
     "data": {
      "text/plain": [
       "array(['53', '55', '65', '66', '37', '??', '42', nan, '57', '43', '56',\n",
       "       '25', '45', '58', '86', '48', '54', '67', '46', '73', '71', '59',\n",
       "       '64', '38', '62', '26', '70', '50', '52', '63', '61', '31', '30',\n",
       "       '29', '74', '83', '41', '69', '75', '49', '27', '44', '51', '34',\n",
       "       '60', '36', '40', '39', '15', '47', '20', '35', '32', '21', '68',\n",
       "       '78', '77', '33', '28', '19', '80', '18', '81', '85', '17', '76',\n",
       "       '9', '72', '7', '87', '24', '90', '3', '23', '79', '16', '22',\n",
       "       '82', '84', '14', '113', '93', '-1', '12', '99'], dtype=object)"
      ]
     },
     "execution_count": 719,
     "metadata": {},
     "output_type": "execute_result"
    }
   ],
   "source": [
    "data.age.unique()"
   ]
  },
  {
   "cell_type": "code",
   "execution_count": 720,
   "metadata": {},
   "outputs": [],
   "source": [
    "def sanitize_age(data):\n",
    "    data.loc[(data.age == '-1'),'age'] = np.nan\n",
    "    data.loc[(data.age == '??'),'age'] = np.nan\n",
    "    return data"
   ]
  },
  {
   "cell_type": "code",
   "execution_count": 721,
   "metadata": {},
   "outputs": [],
   "source": [
    "data = sanitize_age(data)"
   ]
  },
  {
   "cell_type": "code",
   "execution_count": 722,
   "metadata": {},
   "outputs": [],
   "source": [
    "def sanitize_number(number):\n",
    "    try:\n",
    "        sanitized = int(pd.to_numeric(number, errors=\"coerce\"))\n",
    "        return sanitized if sanitized > 0 else np.nan\n",
    "    except AttributeError:\n",
    "        return np.nan\n",
    "    except ValueError:\n",
    "        return np.nan"
   ]
  },
  {
   "cell_type": "code",
   "execution_count": 723,
   "metadata": {},
   "outputs": [],
   "source": [
    "data.age = data.age.map(lambda age: sanitize_number(age))"
   ]
  },
  {
   "cell_type": "code",
   "execution_count": 724,
   "metadata": {},
   "outputs": [
    {
     "data": {
      "text/plain": [
       "array([ 53.,  55.,  65.,  66.,  37.,  nan,  42.,  57.,  43.,  56.,  25.,\n",
       "        45.,  58.,  86.,  48.,  54.,  67.,  46.,  73.,  71.,  59.,  64.,\n",
       "        38.,  62.,  26.,  70.,  50.,  52.,  63.,  61.,  31.,  30.,  29.,\n",
       "        74.,  83.,  41.,  69.,  75.,  49.,  27.,  44.,  51.,  34.,  60.,\n",
       "        36.,  40.,  39.,  15.,  47.,  20.,  35.,  32.,  21.,  68.,  78.,\n",
       "        77.,  33.,  28.,  19.,  80.,  18.,  81.,  85.,  17.,  76.,   9.,\n",
       "        72.,   7.,  87.,  24.,  90.,   3.,  23.,  79.,  16.,  22.,  82.,\n",
       "        84.,  14., 113.,  93.,  12.,  99.])"
      ]
     },
     "execution_count": 724,
     "metadata": {},
     "output_type": "execute_result"
    }
   ],
   "source": [
    "data.age.unique()"
   ]
  },
  {
   "cell_type": "code",
   "execution_count": 725,
   "metadata": {},
   "outputs": [
    {
     "data": {
      "text/plain": [
       "400"
      ]
     },
     "execution_count": 725,
     "metadata": {},
     "output_type": "execute_result"
    }
   ],
   "source": [
    "len(data[pd.isnull(data.age)])"
   ]
  },
  {
   "cell_type": "markdown",
   "metadata": {},
   "source": [
    "Sem vidíme že pri tomto atribúte sa vyskytuje furt veľa chýbajúcich hodnôt (400). Toto sa dá vyriešiť niekoľkými spôsobmi. Buď vieme túto hodnotu nahradiť priemerom podľa jeho vekovej kategórie čo je lahší spôsob alebo vieme túto hodnotu dopočítať podľa jeho dátumu narodenia."
   ]
  },
  {
   "cell_type": "markdown",
   "metadata": {},
   "source": [
    "### atribút medical info\n",
    "\n",
    "Pri tomto atribúte treba vyparsovať hodnoty jedného riadku a následne vytvoriť nové stĺpce do ktorých sa táto vyparsovaná hodnota doplní"
   ]
  },
  {
   "cell_type": "code",
   "execution_count": 726,
   "metadata": {},
   "outputs": [
    {
     "data": {
      "text/plain": [
       "array([\"{'mean_glucose':'111.8125','std_glucose':'44.88174566','kurtosis_glucose':'0.423867091','skewness_glucose':'0.239944007','mean_oxygen':'2.465719064','std_oxygen':'17.28981747','kurtosis_oxygen':'8.636118173','skewness_oxygen':'85.60462065'}\",\n",
       "       \"{'mean_glucose':'71.3984375','std_glucose':'47.29517349','kurtosis_glucose':'1.317459045','skewness_glucose':'2.340411994','mean_oxygen':'17.114548499999998','std_oxygen':'46.86283003','kurtosis_oxygen':'3.070346153','skewness_oxygen':'9.405187883'}\",\n",
       "       \"{'mean_glucose':'102.796875','std_glucose':'37.5346422','kurtosis_glucose':'0.382097319','skewness_glucose':'1.3556516','mean_oxygen':'2.706521739','std_oxygen':'19.87410184','kurtosis_oxygen':'7.955209532','skewness_oxygen':'67.64902246'}\",\n",
       "       ...,\n",
       "       \"{'mean_glucose':'129.90625','std_glucose':'48.62217818','kurtosis_glucose':'0.038773097','skewness_glucose':'-0.17251288','mean_oxygen':'3.319397993','std_oxygen':'22.72505413','kurtosis_oxygen':'8.750496392','skewness_oxygen':'81.21538915'}\",\n",
       "       \"{'mean_glucose':'92.265625','std_glucose':'35.87466994','kurtosis_glucose':'1.594314915','skewness_glucose':'5.566536879','mean_oxygen':'14.13545151','std_oxygen':'46.20425114','kurtosis_oxygen':'3.414493912','skewness_oxygen':'10.65625321'}\",\n",
       "       \"{'mean_glucose':'116.8515625','std_glucose':'52.05902447','kurtosis_glucose':'0.113621517','skewness_glucose':'-0.32555369300000003','mean_oxygen':'3.882943144','std_oxygen':'23.58584995','kurtosis_oxygen':'7.216190157000001','skewness_oxygen':'57.18259826'}\"],\n",
       "      dtype=object)"
      ]
     },
     "execution_count": 726,
     "metadata": {},
     "output_type": "execute_result"
    }
   ],
   "source": [
    "data.medical_info.unique()"
   ]
  },
  {
   "cell_type": "code",
   "execution_count": 727,
   "metadata": {},
   "outputs": [],
   "source": [
    "x = data['medical_info'].str.replace('{','').str.replace('\\'','').str.split(',', expand=True)\n",
    "i = 0\n",
    "while i < len(x.columns):\n",
    "    y = x[i].str.split(':', expand=True)\n",
    "    data[y[0][0]] = y[1].astype(float)\n",
    "    i += 2\n",
    "data.drop('medical_info', axis='columns', inplace=True)"
   ]
  },
  {
   "cell_type": "markdown",
   "metadata": {},
   "source": [
    "### atribút date of birth\n",
    "\n",
    "Tento atribút nemá nejaký jednotný tvar, čiže je nutné to ošetriť"
   ]
  },
  {
   "cell_type": "code",
   "execution_count": 728,
   "metadata": {},
   "outputs": [
    {
     "data": {
      "text/plain": [
       "array(['1966-05-16', '1964-06-29', '54-01-25', ..., '1988-09-29',\n",
       "       '1958/12/17', '1959-09-29'], dtype=object)"
      ]
     },
     "execution_count": 728,
     "metadata": {},
     "output_type": "execute_result"
    }
   ],
   "source": [
    "data.date_of_birth.unique()"
   ]
  },
  {
   "cell_type": "code",
   "execution_count": 729,
   "metadata": {},
   "outputs": [],
   "source": [
    "def sanitize_date(date):\n",
    "    date = str(date).replace('/', '-')\n",
    "    date = date[:10]\n",
    "    date = date.split(\"-\")\n",
    "    \n",
    "    if date[0] != 'nan':\n",
    "        if len(date[0]) != 4:\n",
    "            if len(date[2]) == 2 and int(date[0]) > 31:\n",
    "                new_date = \"19\"+ date[0] +\"-\"+date[1]+\"-\"+date[2] \n",
    "                \n",
    "            elif ((len(date[2]) == 2) and (int(date[0]) < 31) and (int(date[2]) > 31)):\n",
    "                new_date = \"19\"+date[2]+\"-\"+date[1]+\"-\"+date[0] \n",
    "                \n",
    "            elif ((len(date[2]) == 2) and (int(date[0]) < 31) and (int(date[2]) < 31)):\n",
    "                new_date = \"20\"+ date[2] + \"-\" +date[1]+\"-\" + date[0] \n",
    "            else:\n",
    "                new_date = date[2]+\"-\"+date[1]+\"-\"+date[0] \n",
    "            return new_date        \n",
    "    return '-'.join(date)"
   ]
  },
  {
   "cell_type": "code",
   "execution_count": 730,
   "metadata": {},
   "outputs": [
    {
     "data": {
      "text/plain": [
       "0    1966-05-16\n",
       "1    1964-06-29\n",
       "2    1954-01-25\n",
       "3    1952-10-30\n",
       "4    1982-01-13\n",
       "5    1950-09-17\n",
       "6    1976-11-25\n",
       "7    1954-07-14\n",
       "8    1954-07-14\n",
       "9    1962-09-11\n",
       "Name: date_of_birth, dtype: object"
      ]
     },
     "execution_count": 730,
     "metadata": {},
     "output_type": "execute_result"
    }
   ],
   "source": [
    "data.date_of_birth = data.date_of_birth.map(sanitize_date)\n",
    "data.date_of_birth.head(10)"
   ]
  },
  {
   "cell_type": "markdown",
   "metadata": {},
   "source": [
    "Teraz má tento atribúť jednotný tvar hodnôt. teraz môžme upraviť atribút age tak, že pomocou dátumu vypočítame chýbajúce hodnoty"
   ]
  },
  {
   "cell_type": "code",
   "execution_count": 731,
   "metadata": {},
   "outputs": [
    {
     "data": {
      "text/plain": [
       "0"
      ]
     },
     "execution_count": 731,
     "metadata": {},
     "output_type": "execute_result"
    }
   ],
   "source": [
    "len(data[pd.isnull(data.date_of_birth)])"
   ]
  },
  {
   "cell_type": "markdown",
   "metadata": {},
   "source": [
    "Tu vidíme že pri stĺpci dátumu narodenia nechýbajú žiadne hodnoty tak by nemal byť problém s dopočítaním hodnôt pre stĺpec vek"
   ]
  },
  {
   "cell_type": "code",
   "execution_count": 732,
   "metadata": {},
   "outputs": [],
   "source": [
    "years = [];\n",
    "\n",
    "def find_measure_year(age, date_of_birth):\n",
    "    if (pd.notnull(age)):\n",
    "        years.append(int(date_of_birth.split('-')[0]) + int(age))\n",
    "        \n",
    "data.apply(lambda x: find_measure_year(x.age,x.date_of_birth), axis = 1)\n",
    "\n",
    "measure_year = pd.Series(years).mode();"
   ]
  },
  {
   "cell_type": "code",
   "execution_count": 733,
   "metadata": {},
   "outputs": [],
   "source": [
    "def fill_null_age(age,date):\n",
    "    if (date):\n",
    "        return (measure_year - int(date.split('-')[0]))[0]\n",
    "    return np.nan\n",
    "\n",
    "data.loc[data.age.isnull(),'age'] = data[data.age.isnull()].apply(lambda x: fill_null_age(x.age,x.date_of_birth),axis = 1)"
   ]
  },
  {
   "cell_type": "code",
   "execution_count": 734,
   "metadata": {},
   "outputs": [
    {
     "data": {
      "text/plain": [
       "0"
      ]
     },
     "execution_count": 734,
     "metadata": {},
     "output_type": "execute_result"
    }
   ],
   "source": [
    "len(data[pd.isnull(data.age)])"
   ]
  },
  {
   "cell_type": "markdown",
   "metadata": {},
   "source": [
    "Ako je vidieť podarilo sa nám doplniť všetky hodnoty pri stĺpci age. Docielili sme to tak, že sme našli najviac vyskytujúci sa rok po sčítani veku a roku narodenia. Takto sme našli rok kedy sa uskutočnilo meranie, podľa ktorého sme ďalej našli roky chýbajúcich ľudí v datasete podľa dátumu narodenia."
   ]
  },
  {
   "cell_type": "code",
   "execution_count": 735,
   "metadata": {},
   "outputs": [
    {
     "data": {
      "text/plain": [
       "array([ 53.,  55.,  65.,  66.,  37.,  69.,  42.,  57.,  43.,  56.,  25.,\n",
       "        45.,  58.,  86.,  48.,  54.,  67.,  46.,  73.,  71.,  59.,  64.,\n",
       "        38.,  62.,  26.,  70.,  50.,  52.,  63.,  61.,  51.,  31.,  30.,\n",
       "        72.,  29.,  74.,  83.,  41.,  75.,  49.,  27.,  44.,  34.,  60.,\n",
       "        36.,  40.,  39.,  32.,  15.,  47.,  68.,  20.,  35.,  21.,  78.,\n",
       "        77.,  33.,  28.,  19.,  80.,  18.,  81.,  85.,  17.,  76.,   9.,\n",
       "         7.,  87.,  24.,  90.,   3.,  23.,  79.,  16.,  97.,  22.,  82.,\n",
       "        84.,  14., 113.,  93.,  -1.,  12.,  99.])"
      ]
     },
     "execution_count": 735,
     "metadata": {},
     "output_type": "execute_result"
    }
   ],
   "source": [
    "data.age.unique()"
   ]
  },
  {
   "cell_type": "markdown",
   "metadata": {},
   "source": [
    "Po úprave vidíme že sa pri atrigúte age znova vyskytuje hodnota -1. To znamená len to, že sa v datasete vyskytujú aj niektoré zlé dátumy. Tieto hodnoty teda doplníme priemerom ako bolo spomenuté vyššie."
   ]
  },
  {
   "cell_type": "code",
   "execution_count": 736,
   "metadata": {},
   "outputs": [
    {
     "data": {
      "text/plain": [
       "3307    2020-04-06\n",
       "Name: date_of_birth, dtype: object"
      ]
     },
     "execution_count": 736,
     "metadata": {},
     "output_type": "execute_result"
    }
   ],
   "source": [
    "data.loc[(data.age < 0)].date_of_birth"
   ]
  },
  {
   "cell_type": "markdown",
   "metadata": {},
   "source": [
    "Tu vidíme, že pri niektorých hodnotách je naozaj nastavený zlý dátum narodenia a to ten istý"
   ]
  },
  {
   "cell_type": "code",
   "execution_count": 737,
   "metadata": {},
   "outputs": [],
   "source": [
    "median = data[(data.age > 0)].groupby('sex', as_index=False).age.mean()\n",
    "data.loc[(data.age < 0), 'age'] = data[data.age < 0].age.map(lambda a: round(median.loc[1, 'age'], 0))"
   ]
  },
  {
   "cell_type": "code",
   "execution_count": 738,
   "metadata": {},
   "outputs": [
    {
     "data": {
      "text/plain": [
       "count    3983.000000\n",
       "mean       51.844590\n",
       "std        11.783656\n",
       "min         3.000000\n",
       "25%        44.000000\n",
       "50%        52.000000\n",
       "75%        60.000000\n",
       "max       113.000000\n",
       "Name: age, dtype: float64"
      ]
     },
     "execution_count": 738,
     "metadata": {},
     "output_type": "execute_result"
    }
   ],
   "source": [
    "data['age'].describe()"
   ]
  },
  {
   "cell_type": "code",
   "execution_count": 739,
   "metadata": {},
   "outputs": [
    {
     "data": {
      "text/plain": [
       "array([ 53.,  55.,  65.,  66.,  37.,  69.,  42.,  57.,  43.,  56.,  25.,\n",
       "        45.,  58.,  86.,  48.,  54.,  67.,  46.,  73.,  71.,  59.,  64.,\n",
       "        38.,  62.,  26.,  70.,  50.,  52.,  63.,  61.,  51.,  31.,  30.,\n",
       "        72.,  29.,  74.,  83.,  41.,  75.,  49.,  27.,  44.,  34.,  60.,\n",
       "        36.,  40.,  39.,  32.,  15.,  47.,  68.,  20.,  35.,  21.,  78.,\n",
       "        77.,  33.,  28.,  19.,  80.,  18.,  81.,  85.,  17.,  76.,   9.,\n",
       "         7.,  87.,  24.,  90.,   3.,  23.,  79.,  16.,  97.,  22.,  82.,\n",
       "        84.,  14., 113.,  93.,  12.,  99.])"
      ]
     },
     "execution_count": 739,
     "metadata": {},
     "output_type": "execute_result"
    }
   ],
   "source": [
    "data.age.unique()"
   ]
  },
  {
   "cell_type": "markdown",
   "metadata": {},
   "source": [
    "Tu boli nastavené všetky tieto neznáme hodnoty mediánom podľa pohlavia."
   ]
  },
  {
   "cell_type": "markdown",
   "metadata": {},
   "source": [
    "### atrbút income\n",
    "\n",
    "Pri tomto atribúte tiež prekonvertujeme hodnoty na číselný tvar"
   ]
  },
  {
   "cell_type": "code",
   "execution_count": 740,
   "metadata": {},
   "outputs": [
    {
     "data": {
      "text/plain": [
       "array([' >50K', ' <=50K', nan], dtype=object)"
      ]
     },
     "execution_count": 740,
     "metadata": {},
     "output_type": "execute_result"
    }
   ],
   "source": [
    "data.income.unique()"
   ]
  },
  {
   "cell_type": "code",
   "execution_count": 741,
   "metadata": {},
   "outputs": [],
   "source": [
    "data.income = data.income.map(lambda income: 0 if str(income).strip() == '<=50K' else 1 if str(income).strip() == '>50K' else np.nan)"
   ]
  },
  {
   "cell_type": "code",
   "execution_count": 742,
   "metadata": {},
   "outputs": [
    {
     "data": {
      "text/plain": [
       "array([ 1.,  0., nan])"
      ]
     },
     "execution_count": 742,
     "metadata": {},
     "output_type": "execute_result"
    }
   ],
   "source": [
    "data.income.unique()"
   ]
  },
  {
   "cell_type": "markdown",
   "metadata": {},
   "source": [
    "### odstránenie duplikátov"
   ]
  },
  {
   "cell_type": "code",
   "execution_count": 743,
   "metadata": {},
   "outputs": [
    {
     "name": "stdout",
     "output_type": "stream",
     "text": [
      "other lenght: 3933\n",
      "personal lenght:  3983\n",
      "data lenght(spojený dataset):  3983\n"
     ]
    }
   ],
   "source": [
    "print('other lenght:',len(other))\n",
    "print('personal lenght: ',len(train))\n",
    "print('data lenght(spojený dataset): ',len(data))"
   ]
  },
  {
   "cell_type": "markdown",
   "metadata": {},
   "source": [
    "Tu môžme vidieť že tieto dva datasety nemajú rovnakú dĺžku a pritom by ju mali mať rovnakú. Tak v prvom rade odstránime možné duplikáty v spojenom datasete, ktorý sme spojili na začiatku. Odstraňovať ich budeme na základe mena, dátumu narodenia a adresy."
   ]
  },
  {
   "cell_type": "code",
   "execution_count": 744,
   "metadata": {},
   "outputs": [
    {
     "name": "stdout",
     "output_type": "stream",
     "text": [
      "data lenght(spojený dataset):  3933\n"
     ]
    }
   ],
   "source": [
    "data = data.drop_duplicates(['name','address','date_of_birth'], keep=\"last\")\n",
    "print('data lenght(spojený dataset): ',len(data))"
   ]
  },
  {
   "cell_type": "markdown",
   "metadata": {},
   "source": [
    "### pridanie chýbajúcich hodnôt"
   ]
  },
  {
   "cell_type": "code",
   "execution_count": 745,
   "metadata": {},
   "outputs": [
    {
     "data": {
      "text/plain": [
       "race                 11\n",
       "marital-status        7\n",
       "occupation           13\n",
       "pregnant              7\n",
       "education-num       400\n",
       "relationship          9\n",
       "capital-gain         10\n",
       "education            10\n",
       "fnlwgt               11\n",
       "class                12\n",
       "income                9\n",
       "native-country        8\n",
       "hours-per-week        9\n",
       "capital-loss          7\n",
       "workclass             8\n",
       "mean_glucose          9\n",
       "kurtosis_glucose      9\n",
       "mean_oxygen           9\n",
       "kurtosis_oxygen       9\n",
       "dtype: int64"
      ]
     },
     "execution_count": 745,
     "metadata": {},
     "output_type": "execute_result"
    }
   ],
   "source": [
    "data[data.columns[data.isnull().any()].tolist()].isnull().sum()"
   ]
  },
  {
   "cell_type": "markdown",
   "metadata": {},
   "source": [
    "Sem vidíme, v ktorých stĺpcoch datasetu chýba koľko hodnôt. Na doplnenie týchto hodnot sa dá využit viacero ktoré využujeme (medián, knn, lineárna regresia)."
   ]
  },
  {
   "cell_type": "markdown",
   "metadata": {},
   "source": [
    "### doplnenie hodnôt education-num"
   ]
  },
  {
   "cell_type": "markdown",
   "metadata": {},
   "source": [
    "V prvej analýze sme zistili závislosť atribútov education a atribútov education-num, kde education-num je len čiselná reprezentácia stĺpca education. Čiže pri tomto atribúte nám stačí doplniť túto hodnotu podľa stĺpca education."
   ]
  },
  {
   "cell_type": "code",
   "execution_count": 746,
   "metadata": {},
   "outputs": [
    {
     "name": "stdout",
     "output_type": "stream",
     "text": [
      "{' Masters': 10.0, ' Some-college': 10.0, ' Bachelors': 10.0, ' HS-grad': 9.0, ' 7th-8th': 4.0, ' Assoc-voc': 10.0, ' Prof-school': 10.0, nan: 10.0, ' 11th': 7.0, ' 9th': 5.0, ' 10th': 6.0, ' Assoc-acdm': 10.0, ' 12th': 8.0, ' 5th-6th': 3.0, ' Doctorate': 10.0, ' 1st-4th': 2.0, ' Preschool': 1.0}\n"
     ]
    }
   ],
   "source": [
    "def get_education_num(education):\n",
    "    temp = 10.0\n",
    "    for i in data['education-num'].loc[data.education == education]:\n",
    "        if (i > 0) & (i < temp):\n",
    "            temp = i\n",
    "    return temp\n",
    "\n",
    "\n",
    "map = {}\n",
    "for i in data.education.unique():\n",
    "    map[i] = (get_education_num(i))\n",
    "print(map)"
   ]
  },
  {
   "cell_type": "code",
   "execution_count": 747,
   "metadata": {},
   "outputs": [],
   "source": [
    "data.loc[:,'education-num'] = data.education.map(map)"
   ]
  },
  {
   "cell_type": "code",
   "execution_count": 748,
   "metadata": {},
   "outputs": [
    {
     "name": "stdout",
     "output_type": "stream",
     "text": [
      "Missing education-num:  0\n",
      "Missing education:  10\n"
     ]
    }
   ],
   "source": [
    "print('Missing education-num: ', len(data[data['education-num'].isnull()]))\n",
    "print('Missing education: ', len(data[data['education'].isnull()]))"
   ]
  },
  {
   "cell_type": "markdown",
   "metadata": {},
   "source": [
    "Tieto hodnoty sa nám podarilo doplniť až nazopár hodnôt pri ktorých nie je uvedená ani hodnota education."
   ]
  },
  {
   "cell_type": "markdown",
   "metadata": {},
   "source": [
    "### Attribút Unnamed: 0_x \n",
    "obsahuje poradové čísla, ktoré nepotrebujeme"
   ]
  },
  {
   "cell_type": "code",
   "execution_count": 749,
   "metadata": {},
   "outputs": [
    {
     "name": "stdout",
     "output_type": "stream",
     "text": [
      "[   0    1    2 ... 3980 3981 3982]\n"
     ]
    }
   ],
   "source": [
    "print(data['Unnamed: 0_x'].unique())\n",
    "data.drop('Unnamed: 0_x', axis='columns', inplace=True)"
   ]
  },
  {
   "cell_type": "markdown",
   "metadata": {},
   "source": [
    "### Attribut Unnamed: 0_y\n",
    "nevieme co reprezentuje, zmazeme ho"
   ]
  },
  {
   "cell_type": "code",
   "execution_count": 750,
   "metadata": {},
   "outputs": [
    {
     "name": "stdout",
     "output_type": "stream",
     "text": [
      "[3768 1089 3071 ... 3745 3735 2650]\n"
     ]
    }
   ],
   "source": [
    "print(data['Unnamed: 0_y'].unique())\n",
    "data.drop('Unnamed: 0_y', axis='columns', inplace=True)"
   ]
  },
  {
   "cell_type": "markdown",
   "metadata": {},
   "source": [
    "### Attribut fnlwgt\n",
    "nevieme co reprezentuje, zmazeme ho"
   ]
  },
  {
   "cell_type": "code",
   "execution_count": 751,
   "metadata": {},
   "outputs": [
    {
     "name": "stdout",
     "output_type": "stream",
     "text": [
      "[270092.  34278. 107302. ... 217961.  75167. 202056.]\n"
     ]
    }
   ],
   "source": [
    "print(data['fnlwgt'].unique())\n",
    "data.drop('fnlwgt', axis='columns', inplace=True)"
   ]
  },
  {
   "cell_type": "markdown",
   "metadata": {},
   "source": [
    "### Stringove attributy "
   ]
  },
  {
   "cell_type": "code",
   "execution_count": 752,
   "metadata": {},
   "outputs": [],
   "source": [
    "def sanitize_string(string):\n",
    "    try:\n",
    "        string = string.strip()\n",
    "        if string in ['None', 'nan', '??', '?']:\n",
    "            return np.nan\n",
    "        return string\n",
    "    except AttributeError:\n",
    "        return np.nan"
   ]
  },
  {
   "cell_type": "markdown",
   "metadata": {},
   "source": [
    "### race"
   ]
  },
  {
   "cell_type": "code",
   "execution_count": 753,
   "metadata": {},
   "outputs": [
    {
     "data": {
      "text/plain": [
       "White                 3328\n",
       "Black                  394\n",
       "Asian-Pac-Islander     131\n",
       "Amer-Indian-Eskimo      41\n",
       "Other                   28\n",
       "Name: race, dtype: int64"
      ]
     },
     "execution_count": 753,
     "metadata": {},
     "output_type": "execute_result"
    }
   ],
   "source": [
    "data['race'] = data['race'].map(sanitize_string)\n",
    "data.race.value_counts()"
   ]
  },
  {
   "cell_type": "markdown",
   "metadata": {},
   "source": [
    "Hodnota Asian-Pac-Islander a Amer-Indian-Eskimo reprezentuju rozne rasy, tak ich dame do Other"
   ]
  },
  {
   "cell_type": "code",
   "execution_count": 754,
   "metadata": {},
   "outputs": [],
   "source": [
    "data.race = data.race.map(lambda race: 'Other' if race in ('Asian-Pac-Islander', 'Amer-Indian-Eskimo') else race)"
   ]
  },
  {
   "cell_type": "code",
   "execution_count": 755,
   "metadata": {},
   "outputs": [
    {
     "data": {
      "text/plain": [
       "White    3328\n",
       "Black     394\n",
       "Other     200\n",
       "Name: race, dtype: int64"
      ]
     },
     "execution_count": 755,
     "metadata": {},
     "output_type": "execute_result"
    }
   ],
   "source": [
    "data.race.value_counts()"
   ]
  },
  {
   "cell_type": "markdown",
   "metadata": {},
   "source": [
    "### marital-status, relationship\n",
    "Tieto attributy reprezentuju podobne hodnoty, chceme ich pocistit a zjednotit"
   ]
  },
  {
   "cell_type": "code",
   "execution_count": 756,
   "metadata": {},
   "outputs": [],
   "source": [
    "data['marital-status'] = data['marital-status'].map(sanitize_string)\n",
    "data['relationship'] = data['relationship'].map(sanitize_string)"
   ]
  },
  {
   "cell_type": "code",
   "execution_count": 757,
   "metadata": {},
   "outputs": [
    {
     "data": {
      "text/plain": [
       "array(['Married-civ-spouse', 'Never-married', 'Separated', 'Divorced',\n",
       "       'Married-spouse-absent', 'Widowed', 'Married-AF-spouse', nan],\n",
       "      dtype=object)"
      ]
     },
     "execution_count": 757,
     "metadata": {},
     "output_type": "execute_result"
    }
   ],
   "source": [
    "data['marital-status'].unique()"
   ]
  },
  {
   "cell_type": "code",
   "execution_count": 758,
   "metadata": {},
   "outputs": [
    {
     "data": {
      "text/plain": [
       "array(['Husband', 'Not-in-family', 'Unmarried', 'Wife', 'Own-child', nan,\n",
       "       'Other-relative'], dtype=object)"
      ]
     },
     "execution_count": 758,
     "metadata": {},
     "output_type": "execute_result"
    }
   ],
   "source": [
    "data['relationship'].unique()"
   ]
  },
  {
   "cell_type": "markdown",
   "metadata": {},
   "source": [
    "Po analyze sme urcili, ze vo vyslednom attribute relationship budu nasledujuce hodnoty: Not-Married, Married, Divorced/Widowed\n",
    "Pri hodnotach, ako unmarried nevieme urcit, ci su vo vztahu, preto pouzivame vyraz Not-Married."
   ]
  },
  {
   "cell_type": "code",
   "execution_count": 759,
   "metadata": {},
   "outputs": [],
   "source": [
    "def sanitize_relationship(relation):\n",
    "    if relation in ('Husband', 'Wife'):\n",
    "        return 'Married'\n",
    "    if relation in ('Not-in-family', 'Unmarried', 'Own-child', 'Other-relative'):\n",
    "        return 'Not-Married'\n",
    "    return relation\n",
    "def sanitize_marital_status(married):\n",
    "    if married in ('Married', 'Married-civ-spouse', 'Married-spouse-absent', 'Married-AF-spouse'):\n",
    "        return 'Married'\n",
    "    if married in ('Not-Married', 'Never-married', 'Separated', 'Divorced', 'Widowed'):\n",
    "        return 'Not-Married'\n",
    "    if married in ('Separated', 'Divorced', 'Widowed'):\n",
    "        return 'Divorced/Widowed'\n",
    "    return np.nan"
   ]
  },
  {
   "cell_type": "code",
   "execution_count": 778,
   "metadata": {},
   "outputs": [],
   "source": [
    "data['relationship'] = data['relationship'].map(sanitize_relationship)\n",
    "data['relationship'] = data['marital-status'].map(sanitize_marital_status)\n",
    "data.drop('marital-status', axis='columns', inplace=True)"
   ]
  },
  {
   "cell_type": "code",
   "execution_count": 777,
   "metadata": {},
   "outputs": [
    {
     "data": {
      "text/plain": [
       "array(['Married', 'Not-Married', nan], dtype=object)"
      ]
     },
     "execution_count": 777,
     "metadata": {},
     "output_type": "execute_result"
    }
   ],
   "source": [
    "data['relationship'].unique()"
   ]
  },
  {
   "cell_type": "code",
   "execution_count": 763,
   "metadata": {},
   "outputs": [
    {
     "data": {
      "text/plain": [
       "array([' Prof-specialty', ' Sales', ' Adm-clerical', ' Craft_repair',\n",
       "       ' Prof_specialty', ' Priv-house-serv', ' ?', ' Craft-repair',\n",
       "       ' Other-service', ' Exec-managerial', ' Farming-fishing',\n",
       "       ' Machine_op_inspct', ' Transport_moving', ' Handlers-cleaners',\n",
       "       ' Transport-moving', ' Tech-support', ' Other_service',\n",
       "       ' Exec_managerial', ' Farming_fishing', ' Machine-op-inspct',\n",
       "       ' Protective-serv', ' Tech_support', nan, ' Armed-Forces',\n",
       "       ' Adm_clerical', ' Priv_house_serv', ' Handlers_cleaners',\n",
       "       ' Protective_serv'], dtype=object)"
      ]
     },
     "execution_count": 763,
     "metadata": {},
     "output_type": "execute_result"
    }
   ],
   "source": [
    "data['occupation'].unique()"
   ]
  },
  {
   "cell_type": "code",
   "execution_count": 764,
   "metadata": {},
   "outputs": [
    {
     "data": {
      "text/plain": [
       "array([' Masters', ' Some-college', ' Bachelors', ' HS-grad', ' 7th-8th',\n",
       "       ' Assoc-voc', ' Prof-school', nan, ' 11th', ' 9th', ' 10th',\n",
       "       ' Assoc-acdm', ' 12th', ' 5th-6th', ' Doctorate', ' 1st-4th',\n",
       "       ' Preschool'], dtype=object)"
      ]
     },
     "execution_count": 764,
     "metadata": {},
     "output_type": "execute_result"
    }
   ],
   "source": [
    "data['education'].unique()"
   ]
  },
  {
   "cell_type": "code",
   "execution_count": 765,
   "metadata": {},
   "outputs": [
    {
     "data": {
      "text/plain": [
       "array([' United-States', ' ?', nan, ' Poland', ' Hungary',\n",
       "       ' Dominican-Republic', ' El-Salvador', ' Mexico', ' Philippines',\n",
       "       ' Italy', ' China', ' Laos', ' Scotland', ' Canada', ' Germany',\n",
       "       ' Taiwan', ' France', ' Vietnam', ' England', ' Columbia',\n",
       "       ' Cambodia', ' Iran', ' Puerto-Rico', ' Japan', ' Haiti',\n",
       "       ' Thailand', ' Nicaragua', ' Hong', ' Cuba', ' Greece', ' Ecuador',\n",
       "       ' Jamaica', ' South', ' Guatemala', ' India', ' Portugal', ' Peru',\n",
       "       ' Trinadad&Tobago', ' Ireland', ' Honduras', ' Yugoslavia'],\n",
       "      dtype=object)"
      ]
     },
     "execution_count": 765,
     "metadata": {},
     "output_type": "execute_result"
    }
   ],
   "source": [
    "data['native-country'].unique()"
   ]
  },
  {
   "cell_type": "code",
   "execution_count": 766,
   "metadata": {},
   "outputs": [
    {
     "data": {
      "text/plain": [
       "array([' Private', ' Federal-gov', ' Self-emp-not-inc', nan, ' ?',\n",
       "       ' Self-emp-inc', 'local-gov', ' Local-gov', ' State-gov',\n",
       "       'private', 'self-emp-not-inc', '?', 'self-emp-inc', 'federal-gov',\n",
       "       'state-gov', ' Never-worked'], dtype=object)"
      ]
     },
     "execution_count": 766,
     "metadata": {},
     "output_type": "execute_result"
    }
   ],
   "source": [
    "data['workclass'].unique()"
   ]
  },
  {
   "cell_type": "code",
   "execution_count": 767,
   "metadata": {},
   "outputs": [],
   "source": [
    "data['occupation'] = data['occupation'].map(sanitize_string)\n",
    "data['education'] = data['education'].map(sanitize_string)\n",
    "data['native-country'] = data['native-country'].map(sanitize_string)\n",
    "data['workclass'] = data['workclass'].map(sanitize_string)"
   ]
  },
  {
   "cell_type": "code",
   "execution_count": 768,
   "metadata": {},
   "outputs": [
    {
     "name": "stdout",
     "output_type": "stream",
     "text": [
      "<class 'pandas.core.frame.DataFrame'>\n",
      "Int64Index: 3933 entries, 0 to 3982\n",
      "Data columns (total 23 columns):\n",
      " #   Column            Non-Null Count  Dtype  \n",
      "---  ------            --------------  -----  \n",
      " 0   name              3933 non-null   object \n",
      " 1   address           3933 non-null   object \n",
      " 2   race              3922 non-null   object \n",
      " 3   marital-status    3926 non-null   object \n",
      " 4   occupation        3679 non-null   object \n",
      " 5   pregnant          3926 non-null   float64\n",
      " 6   education-num     3933 non-null   float64\n",
      " 7   relationship      3926 non-null   object \n",
      " 8   capital-gain      3923 non-null   float64\n",
      " 9   education         3923 non-null   object \n",
      " 10  class             3921 non-null   float64\n",
      " 11  income            3924 non-null   float64\n",
      " 12  native-country    3857 non-null   object \n",
      " 13  hours-per-week    3924 non-null   float64\n",
      " 14  capital-loss      3926 non-null   float64\n",
      " 15  workclass         3684 non-null   object \n",
      " 16  age               3933 non-null   float64\n",
      " 17  sex               3933 non-null   int64  \n",
      " 18  date_of_birth     3933 non-null   object \n",
      " 19  mean_glucose      3924 non-null   float64\n",
      " 20  kurtosis_glucose  3924 non-null   float64\n",
      " 21  mean_oxygen       3924 non-null   float64\n",
      " 22  kurtosis_oxygen   3924 non-null   float64\n",
      "dtypes: float64(12), int64(1), object(10)\n",
      "memory usage: 737.4+ KB\n"
     ]
    }
   ],
   "source": [
    "data.info()"
   ]
  },
  {
   "cell_type": "code",
   "execution_count": 769,
   "metadata": {},
   "outputs": [
    {
     "data": {
      "text/plain": [
       "array(['Married-civ-spouse', 'Never-married', 'Separated', 'Divorced',\n",
       "       'Married-spouse-absent', 'Widowed', 'Married-AF-spouse', nan],\n",
       "      dtype=object)"
      ]
     },
     "execution_count": 769,
     "metadata": {},
     "output_type": "execute_result"
    }
   ],
   "source": [
    "data['marital-status'].unique()"
   ]
  },
  {
   "cell_type": "code",
   "execution_count": 770,
   "metadata": {},
   "outputs": [
    {
     "data": {
      "text/plain": [
       "array(['Married', 'Not-Married', nan], dtype=object)"
      ]
     },
     "execution_count": 770,
     "metadata": {},
     "output_type": "execute_result"
    }
   ],
   "source": [
    "data['relationship'].unique()"
   ]
  },
  {
   "cell_type": "code",
   "execution_count": null,
   "metadata": {},
   "outputs": [],
   "source": []
  }
 ],
 "metadata": {
  "kernelspec": {
   "display_name": "Python 3",
   "language": "python",
   "name": "python3"
  },
  "language_info": {
   "codemirror_mode": {
    "name": "ipython",
    "version": 3
   },
   "file_extension": ".py",
   "mimetype": "text/x-python",
   "name": "python",
   "nbconvert_exporter": "python",
   "pygments_lexer": "ipython3",
   "version": "3.8.2"
  }
 },
 "nbformat": 4,
 "nbformat_minor": 4
}
